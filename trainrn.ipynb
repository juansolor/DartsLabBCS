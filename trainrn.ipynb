{
 "cells": [
  {
   "cell_type": "markdown",
   "id": "2184c3a7",
   "metadata": {
    "papermill": {
     "duration": 0.016476,
     "end_time": "2023-03-15T01:58:19.962586",
     "exception": false,
     "start_time": "2023-03-15T01:58:19.946110",
     "status": "completed"
    },
    "tags": []
   },
   "source": [
    "https://unit8co.github.io/darts/examples/03-FFT-examples.html"
   ]
  },
  {
   "cell_type": "markdown",
   "id": "027ebca8",
   "metadata": {
    "papermill": {
     "duration": 0.014676,
     "end_time": "2023-03-15T01:58:19.992326",
     "exception": false,
     "start_time": "2023-03-15T01:58:19.977650",
     "status": "completed"
    },
    "tags": []
   },
   "source": [
    "https://medium.com/unit8-machine-learning-publication/time-series-forecasting-using-past-and-future-external-data-with-darts-1f0539585993"
   ]
  },
  {
   "cell_type": "code",
   "execution_count": 1,
   "id": "5fad77e1",
   "metadata": {
    "execution": {
     "iopub.execute_input": "2023-03-15T01:58:20.024847Z",
     "iopub.status.busy": "2023-03-15T01:58:20.023902Z",
     "iopub.status.idle": "2023-03-15T01:59:02.359901Z",
     "shell.execute_reply": "2023-03-15T01:59:02.358542Z"
    },
    "papermill": {
     "duration": 42.355576,
     "end_time": "2023-03-15T01:59:02.362586",
     "exception": false,
     "start_time": "2023-03-15T01:58:20.007010",
     "status": "completed"
    },
    "tags": []
   },
   "outputs": [
    {
     "name": "stdout",
     "output_type": "stream",
     "text": [
      "Collecting darts\r\n",
      "  Downloading darts-0.23.1-py3-none-any.whl (592 kB)\r\n",
      "\u001b[2K     \u001b[90m━━━━━━━━━━━━━━━━━━━━━━━━━━━━━━━━━━━━━━\u001b[0m \u001b[32m592.0/592.0 kB\u001b[0m \u001b[31m10.3 MB/s\u001b[0m eta \u001b[36m0:00:00\u001b[0m\r\n",
      "\u001b[?25hCollecting tbats>=1.1.0\r\n",
      "  Downloading tbats-1.1.2-py3-none-any.whl (43 kB)\r\n",
      "\u001b[2K     \u001b[90m━━━━━━━━━━━━━━━━━━━━━━━━━━━━━━━━━━━━━━━━\u001b[0m \u001b[32m43.8/43.8 kB\u001b[0m \u001b[31m5.1 MB/s\u001b[0m eta \u001b[36m0:00:00\u001b[0m\r\n",
      "\u001b[?25hRequirement already satisfied: statsmodels>=0.13.0 in /opt/conda/lib/python3.7/site-packages (from darts) (0.13.2)\r\n",
      "Requirement already satisfied: prophet>=1.1.1 in /opt/conda/lib/python3.7/site-packages (from darts) (1.1.1)\r\n",
      "Requirement already satisfied: scikit-learn>=1.0.1 in /opt/conda/lib/python3.7/site-packages (from darts) (1.0.2)\r\n",
      "Requirement already satisfied: holidays>=0.11.1 in /opt/conda/lib/python3.7/site-packages (from darts) (0.16)\r\n",
      "Requirement already satisfied: requests>=2.22.0 in /opt/conda/lib/python3.7/site-packages (from darts) (2.28.1)\r\n",
      "Collecting nfoursid>=1.0.0\r\n",
      "  Downloading nfoursid-1.0.1-py3-none-any.whl (16 kB)\r\n",
      "Requirement already satisfied: joblib>=0.16.0 in /opt/conda/lib/python3.7/site-packages (from darts) (1.0.1)\r\n",
      "Requirement already satisfied: xarray>=0.17.0 in /opt/conda/lib/python3.7/site-packages (from darts) (0.20.2)\r\n",
      "Requirement already satisfied: matplotlib>=3.3.0 in /opt/conda/lib/python3.7/site-packages (from darts) (3.5.3)\r\n",
      "Requirement already satisfied: pandas>=1.0.5 in /opt/conda/lib/python3.7/site-packages (from darts) (1.3.5)\r\n",
      "Requirement already satisfied: lightgbm>=3.2.0 in /opt/conda/lib/python3.7/site-packages (from darts) (3.3.2)\r\n",
      "Requirement already satisfied: shap>=0.40.0 in /opt/conda/lib/python3.7/site-packages (from darts) (0.41.0)\r\n",
      "Requirement already satisfied: tqdm>=4.60.0 in /opt/conda/lib/python3.7/site-packages (from darts) (4.64.0)\r\n",
      "Collecting pyod>=0.9.5\r\n",
      "  Downloading pyod-1.0.8.tar.gz (149 kB)\r\n",
      "\u001b[2K     \u001b[90m━━━━━━━━━━━━━━━━━━━━━━━━━━━━━━━━━━━━━━\u001b[0m \u001b[32m150.0/150.0 kB\u001b[0m \u001b[31m17.5 MB/s\u001b[0m eta \u001b[36m0:00:00\u001b[0m\r\n",
      "\u001b[?25h  Preparing metadata (setup.py) ... \u001b[?25l-\b \bdone\r\n",
      "\u001b[?25hCollecting statsforecast>=1.0.0\r\n",
      "  Downloading statsforecast-1.5.0-py3-none-any.whl (99 kB)\r\n",
      "\u001b[2K     \u001b[90m━━━━━━━━━━━━━━━━━━━━━━━━━━━━━━━━━━━━━━\u001b[0m \u001b[32m100.0/100.0 kB\u001b[0m \u001b[31m12.5 MB/s\u001b[0m eta \u001b[36m0:00:00\u001b[0m\r\n",
      "\u001b[?25hRequirement already satisfied: torch>=1.8.0 in /opt/conda/lib/python3.7/site-packages (from darts) (1.11.0)\r\n",
      "Requirement already satisfied: scipy>=1.3.2 in /opt/conda/lib/python3.7/site-packages (from darts) (1.7.3)\r\n",
      "Collecting pmdarima>=1.8.0\r\n",
      "  Downloading pmdarima-2.0.2-cp37-cp37m-manylinux_2_17_x86_64.manylinux2014_x86_64.manylinux_2_28_x86_64.whl (1.8 MB)\r\n",
      "\u001b[2K     \u001b[90m━━━━━━━━━━━━━━━━━━━━━━━━━━━━━━━━━━━━━━━━\u001b[0m \u001b[32m1.8/1.8 MB\u001b[0m \u001b[31m47.8 MB/s\u001b[0m eta \u001b[36m0:00:00\u001b[0m\r\n",
      "\u001b[?25hRequirement already satisfied: catboost>=1.0.6 in /opt/conda/lib/python3.7/site-packages (from darts) (1.1)\r\n",
      "Requirement already satisfied: xgboost>=1.6.0 in /opt/conda/lib/python3.7/site-packages (from darts) (1.6.2)\r\n",
      "Requirement already satisfied: numpy>=1.19.0 in /opt/conda/lib/python3.7/site-packages (from darts) (1.21.6)\r\n",
      "Requirement already satisfied: pytorch-lightning>=1.5.0 in /opt/conda/lib/python3.7/site-packages (from darts) (1.7.7)\r\n",
      "Requirement already satisfied: six in /opt/conda/lib/python3.7/site-packages (from catboost>=1.0.6->darts) (1.15.0)\r\n",
      "Requirement already satisfied: graphviz in /opt/conda/lib/python3.7/site-packages (from catboost>=1.0.6->darts) (0.8.4)\r\n",
      "Requirement already satisfied: plotly in /opt/conda/lib/python3.7/site-packages (from catboost>=1.0.6->darts) (5.10.0)\r\n",
      "Requirement already satisfied: python-dateutil in /opt/conda/lib/python3.7/site-packages (from holidays>=0.11.1->darts) (2.8.2)\r\n",
      "Requirement already satisfied: convertdate>=2.3.0 in /opt/conda/lib/python3.7/site-packages (from holidays>=0.11.1->darts) (2.4.0)\r\n",
      "Requirement already satisfied: korean-lunar-calendar in /opt/conda/lib/python3.7/site-packages (from holidays>=0.11.1->darts) (0.3.1)\r\n",
      "Requirement already satisfied: hijri-converter in /opt/conda/lib/python3.7/site-packages (from holidays>=0.11.1->darts) (2.2.4)\r\n",
      "Requirement already satisfied: wheel in /opt/conda/lib/python3.7/site-packages (from lightgbm>=3.2.0->darts) (0.37.1)\r\n",
      "Requirement already satisfied: kiwisolver>=1.0.1 in /opt/conda/lib/python3.7/site-packages (from matplotlib>=3.3.0->darts) (1.4.3)\r\n",
      "Requirement already satisfied: packaging>=20.0 in /opt/conda/lib/python3.7/site-packages (from matplotlib>=3.3.0->darts) (21.3)\r\n",
      "Requirement already satisfied: fonttools>=4.22.0 in /opt/conda/lib/python3.7/site-packages (from matplotlib>=3.3.0->darts) (4.33.3)\r\n",
      "Requirement already satisfied: pillow>=6.2.0 in /opt/conda/lib/python3.7/site-packages (from matplotlib>=3.3.0->darts) (9.1.1)\r\n",
      "Requirement already satisfied: pyparsing>=2.2.1 in /opt/conda/lib/python3.7/site-packages (from matplotlib>=3.3.0->darts) (3.0.9)\r\n",
      "Requirement already satisfied: cycler>=0.10 in /opt/conda/lib/python3.7/site-packages (from matplotlib>=3.3.0->darts) (0.11.0)\r\n",
      "Requirement already satisfied: pytz>=2017.3 in /opt/conda/lib/python3.7/site-packages (from pandas>=1.0.5->darts) (2022.1)\r\n",
      "Requirement already satisfied: urllib3 in /opt/conda/lib/python3.7/site-packages (from pmdarima>=1.8.0->darts) (1.26.12)\r\n",
      "Requirement already satisfied: Cython!=0.29.18,!=0.29.31,>=0.29 in /opt/conda/lib/python3.7/site-packages (from pmdarima>=1.8.0->darts) (0.29.32)\r\n",
      "Requirement already satisfied: setuptools!=50.0.0,>=38.6.0 in /opt/conda/lib/python3.7/site-packages (from pmdarima>=1.8.0->darts) (59.8.0)\r\n",
      "Requirement already satisfied: LunarCalendar>=0.0.9 in /opt/conda/lib/python3.7/site-packages (from prophet>=1.1.1->darts) (0.0.9)\r\n",
      "Requirement already satisfied: cmdstanpy>=1.0.4 in /opt/conda/lib/python3.7/site-packages (from prophet>=1.1.1->darts) (1.0.7)\r\n",
      "Requirement already satisfied: setuptools-git>=1.2 in /opt/conda/lib/python3.7/site-packages (from prophet>=1.1.1->darts) (1.2)\r\n",
      "Requirement already satisfied: numba>=0.51 in /opt/conda/lib/python3.7/site-packages (from pyod>=0.9.5->darts) (0.55.2)\r\n",
      "Requirement already satisfied: pyDeprecate>=0.3.1 in /opt/conda/lib/python3.7/site-packages (from pytorch-lightning>=1.5.0->darts) (0.3.2)\r\n",
      "Requirement already satisfied: fsspec[http]!=2021.06.0,>=2021.05.0 in /opt/conda/lib/python3.7/site-packages (from pytorch-lightning>=1.5.0->darts) (2022.8.2)\r\n",
      "Requirement already satisfied: tensorboard>=2.9.1 in /opt/conda/lib/python3.7/site-packages (from pytorch-lightning>=1.5.0->darts) (2.10.1)\r\n",
      "Requirement already satisfied: torchmetrics>=0.7.0 in /opt/conda/lib/python3.7/site-packages (from pytorch-lightning>=1.5.0->darts) (0.10.0)\r\n",
      "Requirement already satisfied: PyYAML>=5.4 in /opt/conda/lib/python3.7/site-packages (from pytorch-lightning>=1.5.0->darts) (6.0)\r\n",
      "Requirement already satisfied: typing-extensions>=4.0.0 in /opt/conda/lib/python3.7/site-packages (from pytorch-lightning>=1.5.0->darts) (4.1.1)\r\n",
      "Requirement already satisfied: certifi>=2017.4.17 in /opt/conda/lib/python3.7/site-packages (from requests>=2.22.0->darts) (2022.9.24)\r\n",
      "Requirement already satisfied: charset-normalizer<3,>=2 in /opt/conda/lib/python3.7/site-packages (from requests>=2.22.0->darts) (2.1.0)\r\n",
      "Requirement already satisfied: idna<4,>=2.5 in /opt/conda/lib/python3.7/site-packages (from requests>=2.22.0->darts) (3.3)\r\n",
      "Requirement already satisfied: threadpoolctl>=2.0.0 in /opt/conda/lib/python3.7/site-packages (from scikit-learn>=1.0.1->darts) (3.1.0)\r\n",
      "Requirement already satisfied: slicer==0.0.7 in /opt/conda/lib/python3.7/site-packages (from shap>=0.40.0->darts) (0.0.7)\r\n",
      "Requirement already satisfied: cloudpickle in /opt/conda/lib/python3.7/site-packages (from shap>=0.40.0->darts) (2.1.0)\r\n",
      "Collecting plotly-resampler\r\n",
      "  Downloading plotly_resampler-0.8.3.2.tar.gz (46 kB)\r\n",
      "\u001b[2K     \u001b[90m━━━━━━━━━━━━━━━━━━━━━━━━━━━━━━━━━━━━━━━━\u001b[0m \u001b[32m46.4/46.4 kB\u001b[0m \u001b[31m4.0 MB/s\u001b[0m eta \u001b[36m0:00:00\u001b[0m\r\n",
      "\u001b[?25h  Installing build dependencies ... \u001b[?25l-\b \b\\\b \b|\b \b/\b \b-\b \b\\\b \b|\b \b/\b \b-\b \b\\\b \bdone\r\n",
      "\u001b[?25h  Getting requirements to build wheel ... \u001b[?25ldone\r\n",
      "\u001b[?25h  Preparing metadata (pyproject.toml) ... \u001b[?25ldone\r\n",
      "\u001b[?25hCollecting fugue>=0.8.1\r\n",
      "  Downloading fugue-0.8.1-py3-none-any.whl (364 kB)\r\n",
      "\u001b[2K     \u001b[90m━━━━━━━━━━━━━━━━━━━━━━━━━━━━━━━━━━━━━━\u001b[0m \u001b[32m364.4/364.4 kB\u001b[0m \u001b[31m30.3 MB/s\u001b[0m eta \u001b[36m0:00:00\u001b[0m\r\n",
      "\u001b[?25hRequirement already satisfied: patsy>=0.5.2 in /opt/conda/lib/python3.7/site-packages (from statsmodels>=0.13.0->darts) (0.5.2)\r\n",
      "Requirement already satisfied: importlib-metadata in /opt/conda/lib/python3.7/site-packages (from xarray>=0.17.0->darts) (4.13.0)\r\n",
      "Requirement already satisfied: ujson in /opt/conda/lib/python3.7/site-packages (from cmdstanpy>=1.0.4->prophet>=1.1.1->darts) (5.3.0)\r\n",
      "Requirement already satisfied: pymeeus<=1,>=0.3.13 in /opt/conda/lib/python3.7/site-packages (from convertdate>=2.3.0->holidays>=0.11.1->darts) (0.5.11)\r\n",
      "Requirement already satisfied: aiohttp!=4.0.0a0,!=4.0.0a1 in /opt/conda/lib/python3.7/site-packages (from fsspec[http]!=2021.06.0,>=2021.05.0->pytorch-lightning>=1.5.0->darts) (3.8.1)\r\n",
      "Collecting sqlglot\r\n",
      "  Downloading sqlglot-11.3.7-py3-none-any.whl (238 kB)\r\n",
      "\u001b[2K     \u001b[90m━━━━━━━━━━━━━━━━━━━━━━━━━━━━━━━━━━━━━━\u001b[0m \u001b[32m238.2/238.2 kB\u001b[0m \u001b[31m22.7 MB/s\u001b[0m eta \u001b[36m0:00:00\u001b[0m\r\n",
      "\u001b[?25hCollecting adagio>=0.2.4\r\n",
      "  Downloading adagio-0.2.4-py3-none-any.whl (26 kB)\r\n",
      "Requirement already satisfied: jinja2 in /opt/conda/lib/python3.7/site-packages (from fugue>=0.8.1->statsforecast>=1.0.0->darts) (3.1.2)\r\n",
      "Collecting qpd>=0.4.0\r\n",
      "  Downloading qpd-0.4.0-py3-none-any.whl (187 kB)\r\n",
      "\u001b[2K     \u001b[90m━━━━━━━━━━━━━━━━━━━━━━━━━━━━━━━━━━━━━━\u001b[0m \u001b[32m187.8/187.8 kB\u001b[0m \u001b[31m20.7 MB/s\u001b[0m eta \u001b[36m0:00:00\u001b[0m\r\n",
      "\u001b[?25hRequirement already satisfied: pyarrow>=0.15.1 in /opt/conda/lib/python3.7/site-packages (from fugue>=0.8.1->statsforecast>=1.0.0->darts) (5.0.0)\r\n",
      "Collecting triad>=0.8.1\r\n",
      "  Downloading triad-0.8.3-py3-none-any.whl (72 kB)\r\n",
      "\u001b[2K     \u001b[90m━━━━━━━━━━━━━━━━━━━━━━━━━━━━━━━━━━━━━━━━\u001b[0m \u001b[32m72.5/72.5 kB\u001b[0m \u001b[31m9.4 MB/s\u001b[0m eta \u001b[36m0:00:00\u001b[0m\r\n",
      "\u001b[?25hRequirement already satisfied: sqlalchemy in /opt/conda/lib/python3.7/site-packages (from fugue>=0.8.1->statsforecast>=1.0.0->darts) (1.4.39)\r\n",
      "Collecting fugue-sql-antlr>=0.1.5\r\n",
      "  Downloading fugue-sql-antlr-0.1.5.tar.gz (154 kB)\r\n",
      "\u001b[2K     \u001b[90m━━━━━━━━━━━━━━━━━━━━━━━━━━━━━━━━━━━━━━\u001b[0m \u001b[32m154.1/154.1 kB\u001b[0m \u001b[31m14.5 MB/s\u001b[0m eta \u001b[36m0:00:00\u001b[0m\r\n",
      "\u001b[?25h  Preparing metadata (setup.py) ... \u001b[?25l-\b \bdone\r\n",
      "\u001b[?25hRequirement already satisfied: ephem>=3.7.5.3 in /opt/conda/lib/python3.7/site-packages (from LunarCalendar>=0.0.9->prophet>=1.1.1->darts) (4.1.3)\r\n",
      "Requirement already satisfied: llvmlite<0.39,>=0.38.0rc1 in /opt/conda/lib/python3.7/site-packages (from numba>=0.51->pyod>=0.9.5->darts) (0.38.1)\r\n",
      "Requirement already satisfied: werkzeug>=1.0.1 in /opt/conda/lib/python3.7/site-packages (from tensorboard>=2.9.1->pytorch-lightning>=1.5.0->darts) (2.2.2)\r\n",
      "Requirement already satisfied: google-auth<3,>=1.6.3 in /opt/conda/lib/python3.7/site-packages (from tensorboard>=2.9.1->pytorch-lightning>=1.5.0->darts) (1.35.0)\r\n",
      "Requirement already satisfied: protobuf<3.20,>=3.9.2 in /opt/conda/lib/python3.7/site-packages (from tensorboard>=2.9.1->pytorch-lightning>=1.5.0->darts) (3.19.4)\r\n",
      "Requirement already satisfied: tensorboard-plugin-wit>=1.6.0 in /opt/conda/lib/python3.7/site-packages (from tensorboard>=2.9.1->pytorch-lightning>=1.5.0->darts) (1.8.1)\r\n",
      "Requirement already satisfied: grpcio>=1.24.3 in /opt/conda/lib/python3.7/site-packages (from tensorboard>=2.9.1->pytorch-lightning>=1.5.0->darts) (1.43.0)\r\n",
      "Requirement already satisfied: google-auth-oauthlib<0.5,>=0.4.1 in /opt/conda/lib/python3.7/site-packages (from tensorboard>=2.9.1->pytorch-lightning>=1.5.0->darts) (0.4.6)\r\n",
      "Requirement already satisfied: markdown>=2.6.8 in /opt/conda/lib/python3.7/site-packages (from tensorboard>=2.9.1->pytorch-lightning>=1.5.0->darts) (3.3.7)\r\n",
      "Requirement already satisfied: tensorboard-data-server<0.7.0,>=0.6.0 in /opt/conda/lib/python3.7/site-packages (from tensorboard>=2.9.1->pytorch-lightning>=1.5.0->darts) (0.6.1)\r\n",
      "Requirement already satisfied: absl-py>=0.4 in /opt/conda/lib/python3.7/site-packages (from tensorboard>=2.9.1->pytorch-lightning>=1.5.0->darts) (0.15.0)\r\n",
      "Requirement already satisfied: zipp>=0.5 in /opt/conda/lib/python3.7/site-packages (from importlib-metadata->xarray>=0.17.0->darts) (3.8.0)\r\n",
      "Requirement already satisfied: tenacity>=6.2.0 in /opt/conda/lib/python3.7/site-packages (from plotly->catboost>=1.0.6->darts) (8.0.1)\r\n",
      "Collecting dash<3.0.0,>=2.2.0\r\n",
      "  Downloading dash-2.8.1-py3-none-any.whl (9.9 MB)\r\n",
      "\u001b[2K     \u001b[90m━━━━━━━━━━━━━━━━━━━━━━━━━━━━━━━━━━━━━━━━\u001b[0m \u001b[32m9.9/9.9 MB\u001b[0m \u001b[31m75.1 MB/s\u001b[0m eta \u001b[36m0:00:00\u001b[0m\r\n",
      "\u001b[?25hCollecting orjson<4.0.0,>=3.8.0\r\n",
      "  Downloading orjson-3.8.7-cp37-cp37m-manylinux_2_28_x86_64.whl (140 kB)\r\n",
      "\u001b[2K     \u001b[90m━━━━━━━━━━━━━━━━━━━━━━━━━━━━━━━━━━━━━━\u001b[0m \u001b[32m140.8/140.8 kB\u001b[0m \u001b[31m17.0 MB/s\u001b[0m eta \u001b[36m0:00:00\u001b[0m\r\n",
      "\u001b[?25hCollecting jupyter-dash>=0.4.2\r\n",
      "  Downloading jupyter_dash-0.4.2-py3-none-any.whl (23 kB)\r\n",
      "Collecting trace-updater>=0.0.8\r\n",
      "  Downloading trace_updater-0.0.9-py3-none-any.whl (185 kB)\r\n",
      "\u001b[2K     \u001b[90m━━━━━━━━━━━━━━━━━━━━━━━━━━━━━━━━━━━━━━\u001b[0m \u001b[32m185.1/185.1 kB\u001b[0m \u001b[31m20.6 MB/s\u001b[0m eta \u001b[36m0:00:00\u001b[0m\r\n",
      "\u001b[?25hRequirement already satisfied: aiosignal>=1.1.2 in /opt/conda/lib/python3.7/site-packages (from aiohttp!=4.0.0a0,!=4.0.0a1->fsspec[http]!=2021.06.0,>=2021.05.0->pytorch-lightning>=1.5.0->darts) (1.2.0)\r\n",
      "Requirement already satisfied: yarl<2.0,>=1.0 in /opt/conda/lib/python3.7/site-packages (from aiohttp!=4.0.0a0,!=4.0.0a1->fsspec[http]!=2021.06.0,>=2021.05.0->pytorch-lightning>=1.5.0->darts) (1.7.2)\r\n",
      "Requirement already satisfied: multidict<7.0,>=4.5 in /opt/conda/lib/python3.7/site-packages (from aiohttp!=4.0.0a0,!=4.0.0a1->fsspec[http]!=2021.06.0,>=2021.05.0->pytorch-lightning>=1.5.0->darts) (6.0.2)\r\n",
      "Requirement already satisfied: attrs>=17.3.0 in /opt/conda/lib/python3.7/site-packages (from aiohttp!=4.0.0a0,!=4.0.0a1->fsspec[http]!=2021.06.0,>=2021.05.0->pytorch-lightning>=1.5.0->darts) (21.4.0)\r\n",
      "Requirement already satisfied: frozenlist>=1.1.1 in /opt/conda/lib/python3.7/site-packages (from aiohttp!=4.0.0a0,!=4.0.0a1->fsspec[http]!=2021.06.0,>=2021.05.0->pytorch-lightning>=1.5.0->darts) (1.3.0)\r\n",
      "Requirement already satisfied: asynctest==0.13.0 in /opt/conda/lib/python3.7/site-packages (from aiohttp!=4.0.0a0,!=4.0.0a1->fsspec[http]!=2021.06.0,>=2021.05.0->pytorch-lightning>=1.5.0->darts) (0.13.0)\r\n",
      "Requirement already satisfied: async-timeout<5.0,>=4.0.0a3 in /opt/conda/lib/python3.7/site-packages (from aiohttp!=4.0.0a0,!=4.0.0a1->fsspec[http]!=2021.06.0,>=2021.05.0->pytorch-lightning>=1.5.0->darts) (4.0.2)\r\n",
      "Collecting dash-core-components==2.0.0\r\n",
      "  Downloading dash_core_components-2.0.0-py3-none-any.whl (3.8 kB)\r\n",
      "Requirement already satisfied: Flask>=1.0.4 in /opt/conda/lib/python3.7/site-packages (from dash<3.0.0,>=2.2.0->plotly-resampler->statsforecast>=1.0.0->darts) (2.2.2)\r\n",
      "Collecting dash-html-components==2.0.0\r\n",
      "  Downloading dash_html_components-2.0.0-py3-none-any.whl (4.1 kB)\r\n",
      "Collecting dash-table==5.0.0\r\n",
      "  Downloading dash_table-5.0.0-py3-none-any.whl (3.9 kB)\r\n",
      "Collecting antlr4-python3-runtime<4.12,>=4.11.1\r\n",
      "  Downloading antlr4_python3_runtime-4.11.1-py3-none-any.whl (144 kB)\r\n",
      "\u001b[2K     \u001b[90m━━━━━━━━━━━━━━━━━━━━━━━━━━━━━━━━━━━━━━\u001b[0m \u001b[32m144.2/144.2 kB\u001b[0m \u001b[31m18.2 MB/s\u001b[0m eta \u001b[36m0:00:00\u001b[0m\r\n",
      "\u001b[?25hRequirement already satisfied: pyasn1-modules>=0.2.1 in /opt/conda/lib/python3.7/site-packages (from google-auth<3,>=1.6.3->tensorboard>=2.9.1->pytorch-lightning>=1.5.0->darts) (0.2.7)\r\n",
      "Requirement already satisfied: rsa<5,>=3.1.4 in /opt/conda/lib/python3.7/site-packages (from google-auth<3,>=1.6.3->tensorboard>=2.9.1->pytorch-lightning>=1.5.0->darts) (4.8)\r\n",
      "Requirement already satisfied: cachetools<5.0,>=2.0.0 in /opt/conda/lib/python3.7/site-packages (from google-auth<3,>=1.6.3->tensorboard>=2.9.1->pytorch-lightning>=1.5.0->darts) (4.2.4)\r\n",
      "Requirement already satisfied: requests-oauthlib>=0.7.0 in /opt/conda/lib/python3.7/site-packages (from google-auth-oauthlib<0.5,>=0.4.1->tensorboard>=2.9.1->pytorch-lightning>=1.5.0->darts) (1.3.1)\r\n",
      "Requirement already satisfied: ipykernel in /opt/conda/lib/python3.7/site-packages (from jupyter-dash>=0.4.2->plotly-resampler->statsforecast>=1.0.0->darts) (6.15.0)\r\n",
      "Requirement already satisfied: nest-asyncio in /opt/conda/lib/python3.7/site-packages (from jupyter-dash>=0.4.2->plotly-resampler->statsforecast>=1.0.0->darts) (1.5.5)\r\n",
      "Collecting ansi2html\r\n",
      "  Downloading ansi2html-1.8.0-py3-none-any.whl (16 kB)\r\n",
      "Requirement already satisfied: retrying in /opt/conda/lib/python3.7/site-packages (from jupyter-dash>=0.4.2->plotly-resampler->statsforecast>=1.0.0->darts) (1.3.3)\r\n",
      "Requirement already satisfied: ipython in /opt/conda/lib/python3.7/site-packages (from jupyter-dash>=0.4.2->plotly-resampler->statsforecast>=1.0.0->darts) (7.33.0)\r\n",
      "Collecting fs\r\n",
      "  Downloading fs-2.4.16-py2.py3-none-any.whl (135 kB)\r\n",
      "\u001b[2K     \u001b[90m━━━━━━━━━━━━━━━━━━━━━━━━━━━━━━━━━━━━━━\u001b[0m \u001b[32m135.3/135.3 kB\u001b[0m \u001b[31m13.8 MB/s\u001b[0m eta \u001b[36m0:00:00\u001b[0m\r\n",
      "\u001b[?25hRequirement already satisfied: MarkupSafe>=2.1.1 in /opt/conda/lib/python3.7/site-packages (from werkzeug>=1.0.1->tensorboard>=2.9.1->pytorch-lightning>=1.5.0->darts) (2.1.1)\r\n",
      "Requirement already satisfied: greenlet!=0.4.17 in /opt/conda/lib/python3.7/site-packages (from sqlalchemy->fugue>=0.8.1->statsforecast>=1.0.0->darts) (1.1.2)\r\n",
      "Requirement already satisfied: click>=8.0 in /opt/conda/lib/python3.7/site-packages (from Flask>=1.0.4->dash<3.0.0,>=2.2.0->plotly-resampler->statsforecast>=1.0.0->darts) (8.0.4)\r\n",
      "Requirement already satisfied: itsdangerous>=2.0 in /opt/conda/lib/python3.7/site-packages (from Flask>=1.0.4->dash<3.0.0,>=2.2.0->plotly-resampler->statsforecast>=1.0.0->darts) (2.1.2)\r\n",
      "Requirement already satisfied: pyasn1<0.5.0,>=0.4.6 in /opt/conda/lib/python3.7/site-packages (from pyasn1-modules>=0.2.1->google-auth<3,>=1.6.3->tensorboard>=2.9.1->pytorch-lightning>=1.5.0->darts) (0.4.8)\r\n",
      "Requirement already satisfied: oauthlib>=3.0.0 in /opt/conda/lib/python3.7/site-packages (from requests-oauthlib>=0.7.0->google-auth-oauthlib<0.5,>=0.4.1->tensorboard>=2.9.1->pytorch-lightning>=1.5.0->darts) (3.2.0)\r\n",
      "Requirement already satisfied: appdirs~=1.4.3 in /opt/conda/lib/python3.7/site-packages (from fs->triad>=0.8.1->fugue>=0.8.1->statsforecast>=1.0.0->darts) (1.4.4)\r\n",
      "Requirement already satisfied: matplotlib-inline>=0.1 in /opt/conda/lib/python3.7/site-packages (from ipykernel->jupyter-dash>=0.4.2->plotly-resampler->statsforecast>=1.0.0->darts) (0.1.3)\r\n",
      "Requirement already satisfied: debugpy>=1.0 in /opt/conda/lib/python3.7/site-packages (from ipykernel->jupyter-dash>=0.4.2->plotly-resampler->statsforecast>=1.0.0->darts) (1.6.0)\r\n",
      "Requirement already satisfied: traitlets>=5.1.0 in /opt/conda/lib/python3.7/site-packages (from ipykernel->jupyter-dash>=0.4.2->plotly-resampler->statsforecast>=1.0.0->darts) (5.3.0)\r\n",
      "Requirement already satisfied: pyzmq>=17 in /opt/conda/lib/python3.7/site-packages (from ipykernel->jupyter-dash>=0.4.2->plotly-resampler->statsforecast>=1.0.0->darts) (23.2.0)\r\n",
      "Requirement already satisfied: psutil in /opt/conda/lib/python3.7/site-packages (from ipykernel->jupyter-dash>=0.4.2->plotly-resampler->statsforecast>=1.0.0->darts) (5.9.1)\r\n",
      "Requirement already satisfied: tornado>=6.1 in /opt/conda/lib/python3.7/site-packages (from ipykernel->jupyter-dash>=0.4.2->plotly-resampler->statsforecast>=1.0.0->darts) (6.1)\r\n",
      "Requirement already satisfied: jupyter-client>=6.1.12 in /opt/conda/lib/python3.7/site-packages (from ipykernel->jupyter-dash>=0.4.2->plotly-resampler->statsforecast>=1.0.0->darts) (7.3.4)\r\n",
      "Requirement already satisfied: backcall in /opt/conda/lib/python3.7/site-packages (from ipython->jupyter-dash>=0.4.2->plotly-resampler->statsforecast>=1.0.0->darts) (0.2.0)\r\n",
      "Requirement already satisfied: decorator in /opt/conda/lib/python3.7/site-packages (from ipython->jupyter-dash>=0.4.2->plotly-resampler->statsforecast>=1.0.0->darts) (5.1.1)\r\n",
      "Requirement already satisfied: pygments in /opt/conda/lib/python3.7/site-packages (from ipython->jupyter-dash>=0.4.2->plotly-resampler->statsforecast>=1.0.0->darts) (2.12.0)\r\n",
      "Requirement already satisfied: pexpect>4.3 in /opt/conda/lib/python3.7/site-packages (from ipython->jupyter-dash>=0.4.2->plotly-resampler->statsforecast>=1.0.0->darts) (4.8.0)\r\n",
      "Requirement already satisfied: pickleshare in /opt/conda/lib/python3.7/site-packages (from ipython->jupyter-dash>=0.4.2->plotly-resampler->statsforecast>=1.0.0->darts) (0.7.5)\r\n",
      "Requirement already satisfied: prompt-toolkit!=3.0.0,!=3.0.1,<3.1.0,>=2.0.0 in /opt/conda/lib/python3.7/site-packages (from ipython->jupyter-dash>=0.4.2->plotly-resampler->statsforecast>=1.0.0->darts) (3.0.30)\r\n",
      "Requirement already satisfied: jedi>=0.16 in /opt/conda/lib/python3.7/site-packages (from ipython->jupyter-dash>=0.4.2->plotly-resampler->statsforecast>=1.0.0->darts) (0.18.1)\r\n",
      "Requirement already satisfied: parso<0.9.0,>=0.8.0 in /opt/conda/lib/python3.7/site-packages (from jedi>=0.16->ipython->jupyter-dash>=0.4.2->plotly-resampler->statsforecast>=1.0.0->darts) (0.8.3)\r\n",
      "Requirement already satisfied: jupyter-core>=4.9.2 in /opt/conda/lib/python3.7/site-packages (from jupyter-client>=6.1.12->ipykernel->jupyter-dash>=0.4.2->plotly-resampler->statsforecast>=1.0.0->darts) (4.10.0)\r\n",
      "Requirement already satisfied: entrypoints in /opt/conda/lib/python3.7/site-packages (from jupyter-client>=6.1.12->ipykernel->jupyter-dash>=0.4.2->plotly-resampler->statsforecast>=1.0.0->darts) (0.4)\r\n",
      "Requirement already satisfied: ptyprocess>=0.5 in /opt/conda/lib/python3.7/site-packages (from pexpect>4.3->ipython->jupyter-dash>=0.4.2->plotly-resampler->statsforecast>=1.0.0->darts) (0.7.0)\r\n",
      "Requirement already satisfied: wcwidth in /opt/conda/lib/python3.7/site-packages (from prompt-toolkit!=3.0.0,!=3.0.1,<3.1.0,>=2.0.0->ipython->jupyter-dash>=0.4.2->plotly-resampler->statsforecast>=1.0.0->darts) (0.2.5)\r\n",
      "Building wheels for collected packages: pyod, plotly-resampler, fugue-sql-antlr\r\n",
      "  Building wheel for pyod (setup.py) ... \u001b[?25l-\b \b\\\b \b|\b \bdone\r\n",
      "\u001b[?25h  Created wheel for pyod: filename=pyod-1.0.8-py3-none-any.whl size=184055 sha256=139c597e8085da8479b3f37e6dfd328aae316390251c84de7bf0723f369a1685\r\n",
      "  Stored in directory: /root/.cache/pip/wheels/7d/1a/13/65d25a8127951bd0b8a8997e9a6f8a9508ef02370a142ebacb\r\n",
      "  Building wheel for plotly-resampler (pyproject.toml) ... \u001b[?25ldone\r\n",
      "\u001b[?25h  Created wheel for plotly-resampler: filename=plotly_resampler-0.8.3.2-cp37-cp37m-manylinux_2_31_x86_64.whl size=75894 sha256=53f34f4758723ddb20964a401ac48102341dfad75389637ed89e0f9f369cb472\r\n",
      "  Stored in directory: /root/.cache/pip/wheels/15/e3/11/4cb43b3977b5b50f8ae75c591ce8ced3053314635befcad0bd\r\n",
      "  Building wheel for fugue-sql-antlr (setup.py) ... \u001b[?25l-\b \b\\\b \bdone\r\n",
      "\u001b[?25h  Created wheel for fugue-sql-antlr: filename=fugue_sql_antlr-0.1.5-py3-none-any.whl size=157611 sha256=724ab331829b8c579cd651dda3c4628c62a5c836310bda77fa7a65086fab7982\r\n",
      "  Stored in directory: /root/.cache/pip/wheels/4f/a4/ca/98b590d64945d85107ce9d1c3ed35ab2dac53a0160d3c6daf6\r\n",
      "Successfully built pyod plotly-resampler fugue-sql-antlr\r\n",
      "Installing collected packages: trace-updater, sqlglot, dash-table, dash-html-components, dash-core-components, antlr4-python3-runtime, orjson, fs, ansi2html, triad, pyod, nfoursid, pmdarima, fugue-sql-antlr, dash, adagio, tbats, qpd, jupyter-dash, plotly-resampler, fugue, statsforecast, darts\r\n",
      "  Attempting uninstall: orjson\r\n",
      "    Found existing installation: orjson 3.7.5\r\n",
      "    Uninstalling orjson-3.7.5:\r\n",
      "      Successfully uninstalled orjson-3.7.5\r\n",
      "\u001b[31mERROR: pip's dependency resolver does not currently take into account all the packages that are installed. This behaviour is the source of the following dependency conflicts.\r\n",
      "apache-beam 2.40.0 requires dill<0.3.2,>=0.3.1.1, but you have dill 0.3.5.1 which is incompatible.\u001b[0m\u001b[31m\r\n",
      "\u001b[0mSuccessfully installed adagio-0.2.4 ansi2html-1.8.0 antlr4-python3-runtime-4.11.1 darts-0.23.1 dash-2.8.1 dash-core-components-2.0.0 dash-html-components-2.0.0 dash-table-5.0.0 fs-2.4.16 fugue-0.8.1 fugue-sql-antlr-0.1.5 jupyter-dash-0.4.2 nfoursid-1.0.1 orjson-3.8.7 plotly-resampler-0.8.3.2 pmdarima-2.0.2 pyod-1.0.8 qpd-0.4.0 sqlglot-11.3.7 statsforecast-1.5.0 tbats-1.1.2 trace-updater-0.0.9 triad-0.8.3\r\n",
      "\u001b[33mWARNING: Running pip as the 'root' user can result in broken permissions and conflicting behaviour with the system package manager. It is recommended to use a virtual environment instead: https://pip.pypa.io/warnings/venv\u001b[0m\u001b[33m\r\n",
      "\u001b[0mNote: you may need to restart the kernel to use updated packages.\n"
     ]
    }
   ],
   "source": [
    "pip install darts"
   ]
  },
  {
   "cell_type": "code",
   "execution_count": 2,
   "id": "eedfd9ba",
   "metadata": {
    "execution": {
     "iopub.execute_input": "2023-03-15T01:59:02.407560Z",
     "iopub.status.busy": "2023-03-15T01:59:02.407198Z",
     "iopub.status.idle": "2023-03-15T02:02:09.757308Z",
     "shell.execute_reply": "2023-03-15T02:02:09.756072Z"
    },
    "jupyter": {
     "source_hidden": true
    },
    "papermill": {
     "duration": 187.375998,
     "end_time": "2023-03-15T02:02:09.760266",
     "exception": false,
     "start_time": "2023-03-15T01:59:02.384268",
     "status": "completed"
    },
    "tags": []
   },
   "outputs": [
    {
     "name": "stdout",
     "output_type": "stream",
     "text": [
      "Collecting torch-xla==1.9\r\n",
      "  Downloading https://storage.googleapis.com/tpu-pytorch/wheels/torch_xla-1.9-cp37-cp37m-linux_x86_64.whl (149.9 MB)\r\n",
      "\u001b[2K     \u001b[90m━━━━━━━━━━━━━━━━━━━━━━━━━━━━━━━━━━━━━━━\u001b[0m \u001b[32m149.9/149.9 MB\u001b[0m \u001b[31m7.7 MB/s\u001b[0m eta \u001b[36m0:00:00\u001b[0m\r\n",
      "\u001b[?25hCollecting cloud-tpu-client==0.10\r\n",
      "  Downloading cloud_tpu_client-0.10-py3-none-any.whl (7.4 kB)\r\n",
      "Collecting google-api-python-client==1.8.0\r\n",
      "  Downloading google_api_python_client-1.8.0-py3-none-any.whl (57 kB)\r\n",
      "\u001b[2K     \u001b[90m━━━━━━━━━━━━━━━━━━━━━━━━━━━━━━━━━━━━━━━━\u001b[0m \u001b[32m57.7/57.7 kB\u001b[0m \u001b[31m2.4 MB/s\u001b[0m eta \u001b[36m0:00:00\u001b[0m\r\n",
      "\u001b[?25hRequirement already satisfied: oauth2client in /opt/conda/lib/python3.7/site-packages (from cloud-tpu-client==0.10) (4.1.3)\r\n",
      "Requirement already satisfied: uritemplate<4dev,>=3.0.0 in /opt/conda/lib/python3.7/site-packages (from google-api-python-client==1.8.0->cloud-tpu-client==0.10) (3.0.1)\r\n",
      "Requirement already satisfied: httplib2<1dev,>=0.9.2 in /opt/conda/lib/python3.7/site-packages (from google-api-python-client==1.8.0->cloud-tpu-client==0.10) (0.20.4)\r\n",
      "Requirement already satisfied: google-api-core<2dev,>=1.13.0 in /opt/conda/lib/python3.7/site-packages (from google-api-python-client==1.8.0->cloud-tpu-client==0.10) (1.33.2)\r\n",
      "Requirement already satisfied: six<2dev,>=1.6.1 in /opt/conda/lib/python3.7/site-packages (from google-api-python-client==1.8.0->cloud-tpu-client==0.10) (1.15.0)\r\n",
      "Requirement already satisfied: google-auth>=1.4.1 in /opt/conda/lib/python3.7/site-packages (from google-api-python-client==1.8.0->cloud-tpu-client==0.10) (1.35.0)\r\n",
      "Requirement already satisfied: google-auth-httplib2>=0.0.3 in /opt/conda/lib/python3.7/site-packages (from google-api-python-client==1.8.0->cloud-tpu-client==0.10) (0.1.0)\r\n",
      "Requirement already satisfied: pyasn1-modules>=0.0.5 in /opt/conda/lib/python3.7/site-packages (from oauth2client->cloud-tpu-client==0.10) (0.2.7)\r\n",
      "Requirement already satisfied: rsa>=3.1.4 in /opt/conda/lib/python3.7/site-packages (from oauth2client->cloud-tpu-client==0.10) (4.8)\r\n",
      "Requirement already satisfied: pyasn1>=0.1.7 in /opt/conda/lib/python3.7/site-packages (from oauth2client->cloud-tpu-client==0.10) (0.4.8)\r\n",
      "Requirement already satisfied: googleapis-common-protos<2.0dev,>=1.56.2 in /opt/conda/lib/python3.7/site-packages (from google-api-core<2dev,>=1.13.0->google-api-python-client==1.8.0->cloud-tpu-client==0.10) (1.56.3)\r\n",
      "Collecting protobuf!=3.20.0,!=3.20.1,!=4.21.0,!=4.21.1,!=4.21.2,!=4.21.3,!=4.21.4,!=4.21.5,<4.0.0dev,>=3.19.5\r\n",
      "  Downloading protobuf-3.20.3-cp37-cp37m-manylinux_2_5_x86_64.manylinux1_x86_64.whl (1.0 MB)\r\n",
      "\u001b[2K     \u001b[90m━━━━━━━━━━━━━━━━━━━━━━━━━━━━━━━━━━━━━━━━\u001b[0m \u001b[32m1.0/1.0 MB\u001b[0m \u001b[31m18.7 MB/s\u001b[0m eta \u001b[36m0:00:00\u001b[0m\r\n",
      "\u001b[?25hRequirement already satisfied: requests<3.0.0dev,>=2.18.0 in /opt/conda/lib/python3.7/site-packages (from google-api-core<2dev,>=1.13.0->google-api-python-client==1.8.0->cloud-tpu-client==0.10) (2.28.1)\r\n",
      "Requirement already satisfied: cachetools<5.0,>=2.0.0 in /opt/conda/lib/python3.7/site-packages (from google-auth>=1.4.1->google-api-python-client==1.8.0->cloud-tpu-client==0.10) (4.2.4)\r\n",
      "Requirement already satisfied: setuptools>=40.3.0 in /opt/conda/lib/python3.7/site-packages (from google-auth>=1.4.1->google-api-python-client==1.8.0->cloud-tpu-client==0.10) (59.8.0)\r\n",
      "Requirement already satisfied: pyparsing!=3.0.0,!=3.0.1,!=3.0.2,!=3.0.3,<4,>=2.4.2 in /opt/conda/lib/python3.7/site-packages (from httplib2<1dev,>=0.9.2->google-api-python-client==1.8.0->cloud-tpu-client==0.10) (3.0.9)\r\n",
      "Requirement already satisfied: idna<4,>=2.5 in /opt/conda/lib/python3.7/site-packages (from requests<3.0.0dev,>=2.18.0->google-api-core<2dev,>=1.13.0->google-api-python-client==1.8.0->cloud-tpu-client==0.10) (3.3)\r\n",
      "Requirement already satisfied: urllib3<1.27,>=1.21.1 in /opt/conda/lib/python3.7/site-packages (from requests<3.0.0dev,>=2.18.0->google-api-core<2dev,>=1.13.0->google-api-python-client==1.8.0->cloud-tpu-client==0.10) (1.26.12)\r\n",
      "Requirement already satisfied: charset-normalizer<3,>=2 in /opt/conda/lib/python3.7/site-packages (from requests<3.0.0dev,>=2.18.0->google-api-core<2dev,>=1.13.0->google-api-python-client==1.8.0->cloud-tpu-client==0.10) (2.1.0)\r\n",
      "Requirement already satisfied: certifi>=2017.4.17 in /opt/conda/lib/python3.7/site-packages (from requests<3.0.0dev,>=2.18.0->google-api-core<2dev,>=1.13.0->google-api-python-client==1.8.0->cloud-tpu-client==0.10) (2022.9.24)\r\n",
      "Installing collected packages: torch-xla, protobuf, google-api-python-client, cloud-tpu-client\r\n",
      "  Attempting uninstall: protobuf\r\n",
      "    Found existing installation: protobuf 3.19.4\r\n",
      "    Uninstalling protobuf-3.19.4:\r\n",
      "      Successfully uninstalled protobuf-3.19.4\r\n",
      "  Attempting uninstall: google-api-python-client\r\n",
      "    Found existing installation: google-api-python-client 1.12.11\r\n",
      "    Uninstalling google-api-python-client-1.12.11:\r\n",
      "      Successfully uninstalled google-api-python-client-1.12.11\r\n",
      "\u001b[31mERROR: pip's dependency resolver does not currently take into account all the packages that are installed. This behaviour is the source of the following dependency conflicts.\r\n",
      "tensorflow-io 0.21.0 requires tensorflow-io-gcs-filesystem==0.21.0, which is not installed.\r\n",
      "beatrix-jupyterlab 3.1.7 requires google-cloud-bigquery-storage, which is not installed.\r\n",
      "tfx-bsl 1.9.0 requires tensorflow!=2.0.*,!=2.1.*,!=2.2.*,!=2.3.*,!=2.4.*,!=2.5.*,!=2.6.*,!=2.7.*,!=2.8.*,<3,>=1.15.5, but you have tensorflow 2.6.4 which is incompatible.\r\n",
      "tensorflow 2.6.4 requires h5py~=3.1.0, but you have h5py 3.7.0 which is incompatible.\r\n",
      "tensorflow 2.6.4 requires numpy~=1.19.2, but you have numpy 1.21.6 which is incompatible.\r\n",
      "tensorflow 2.6.4 requires tensorboard<2.7,>=2.6.0, but you have tensorboard 2.10.1 which is incompatible.\r\n",
      "tensorflow 2.6.4 requires typing-extensions<3.11,>=3.7, but you have typing-extensions 4.1.1 which is incompatible.\r\n",
      "tensorflow-transform 1.9.0 requires tensorflow!=2.0.*,!=2.1.*,!=2.2.*,!=2.3.*,!=2.4.*,!=2.5.*,!=2.6.*,!=2.7.*,!=2.8.*,<2.10,>=1.15.5, but you have tensorflow 2.6.4 which is incompatible.\r\n",
      "tensorflow-serving-api 2.9.0 requires tensorflow<3,>=2.9.0, but you have tensorflow 2.6.4 which is incompatible.\r\n",
      "tensorboardx 2.5.1 requires protobuf<=3.20.1,>=3.8.0, but you have protobuf 3.20.3 which is incompatible.\r\n",
      "tensorboard 2.10.1 requires protobuf<3.20,>=3.9.2, but you have protobuf 3.20.3 which is incompatible.\r\n",
      "onnx 1.12.0 requires protobuf<=3.20.1,>=3.12.2, but you have protobuf 3.20.3 which is incompatible.\r\n",
      "nnabla 1.31.0 requires protobuf<=3.19.4; platform_system != \"Windows\", but you have protobuf 3.20.3 which is incompatible.\r\n",
      "grpcio-status 1.47.0 requires grpcio>=1.47.0, but you have grpcio 1.43.0 which is incompatible.\r\n",
      "gcsfs 2022.5.0 requires fsspec==2022.5.0, but you have fsspec 2022.8.2 which is incompatible.\r\n",
      "earthengine-api 0.1.327 requires google-api-python-client<2,>=1.12.1, but you have google-api-python-client 1.8.0 which is incompatible.\r\n",
      "apache-beam 2.40.0 requires dill<0.3.2,>=0.3.1.1, but you have dill 0.3.5.1 which is incompatible.\u001b[0m\u001b[31m\r\n",
      "\u001b[0mSuccessfully installed cloud-tpu-client-0.10 google-api-python-client-1.8.0 protobuf-3.20.3 torch-xla-1.9\r\n",
      "\u001b[33mWARNING: Running pip as the 'root' user can result in broken permissions and conflicting behaviour with the system package manager. It is recommended to use a virtual environment instead: https://pip.pypa.io/warnings/venv\u001b[0m\u001b[33m\r\n",
      "\u001b[0mLooking in links: https://download.pytorch.org/whl/cu111/torch_stable.html\r\n",
      "Collecting torch==1.9.0+cu111\r\n",
      "  Downloading https://download.pytorch.org/whl/cu111/torch-1.9.0%2Bcu111-cp37-cp37m-linux_x86_64.whl (2041.3 MB)\r\n",
      "\u001b[2K     \u001b[90m━━━━━━━━━━━━━━━━━━━━━━━━━━━━━━━━━━━━━━━━\u001b[0m \u001b[32m2.0/2.0 GB\u001b[0m \u001b[31m534.8 kB/s\u001b[0m eta \u001b[36m0:00:00\u001b[0m\r\n",
      "\u001b[?25hCollecting torchvision==0.10.0+cu111\r\n",
      "  Downloading https://download.pytorch.org/whl/cu111/torchvision-0.10.0%2Bcu111-cp37-cp37m-linux_x86_64.whl (23.2 MB)\r\n",
      "\u001b[2K     \u001b[90m━━━━━━━━━━━━━━━━━━━━━━━━━━━━━━━━━━━━━━━━\u001b[0m \u001b[32m23.2/23.2 MB\u001b[0m \u001b[31m43.9 MB/s\u001b[0m eta \u001b[36m0:00:00\u001b[0m\r\n",
      "\u001b[?25hCollecting torchtext==0.10.0\r\n",
      "  Downloading torchtext-0.10.0-cp37-cp37m-manylinux1_x86_64.whl (7.6 MB)\r\n",
      "\u001b[2K     \u001b[90m━━━━━━━━━━━━━━━━━━━━━━━━━━━━━━━━━━━━━━━━\u001b[0m \u001b[32m7.6/7.6 MB\u001b[0m \u001b[31m45.0 MB/s\u001b[0m eta \u001b[36m0:00:00\u001b[0m\r\n",
      "\u001b[?25hRequirement already satisfied: typing-extensions in /opt/conda/lib/python3.7/site-packages (from torch==1.9.0+cu111) (4.1.1)\r\n",
      "Requirement already satisfied: numpy in /opt/conda/lib/python3.7/site-packages (from torchvision==0.10.0+cu111) (1.21.6)\r\n",
      "Requirement already satisfied: pillow>=5.3.0 in /opt/conda/lib/python3.7/site-packages (from torchvision==0.10.0+cu111) (9.1.1)\r\n",
      "Requirement already satisfied: tqdm in /opt/conda/lib/python3.7/site-packages (from torchtext==0.10.0) (4.64.0)\r\n",
      "Requirement already satisfied: requests in /opt/conda/lib/python3.7/site-packages (from torchtext==0.10.0) (2.28.1)\r\n",
      "Requirement already satisfied: idna<4,>=2.5 in /opt/conda/lib/python3.7/site-packages (from requests->torchtext==0.10.0) (3.3)\r\n",
      "Requirement already satisfied: urllib3<1.27,>=1.21.1 in /opt/conda/lib/python3.7/site-packages (from requests->torchtext==0.10.0) (1.26.12)\r\n",
      "Requirement already satisfied: charset-normalizer<3,>=2 in /opt/conda/lib/python3.7/site-packages (from requests->torchtext==0.10.0) (2.1.0)\r\n",
      "Requirement already satisfied: certifi>=2017.4.17 in /opt/conda/lib/python3.7/site-packages (from requests->torchtext==0.10.0) (2022.9.24)\r\n",
      "Installing collected packages: torch, torchvision, torchtext\r\n",
      "  Attempting uninstall: torch\r\n",
      "    Found existing installation: torch 1.11.0\r\n",
      "    Uninstalling torch-1.11.0:\r\n",
      "      Successfully uninstalled torch-1.11.0\r\n",
      "  Attempting uninstall: torchvision\r\n",
      "    Found existing installation: torchvision 0.12.0\r\n",
      "    Uninstalling torchvision-0.12.0:\r\n",
      "      Successfully uninstalled torchvision-0.12.0\r\n",
      "  Attempting uninstall: torchtext\r\n",
      "    Found existing installation: torchtext 0.12.0\r\n",
      "    Uninstalling torchtext-0.12.0:\r\n",
      "      Successfully uninstalled torchtext-0.12.0\r\n",
      "\u001b[31mERROR: pip's dependency resolver does not currently take into account all the packages that are installed. This behaviour is the source of the following dependency conflicts.\r\n",
      "allennlp 2.10.1 requires torch<1.13.0,>=1.10.0, but you have torch 1.9.0+cu111 which is incompatible.\u001b[0m\u001b[31m\r\n",
      "\u001b[0mSuccessfully installed torch-1.9.0+cu111 torchtext-0.10.0 torchvision-0.10.0+cu111\r\n",
      "\u001b[33mWARNING: Running pip as the 'root' user can result in broken permissions and conflicting behaviour with the system package manager. It is recommended to use a virtual environment instead: https://pip.pypa.io/warnings/venv\u001b[0m\u001b[33m\r\n",
      "\u001b[0mCollecting pyyaml==5.4.1\r\n",
      "  Downloading PyYAML-5.4.1-cp37-cp37m-manylinux1_x86_64.whl (636 kB)\r\n",
      "\u001b[2K     \u001b[90m━━━━━━━━━━━━━━━━━━━━━━━━━━━━━━━━━━━━━━\u001b[0m \u001b[32m636.6/636.6 kB\u001b[0m \u001b[31m10.5 MB/s\u001b[0m eta \u001b[36m0:00:00\u001b[0m\r\n",
      "\u001b[?25hInstalling collected packages: pyyaml\r\n",
      "  Attempting uninstall: pyyaml\r\n",
      "    Found existing installation: PyYAML 6.0\r\n",
      "    Uninstalling PyYAML-6.0:\r\n",
      "      Successfully uninstalled PyYAML-6.0\r\n",
      "\u001b[31mERROR: pip's dependency resolver does not currently take into account all the packages that are installed. This behaviour is the source of the following dependency conflicts.\r\n",
      "dask-cudf 21.10.1 requires cupy-cuda114, which is not installed.\r\n",
      "pandas-profiling 3.1.0 requires markupsafe~=2.0.1, but you have markupsafe 2.1.1 which is incompatible.\r\n",
      "nnabla 1.31.0 requires protobuf<=3.19.4; platform_system != \"Windows\", but you have protobuf 3.20.3 which is incompatible.\r\n",
      "dask-cudf 21.10.1 requires dask==2021.09.1, but you have dask 2022.2.0 which is incompatible.\r\n",
      "dask-cudf 21.10.1 requires distributed==2021.09.1, but you have distributed 2022.2.0 which is incompatible.\r\n",
      "allennlp 2.10.1 requires torch<1.13.0,>=1.10.0, but you have torch 1.9.0+cu111 which is incompatible.\u001b[0m\u001b[31m\r\n",
      "\u001b[0mSuccessfully installed pyyaml-5.4.1\r\n",
      "\u001b[33mWARNING: Running pip as the 'root' user can result in broken permissions and conflicting behaviour with the system package manager. It is recommended to use a virtual environment instead: https://pip.pypa.io/warnings/venv\u001b[0m\u001b[33m\r\n",
      "\u001b[0m"
     ]
    }
   ],
   "source": [
    "!pip install cloud-tpu-client==0.10 https://storage.googleapis.com/tpu-pytorch/wheels/torch_xla-1.9-cp37-cp37m-linux_x86_64.whl\n",
    "!pip install torch==1.9.0+cu111 torchvision==0.10.0+cu111 torchtext==0.10.0 -f https://download.pytorch.org/whl/cu111/torch_stable.html\n",
    "!pip install pyyaml==5.4.1"
   ]
  },
  {
   "cell_type": "code",
   "execution_count": 3,
   "id": "6ec3f83e",
   "metadata": {
    "execution": {
     "iopub.execute_input": "2023-03-15T02:02:09.943932Z",
     "iopub.status.busy": "2023-03-15T02:02:09.943538Z",
     "iopub.status.idle": "2023-03-15T02:02:24.902494Z",
     "shell.execute_reply": "2023-03-15T02:02:24.900983Z"
    },
    "papermill": {
     "duration": 15.054202,
     "end_time": "2023-03-15T02:02:24.905124",
     "exception": false,
     "start_time": "2023-03-15T02:02:09.850922",
     "status": "completed"
    },
    "tags": []
   },
   "outputs": [
    {
     "name": "stdout",
     "output_type": "stream",
     "text": [
      "Requirement already satisfied: darts in /opt/conda/lib/python3.7/site-packages (0.23.1)\r\n",
      "Requirement already satisfied: pyod>=0.9.5 in /opt/conda/lib/python3.7/site-packages (from darts) (1.0.8)\r\n",
      "Requirement already satisfied: holidays>=0.11.1 in /opt/conda/lib/python3.7/site-packages (from darts) (0.16)\r\n",
      "Requirement already satisfied: requests>=2.22.0 in /opt/conda/lib/python3.7/site-packages (from darts) (2.28.1)\r\n",
      "Requirement already satisfied: nfoursid>=1.0.0 in /opt/conda/lib/python3.7/site-packages (from darts) (1.0.1)\r\n",
      "Requirement already satisfied: xgboost>=1.6.0 in /opt/conda/lib/python3.7/site-packages (from darts) (1.6.2)\r\n",
      "Requirement already satisfied: joblib>=0.16.0 in /opt/conda/lib/python3.7/site-packages (from darts) (1.0.1)\r\n",
      "Requirement already satisfied: xarray>=0.17.0 in /opt/conda/lib/python3.7/site-packages (from darts) (0.20.2)\r\n",
      "Requirement already satisfied: statsforecast>=1.0.0 in /opt/conda/lib/python3.7/site-packages (from darts) (1.5.0)\r\n",
      "Requirement already satisfied: scipy>=1.3.2 in /opt/conda/lib/python3.7/site-packages (from darts) (1.7.3)\r\n",
      "Requirement already satisfied: tbats>=1.1.0 in /opt/conda/lib/python3.7/site-packages (from darts) (1.1.2)\r\n",
      "Requirement already satisfied: prophet>=1.1.1 in /opt/conda/lib/python3.7/site-packages (from darts) (1.1.1)\r\n",
      "Requirement already satisfied: pandas>=1.0.5 in /opt/conda/lib/python3.7/site-packages (from darts) (1.3.5)\r\n",
      "Requirement already satisfied: pytorch-lightning>=1.5.0 in /opt/conda/lib/python3.7/site-packages (from darts) (1.7.7)\r\n",
      "Requirement already satisfied: catboost>=1.0.6 in /opt/conda/lib/python3.7/site-packages (from darts) (1.1)\r\n",
      "Requirement already satisfied: scikit-learn>=1.0.1 in /opt/conda/lib/python3.7/site-packages (from darts) (1.0.2)\r\n",
      "Requirement already satisfied: numpy>=1.19.0 in /opt/conda/lib/python3.7/site-packages (from darts) (1.21.6)\r\n",
      "Requirement already satisfied: torch>=1.8.0 in /opt/conda/lib/python3.7/site-packages (from darts) (1.9.0+cu111)\r\n",
      "Requirement already satisfied: matplotlib>=3.3.0 in /opt/conda/lib/python3.7/site-packages (from darts) (3.5.3)\r\n",
      "Requirement already satisfied: shap>=0.40.0 in /opt/conda/lib/python3.7/site-packages (from darts) (0.41.0)\r\n",
      "Requirement already satisfied: lightgbm>=3.2.0 in /opt/conda/lib/python3.7/site-packages (from darts) (3.3.2)\r\n",
      "Requirement already satisfied: tqdm>=4.60.0 in /opt/conda/lib/python3.7/site-packages (from darts) (4.64.0)\r\n",
      "Requirement already satisfied: pmdarima>=1.8.0 in /opt/conda/lib/python3.7/site-packages (from darts) (2.0.2)\r\n",
      "Requirement already satisfied: statsmodels>=0.13.0 in /opt/conda/lib/python3.7/site-packages (from darts) (0.13.2)\r\n",
      "Requirement already satisfied: plotly in /opt/conda/lib/python3.7/site-packages (from catboost>=1.0.6->darts) (5.10.0)\r\n",
      "Requirement already satisfied: six in /opt/conda/lib/python3.7/site-packages (from catboost>=1.0.6->darts) (1.15.0)\r\n",
      "Requirement already satisfied: graphviz in /opt/conda/lib/python3.7/site-packages (from catboost>=1.0.6->darts) (0.8.4)\r\n",
      "Requirement already satisfied: hijri-converter in /opt/conda/lib/python3.7/site-packages (from holidays>=0.11.1->darts) (2.2.4)\r\n",
      "Requirement already satisfied: korean-lunar-calendar in /opt/conda/lib/python3.7/site-packages (from holidays>=0.11.1->darts) (0.3.1)\r\n",
      "Requirement already satisfied: convertdate>=2.3.0 in /opt/conda/lib/python3.7/site-packages (from holidays>=0.11.1->darts) (2.4.0)\r\n",
      "Requirement already satisfied: python-dateutil in /opt/conda/lib/python3.7/site-packages (from holidays>=0.11.1->darts) (2.8.2)\r\n",
      "Requirement already satisfied: wheel in /opt/conda/lib/python3.7/site-packages (from lightgbm>=3.2.0->darts) (0.37.1)\r\n",
      "Requirement already satisfied: pillow>=6.2.0 in /opt/conda/lib/python3.7/site-packages (from matplotlib>=3.3.0->darts) (9.1.1)\r\n",
      "Requirement already satisfied: cycler>=0.10 in /opt/conda/lib/python3.7/site-packages (from matplotlib>=3.3.0->darts) (0.11.0)\r\n",
      "Requirement already satisfied: fonttools>=4.22.0 in /opt/conda/lib/python3.7/site-packages (from matplotlib>=3.3.0->darts) (4.33.3)\r\n",
      "Requirement already satisfied: packaging>=20.0 in /opt/conda/lib/python3.7/site-packages (from matplotlib>=3.3.0->darts) (21.3)\r\n",
      "Requirement already satisfied: kiwisolver>=1.0.1 in /opt/conda/lib/python3.7/site-packages (from matplotlib>=3.3.0->darts) (1.4.3)\r\n",
      "Requirement already satisfied: pyparsing>=2.2.1 in /opt/conda/lib/python3.7/site-packages (from matplotlib>=3.3.0->darts) (3.0.9)\r\n",
      "Requirement already satisfied: pytz>=2017.3 in /opt/conda/lib/python3.7/site-packages (from pandas>=1.0.5->darts) (2022.1)\r\n",
      "Requirement already satisfied: Cython!=0.29.18,!=0.29.31,>=0.29 in /opt/conda/lib/python3.7/site-packages (from pmdarima>=1.8.0->darts) (0.29.32)\r\n",
      "Requirement already satisfied: setuptools!=50.0.0,>=38.6.0 in /opt/conda/lib/python3.7/site-packages (from pmdarima>=1.8.0->darts) (59.8.0)\r\n",
      "Requirement already satisfied: urllib3 in /opt/conda/lib/python3.7/site-packages (from pmdarima>=1.8.0->darts) (1.26.12)\r\n",
      "Requirement already satisfied: LunarCalendar>=0.0.9 in /opt/conda/lib/python3.7/site-packages (from prophet>=1.1.1->darts) (0.0.9)\r\n",
      "Requirement already satisfied: setuptools-git>=1.2 in /opt/conda/lib/python3.7/site-packages (from prophet>=1.1.1->darts) (1.2)\r\n",
      "Requirement already satisfied: cmdstanpy>=1.0.4 in /opt/conda/lib/python3.7/site-packages (from prophet>=1.1.1->darts) (1.0.7)\r\n",
      "Requirement already satisfied: numba>=0.51 in /opt/conda/lib/python3.7/site-packages (from pyod>=0.9.5->darts) (0.55.2)\r\n",
      "Requirement already satisfied: typing-extensions>=4.0.0 in /opt/conda/lib/python3.7/site-packages (from pytorch-lightning>=1.5.0->darts) (4.1.1)\r\n",
      "Requirement already satisfied: pyDeprecate>=0.3.1 in /opt/conda/lib/python3.7/site-packages (from pytorch-lightning>=1.5.0->darts) (0.3.2)\r\n",
      "Requirement already satisfied: fsspec[http]!=2021.06.0,>=2021.05.0 in /opt/conda/lib/python3.7/site-packages (from pytorch-lightning>=1.5.0->darts) (2022.8.2)\r\n",
      "Requirement already satisfied: torchmetrics>=0.7.0 in /opt/conda/lib/python3.7/site-packages (from pytorch-lightning>=1.5.0->darts) (0.10.0)\r\n",
      "Requirement already satisfied: tensorboard>=2.9.1 in /opt/conda/lib/python3.7/site-packages (from pytorch-lightning>=1.5.0->darts) (2.10.1)\r\n",
      "Requirement already satisfied: PyYAML>=5.4 in /opt/conda/lib/python3.7/site-packages (from pytorch-lightning>=1.5.0->darts) (5.4.1)\r\n",
      "Requirement already satisfied: charset-normalizer<3,>=2 in /opt/conda/lib/python3.7/site-packages (from requests>=2.22.0->darts) (2.1.0)\r\n",
      "Requirement already satisfied: certifi>=2017.4.17 in /opt/conda/lib/python3.7/site-packages (from requests>=2.22.0->darts) (2022.9.24)\r\n",
      "Requirement already satisfied: idna<4,>=2.5 in /opt/conda/lib/python3.7/site-packages (from requests>=2.22.0->darts) (3.3)\r\n",
      "Requirement already satisfied: threadpoolctl>=2.0.0 in /opt/conda/lib/python3.7/site-packages (from scikit-learn>=1.0.1->darts) (3.1.0)\r\n",
      "Requirement already satisfied: slicer==0.0.7 in /opt/conda/lib/python3.7/site-packages (from shap>=0.40.0->darts) (0.0.7)\r\n",
      "Requirement already satisfied: cloudpickle in /opt/conda/lib/python3.7/site-packages (from shap>=0.40.0->darts) (2.1.0)\r\n",
      "Requirement already satisfied: plotly-resampler in /opt/conda/lib/python3.7/site-packages (from statsforecast>=1.0.0->darts) (0.8.3.2)\r\n",
      "Requirement already satisfied: fugue>=0.8.1 in /opt/conda/lib/python3.7/site-packages (from statsforecast>=1.0.0->darts) (0.8.1)\r\n",
      "Requirement already satisfied: patsy>=0.5.2 in /opt/conda/lib/python3.7/site-packages (from statsmodels>=0.13.0->darts) (0.5.2)\r\n",
      "Requirement already satisfied: importlib-metadata in /opt/conda/lib/python3.7/site-packages (from xarray>=0.17.0->darts) (4.13.0)\r\n",
      "Requirement already satisfied: ujson in /opt/conda/lib/python3.7/site-packages (from cmdstanpy>=1.0.4->prophet>=1.1.1->darts) (5.3.0)\r\n",
      "Requirement already satisfied: pymeeus<=1,>=0.3.13 in /opt/conda/lib/python3.7/site-packages (from convertdate>=2.3.0->holidays>=0.11.1->darts) (0.5.11)\r\n",
      "Requirement already satisfied: aiohttp!=4.0.0a0,!=4.0.0a1 in /opt/conda/lib/python3.7/site-packages (from fsspec[http]!=2021.06.0,>=2021.05.0->pytorch-lightning>=1.5.0->darts) (3.8.1)\r\n",
      "Requirement already satisfied: sqlalchemy in /opt/conda/lib/python3.7/site-packages (from fugue>=0.8.1->statsforecast>=1.0.0->darts) (1.4.39)\r\n",
      "Requirement already satisfied: pyarrow>=0.15.1 in /opt/conda/lib/python3.7/site-packages (from fugue>=0.8.1->statsforecast>=1.0.0->darts) (5.0.0)\r\n",
      "Requirement already satisfied: triad>=0.8.1 in /opt/conda/lib/python3.7/site-packages (from fugue>=0.8.1->statsforecast>=1.0.0->darts) (0.8.3)\r\n",
      "Requirement already satisfied: fugue-sql-antlr>=0.1.5 in /opt/conda/lib/python3.7/site-packages (from fugue>=0.8.1->statsforecast>=1.0.0->darts) (0.1.5)\r\n",
      "Requirement already satisfied: qpd>=0.4.0 in /opt/conda/lib/python3.7/site-packages (from fugue>=0.8.1->statsforecast>=1.0.0->darts) (0.4.0)\r\n",
      "Requirement already satisfied: jinja2 in /opt/conda/lib/python3.7/site-packages (from fugue>=0.8.1->statsforecast>=1.0.0->darts) (3.1.2)\r\n",
      "Requirement already satisfied: adagio>=0.2.4 in /opt/conda/lib/python3.7/site-packages (from fugue>=0.8.1->statsforecast>=1.0.0->darts) (0.2.4)\r\n",
      "Requirement already satisfied: sqlglot in /opt/conda/lib/python3.7/site-packages (from fugue>=0.8.1->statsforecast>=1.0.0->darts) (11.3.7)\r\n",
      "Requirement already satisfied: ephem>=3.7.5.3 in /opt/conda/lib/python3.7/site-packages (from LunarCalendar>=0.0.9->prophet>=1.1.1->darts) (4.1.3)\r\n",
      "Requirement already satisfied: llvmlite<0.39,>=0.38.0rc1 in /opt/conda/lib/python3.7/site-packages (from numba>=0.51->pyod>=0.9.5->darts) (0.38.1)\r\n",
      "Requirement already satisfied: grpcio>=1.24.3 in /opt/conda/lib/python3.7/site-packages (from tensorboard>=2.9.1->pytorch-lightning>=1.5.0->darts) (1.43.0)\r\n",
      "Requirement already satisfied: tensorboard-data-server<0.7.0,>=0.6.0 in /opt/conda/lib/python3.7/site-packages (from tensorboard>=2.9.1->pytorch-lightning>=1.5.0->darts) (0.6.1)\r\n",
      "Requirement already satisfied: markdown>=2.6.8 in /opt/conda/lib/python3.7/site-packages (from tensorboard>=2.9.1->pytorch-lightning>=1.5.0->darts) (3.3.7)\r\n",
      "Requirement already satisfied: google-auth-oauthlib<0.5,>=0.4.1 in /opt/conda/lib/python3.7/site-packages (from tensorboard>=2.9.1->pytorch-lightning>=1.5.0->darts) (0.4.6)\r\n",
      "Requirement already satisfied: google-auth<3,>=1.6.3 in /opt/conda/lib/python3.7/site-packages (from tensorboard>=2.9.1->pytorch-lightning>=1.5.0->darts) (1.35.0)\r\n",
      "Requirement already satisfied: absl-py>=0.4 in /opt/conda/lib/python3.7/site-packages (from tensorboard>=2.9.1->pytorch-lightning>=1.5.0->darts) (0.15.0)\r\n",
      "Requirement already satisfied: werkzeug>=1.0.1 in /opt/conda/lib/python3.7/site-packages (from tensorboard>=2.9.1->pytorch-lightning>=1.5.0->darts) (2.2.2)\r\n",
      "Requirement already satisfied: tensorboard-plugin-wit>=1.6.0 in /opt/conda/lib/python3.7/site-packages (from tensorboard>=2.9.1->pytorch-lightning>=1.5.0->darts) (1.8.1)\r\n",
      "Collecting protobuf<3.20,>=3.9.2\r\n",
      "  Downloading protobuf-3.19.6-cp37-cp37m-manylinux_2_17_x86_64.manylinux2014_x86_64.whl (1.1 MB)\r\n",
      "\u001b[2K     \u001b[90m━━━━━━━━━━━━━━━━━━━━━━━━━━━━━━━━━━━━━━━━\u001b[0m \u001b[32m1.1/1.1 MB\u001b[0m \u001b[31m14.1 MB/s\u001b[0m eta \u001b[36m0:00:00\u001b[0m\r\n",
      "\u001b[?25hRequirement already satisfied: zipp>=0.5 in /opt/conda/lib/python3.7/site-packages (from importlib-metadata->xarray>=0.17.0->darts) (3.8.0)\r\n",
      "Requirement already satisfied: tenacity>=6.2.0 in /opt/conda/lib/python3.7/site-packages (from plotly->catboost>=1.0.6->darts) (8.0.1)\r\n",
      "Requirement already satisfied: jupyter-dash>=0.4.2 in /opt/conda/lib/python3.7/site-packages (from plotly-resampler->statsforecast>=1.0.0->darts) (0.4.2)\r\n",
      "Requirement already satisfied: trace-updater>=0.0.8 in /opt/conda/lib/python3.7/site-packages (from plotly-resampler->statsforecast>=1.0.0->darts) (0.0.9)\r\n",
      "Requirement already satisfied: orjson<4.0.0,>=3.8.0 in /opt/conda/lib/python3.7/site-packages (from plotly-resampler->statsforecast>=1.0.0->darts) (3.8.7)\r\n",
      "Requirement already satisfied: dash<3.0.0,>=2.2.0 in /opt/conda/lib/python3.7/site-packages (from plotly-resampler->statsforecast>=1.0.0->darts) (2.8.1)\r\n",
      "Requirement already satisfied: async-timeout<5.0,>=4.0.0a3 in /opt/conda/lib/python3.7/site-packages (from aiohttp!=4.0.0a0,!=4.0.0a1->fsspec[http]!=2021.06.0,>=2021.05.0->pytorch-lightning>=1.5.0->darts) (4.0.2)\r\n",
      "Requirement already satisfied: aiosignal>=1.1.2 in /opt/conda/lib/python3.7/site-packages (from aiohttp!=4.0.0a0,!=4.0.0a1->fsspec[http]!=2021.06.0,>=2021.05.0->pytorch-lightning>=1.5.0->darts) (1.2.0)\r\n",
      "Requirement already satisfied: frozenlist>=1.1.1 in /opt/conda/lib/python3.7/site-packages (from aiohttp!=4.0.0a0,!=4.0.0a1->fsspec[http]!=2021.06.0,>=2021.05.0->pytorch-lightning>=1.5.0->darts) (1.3.0)\r\n",
      "Requirement already satisfied: attrs>=17.3.0 in /opt/conda/lib/python3.7/site-packages (from aiohttp!=4.0.0a0,!=4.0.0a1->fsspec[http]!=2021.06.0,>=2021.05.0->pytorch-lightning>=1.5.0->darts) (21.4.0)\r\n",
      "Requirement already satisfied: multidict<7.0,>=4.5 in /opt/conda/lib/python3.7/site-packages (from aiohttp!=4.0.0a0,!=4.0.0a1->fsspec[http]!=2021.06.0,>=2021.05.0->pytorch-lightning>=1.5.0->darts) (6.0.2)\r\n",
      "Requirement already satisfied: asynctest==0.13.0 in /opt/conda/lib/python3.7/site-packages (from aiohttp!=4.0.0a0,!=4.0.0a1->fsspec[http]!=2021.06.0,>=2021.05.0->pytorch-lightning>=1.5.0->darts) (0.13.0)\r\n",
      "Requirement already satisfied: yarl<2.0,>=1.0 in /opt/conda/lib/python3.7/site-packages (from aiohttp!=4.0.0a0,!=4.0.0a1->fsspec[http]!=2021.06.0,>=2021.05.0->pytorch-lightning>=1.5.0->darts) (1.7.2)\r\n",
      "Requirement already satisfied: dash-table==5.0.0 in /opt/conda/lib/python3.7/site-packages (from dash<3.0.0,>=2.2.0->plotly-resampler->statsforecast>=1.0.0->darts) (5.0.0)\r\n",
      "Requirement already satisfied: Flask>=1.0.4 in /opt/conda/lib/python3.7/site-packages (from dash<3.0.0,>=2.2.0->plotly-resampler->statsforecast>=1.0.0->darts) (2.2.2)\r\n",
      "Requirement already satisfied: dash-html-components==2.0.0 in /opt/conda/lib/python3.7/site-packages (from dash<3.0.0,>=2.2.0->plotly-resampler->statsforecast>=1.0.0->darts) (2.0.0)\r\n",
      "Requirement already satisfied: dash-core-components==2.0.0 in /opt/conda/lib/python3.7/site-packages (from dash<3.0.0,>=2.2.0->plotly-resampler->statsforecast>=1.0.0->darts) (2.0.0)\r\n",
      "Requirement already satisfied: antlr4-python3-runtime<4.12,>=4.11.1 in /opt/conda/lib/python3.7/site-packages (from fugue-sql-antlr>=0.1.5->fugue>=0.8.1->statsforecast>=1.0.0->darts) (4.11.1)\r\n",
      "Requirement already satisfied: cachetools<5.0,>=2.0.0 in /opt/conda/lib/python3.7/site-packages (from google-auth<3,>=1.6.3->tensorboard>=2.9.1->pytorch-lightning>=1.5.0->darts) (4.2.4)\r\n",
      "Requirement already satisfied: rsa<5,>=3.1.4 in /opt/conda/lib/python3.7/site-packages (from google-auth<3,>=1.6.3->tensorboard>=2.9.1->pytorch-lightning>=1.5.0->darts) (4.8)\r\n",
      "Requirement already satisfied: pyasn1-modules>=0.2.1 in /opt/conda/lib/python3.7/site-packages (from google-auth<3,>=1.6.3->tensorboard>=2.9.1->pytorch-lightning>=1.5.0->darts) (0.2.7)\r\n",
      "Requirement already satisfied: requests-oauthlib>=0.7.0 in /opt/conda/lib/python3.7/site-packages (from google-auth-oauthlib<0.5,>=0.4.1->tensorboard>=2.9.1->pytorch-lightning>=1.5.0->darts) (1.3.1)\r\n",
      "Requirement already satisfied: ipykernel in /opt/conda/lib/python3.7/site-packages (from jupyter-dash>=0.4.2->plotly-resampler->statsforecast>=1.0.0->darts) (6.15.0)\r\n",
      "Requirement already satisfied: ipython in /opt/conda/lib/python3.7/site-packages (from jupyter-dash>=0.4.2->plotly-resampler->statsforecast>=1.0.0->darts) (7.33.0)\r\n",
      "Requirement already satisfied: ansi2html in /opt/conda/lib/python3.7/site-packages (from jupyter-dash>=0.4.2->plotly-resampler->statsforecast>=1.0.0->darts) (1.8.0)\r\n",
      "Requirement already satisfied: retrying in /opt/conda/lib/python3.7/site-packages (from jupyter-dash>=0.4.2->plotly-resampler->statsforecast>=1.0.0->darts) (1.3.3)\r\n",
      "Requirement already satisfied: nest-asyncio in /opt/conda/lib/python3.7/site-packages (from jupyter-dash>=0.4.2->plotly-resampler->statsforecast>=1.0.0->darts) (1.5.5)\r\n",
      "Requirement already satisfied: fs in /opt/conda/lib/python3.7/site-packages (from triad>=0.8.1->fugue>=0.8.1->statsforecast>=1.0.0->darts) (2.4.16)\r\n",
      "Requirement already satisfied: MarkupSafe>=2.1.1 in /opt/conda/lib/python3.7/site-packages (from werkzeug>=1.0.1->tensorboard>=2.9.1->pytorch-lightning>=1.5.0->darts) (2.1.1)\r\n",
      "Requirement already satisfied: greenlet!=0.4.17 in /opt/conda/lib/python3.7/site-packages (from sqlalchemy->fugue>=0.8.1->statsforecast>=1.0.0->darts) (1.1.2)\r\n",
      "Requirement already satisfied: itsdangerous>=2.0 in /opt/conda/lib/python3.7/site-packages (from Flask>=1.0.4->dash<3.0.0,>=2.2.0->plotly-resampler->statsforecast>=1.0.0->darts) (2.1.2)\r\n",
      "Requirement already satisfied: click>=8.0 in /opt/conda/lib/python3.7/site-packages (from Flask>=1.0.4->dash<3.0.0,>=2.2.0->plotly-resampler->statsforecast>=1.0.0->darts) (8.0.4)\r\n",
      "Requirement already satisfied: pyasn1<0.5.0,>=0.4.6 in /opt/conda/lib/python3.7/site-packages (from pyasn1-modules>=0.2.1->google-auth<3,>=1.6.3->tensorboard>=2.9.1->pytorch-lightning>=1.5.0->darts) (0.4.8)\r\n",
      "Requirement already satisfied: oauthlib>=3.0.0 in /opt/conda/lib/python3.7/site-packages (from requests-oauthlib>=0.7.0->google-auth-oauthlib<0.5,>=0.4.1->tensorboard>=2.9.1->pytorch-lightning>=1.5.0->darts) (3.2.0)\r\n",
      "Requirement already satisfied: appdirs~=1.4.3 in /opt/conda/lib/python3.7/site-packages (from fs->triad>=0.8.1->fugue>=0.8.1->statsforecast>=1.0.0->darts) (1.4.4)\r\n",
      "Requirement already satisfied: pyzmq>=17 in /opt/conda/lib/python3.7/site-packages (from ipykernel->jupyter-dash>=0.4.2->plotly-resampler->statsforecast>=1.0.0->darts) (23.2.0)\r\n",
      "Requirement already satisfied: jupyter-client>=6.1.12 in /opt/conda/lib/python3.7/site-packages (from ipykernel->jupyter-dash>=0.4.2->plotly-resampler->statsforecast>=1.0.0->darts) (7.3.4)\r\n",
      "Requirement already satisfied: debugpy>=1.0 in /opt/conda/lib/python3.7/site-packages (from ipykernel->jupyter-dash>=0.4.2->plotly-resampler->statsforecast>=1.0.0->darts) (1.6.0)\r\n",
      "Requirement already satisfied: tornado>=6.1 in /opt/conda/lib/python3.7/site-packages (from ipykernel->jupyter-dash>=0.4.2->plotly-resampler->statsforecast>=1.0.0->darts) (6.1)\r\n",
      "Requirement already satisfied: traitlets>=5.1.0 in /opt/conda/lib/python3.7/site-packages (from ipykernel->jupyter-dash>=0.4.2->plotly-resampler->statsforecast>=1.0.0->darts) (5.3.0)\r\n",
      "Requirement already satisfied: psutil in /opt/conda/lib/python3.7/site-packages (from ipykernel->jupyter-dash>=0.4.2->plotly-resampler->statsforecast>=1.0.0->darts) (5.9.1)\r\n",
      "Requirement already satisfied: matplotlib-inline>=0.1 in /opt/conda/lib/python3.7/site-packages (from ipykernel->jupyter-dash>=0.4.2->plotly-resampler->statsforecast>=1.0.0->darts) (0.1.3)\r\n",
      "Requirement already satisfied: backcall in /opt/conda/lib/python3.7/site-packages (from ipython->jupyter-dash>=0.4.2->plotly-resampler->statsforecast>=1.0.0->darts) (0.2.0)\r\n",
      "Requirement already satisfied: jedi>=0.16 in /opt/conda/lib/python3.7/site-packages (from ipython->jupyter-dash>=0.4.2->plotly-resampler->statsforecast>=1.0.0->darts) (0.18.1)\r\n",
      "Requirement already satisfied: prompt-toolkit!=3.0.0,!=3.0.1,<3.1.0,>=2.0.0 in /opt/conda/lib/python3.7/site-packages (from ipython->jupyter-dash>=0.4.2->plotly-resampler->statsforecast>=1.0.0->darts) (3.0.30)\r\n",
      "Requirement already satisfied: pygments in /opt/conda/lib/python3.7/site-packages (from ipython->jupyter-dash>=0.4.2->plotly-resampler->statsforecast>=1.0.0->darts) (2.12.0)\r\n",
      "Requirement already satisfied: pexpect>4.3 in /opt/conda/lib/python3.7/site-packages (from ipython->jupyter-dash>=0.4.2->plotly-resampler->statsforecast>=1.0.0->darts) (4.8.0)\r\n",
      "Requirement already satisfied: decorator in /opt/conda/lib/python3.7/site-packages (from ipython->jupyter-dash>=0.4.2->plotly-resampler->statsforecast>=1.0.0->darts) (5.1.1)\r\n",
      "Requirement already satisfied: pickleshare in /opt/conda/lib/python3.7/site-packages (from ipython->jupyter-dash>=0.4.2->plotly-resampler->statsforecast>=1.0.0->darts) (0.7.5)\r\n",
      "Requirement already satisfied: parso<0.9.0,>=0.8.0 in /opt/conda/lib/python3.7/site-packages (from jedi>=0.16->ipython->jupyter-dash>=0.4.2->plotly-resampler->statsforecast>=1.0.0->darts) (0.8.3)\r\n",
      "Requirement already satisfied: entrypoints in /opt/conda/lib/python3.7/site-packages (from jupyter-client>=6.1.12->ipykernel->jupyter-dash>=0.4.2->plotly-resampler->statsforecast>=1.0.0->darts) (0.4)\r\n",
      "Requirement already satisfied: jupyter-core>=4.9.2 in /opt/conda/lib/python3.7/site-packages (from jupyter-client>=6.1.12->ipykernel->jupyter-dash>=0.4.2->plotly-resampler->statsforecast>=1.0.0->darts) (4.10.0)\r\n",
      "Requirement already satisfied: ptyprocess>=0.5 in /opt/conda/lib/python3.7/site-packages (from pexpect>4.3->ipython->jupyter-dash>=0.4.2->plotly-resampler->statsforecast>=1.0.0->darts) (0.7.0)\r\n",
      "Requirement already satisfied: wcwidth in /opt/conda/lib/python3.7/site-packages (from prompt-toolkit!=3.0.0,!=3.0.1,<3.1.0,>=2.0.0->ipython->jupyter-dash>=0.4.2->plotly-resampler->statsforecast>=1.0.0->darts) (0.2.5)\r\n",
      "Installing collected packages: protobuf\r\n",
      "  Attempting uninstall: protobuf\r\n",
      "    Found existing installation: protobuf 3.20.3\r\n",
      "    Uninstalling protobuf-3.20.3:\r\n",
      "      Successfully uninstalled protobuf-3.20.3\r\n",
      "\u001b[31mERROR: pip's dependency resolver does not currently take into account all the packages that are installed. This behaviour is the source of the following dependency conflicts.\r\n",
      "tensorflow-io 0.21.0 requires tensorflow-io-gcs-filesystem==0.21.0, which is not installed.\r\n",
      "beatrix-jupyterlab 3.1.7 requires google-cloud-bigquery-storage, which is not installed.\r\n",
      "tfx-bsl 1.9.0 requires tensorflow!=2.0.*,!=2.1.*,!=2.2.*,!=2.3.*,!=2.4.*,!=2.5.*,!=2.6.*,!=2.7.*,!=2.8.*,<3,>=1.15.5, but you have tensorflow 2.6.4 which is incompatible.\r\n",
      "tensorflow 2.6.4 requires h5py~=3.1.0, but you have h5py 3.7.0 which is incompatible.\r\n",
      "tensorflow 2.6.4 requires numpy~=1.19.2, but you have numpy 1.21.6 which is incompatible.\r\n",
      "tensorflow 2.6.4 requires tensorboard<2.7,>=2.6.0, but you have tensorboard 2.10.1 which is incompatible.\r\n",
      "tensorflow 2.6.4 requires typing-extensions<3.11,>=3.7, but you have typing-extensions 4.1.1 which is incompatible.\r\n",
      "tensorflow-transform 1.9.0 requires tensorflow!=2.0.*,!=2.1.*,!=2.2.*,!=2.3.*,!=2.4.*,!=2.5.*,!=2.6.*,!=2.7.*,!=2.8.*,<2.10,>=1.15.5, but you have tensorflow 2.6.4 which is incompatible.\r\n",
      "tensorflow-serving-api 2.9.0 requires tensorflow<3,>=2.9.0, but you have tensorflow 2.6.4 which is incompatible.\r\n",
      "nnabla 1.31.0 requires protobuf<=3.19.4; platform_system != \"Windows\", but you have protobuf 3.19.6 which is incompatible.\r\n",
      "grpcio-status 1.47.0 requires grpcio>=1.47.0, but you have grpcio 1.43.0 which is incompatible.\r\n",
      "gcsfs 2022.5.0 requires fsspec==2022.5.0, but you have fsspec 2022.8.2 which is incompatible.\r\n",
      "earthengine-api 0.1.327 requires google-api-python-client<2,>=1.12.1, but you have google-api-python-client 1.8.0 which is incompatible.\r\n",
      "apache-beam 2.40.0 requires dill<0.3.2,>=0.3.1.1, but you have dill 0.3.5.1 which is incompatible.\r\n",
      "allennlp 2.10.1 requires torch<1.13.0,>=1.10.0, but you have torch 1.9.0+cu111 which is incompatible.\u001b[0m\u001b[31m\r\n",
      "\u001b[0mSuccessfully installed protobuf-3.19.6\r\n",
      "\u001b[33mWARNING: Running pip as the 'root' user can result in broken permissions and conflicting behaviour with the system package manager. It is recommended to use a virtual environment instead: https://pip.pypa.io/warnings/venv\u001b[0m\u001b[33m\r\n",
      "\u001b[0m"
     ]
    }
   ],
   "source": [
    "#pip install darts\n",
    "# necessary packages:\n",
    "!pip install -U darts\n",
    "#!pip install -U optuna\n"
   ]
  },
  {
   "cell_type": "code",
   "execution_count": 4,
   "id": "2298fab1",
   "metadata": {
    "execution": {
     "iopub.execute_input": "2023-03-15T02:02:25.093492Z",
     "iopub.status.busy": "2023-03-15T02:02:25.093088Z",
     "iopub.status.idle": "2023-03-15T02:02:25.097836Z",
     "shell.execute_reply": "2023-03-15T02:02:25.096809Z"
    },
    "papermill": {
     "duration": 0.101711,
     "end_time": "2023-03-15T02:02:25.100197",
     "exception": false,
     "start_time": "2023-03-15T02:02:24.998486",
     "status": "completed"
    },
    "tags": []
   },
   "outputs": [],
   "source": [
    "#pip install missingno\n",
    "#pip install darts"
   ]
  },
  {
   "cell_type": "code",
   "execution_count": 5,
   "id": "3029eb08",
   "metadata": {
    "execution": {
     "iopub.execute_input": "2023-03-15T02:02:25.291445Z",
     "iopub.status.busy": "2023-03-15T02:02:25.290308Z",
     "iopub.status.idle": "2023-03-15T02:02:25.295423Z",
     "shell.execute_reply": "2023-03-15T02:02:25.294440Z"
    },
    "papermill": {
     "duration": 0.10401,
     "end_time": "2023-03-15T02:02:25.297735",
     "exception": false,
     "start_time": "2023-03-15T02:02:25.193725",
     "status": "completed"
    },
    "tags": []
   },
   "outputs": [],
   "source": [
    "# fix python path if working locally\n",
    "#from utils import fix_pythonpath_if_working_locally\n",
    "\n",
    "#fix_pythonpath_if_working_locally()"
   ]
  },
  {
   "cell_type": "code",
   "execution_count": 6,
   "id": "c1e0254c",
   "metadata": {
    "execution": {
     "iopub.execute_input": "2023-03-15T02:02:25.487933Z",
     "iopub.status.busy": "2023-03-15T02:02:25.486852Z",
     "iopub.status.idle": "2023-03-15T02:02:35.814130Z",
     "shell.execute_reply": "2023-03-15T02:02:35.813013Z"
    },
    "papermill": {
     "duration": 10.424065,
     "end_time": "2023-03-15T02:02:35.816727",
     "exception": false,
     "start_time": "2023-03-15T02:02:25.392662",
     "status": "completed"
    },
    "tags": []
   },
   "outputs": [
    {
     "name": "stderr",
     "output_type": "stream",
     "text": [
      "Traceback (most recent call last):\n",
      "  File \"/opt/conda/lib/python3.7/site-packages/pytorch_lightning/utilities/xla_device.py\", line 32, in inner_f\n",
      "    queue.put(func(*args, **kwargs))\n",
      "  File \"/opt/conda/lib/python3.7/site-packages/pytorch_lightning/utilities/xla_device.py\", line 73, in _is_device_tpu\n",
      "    return (xm.xrt_world_size() > 1) or bool(xm.get_xla_supported_devices(\"TPU\"))\n",
      "  File \"/opt/conda/lib/python3.7/site-packages/torch_xla/core/xla_model.py\", line 136, in get_xla_supported_devices\n",
      "    xla_devices = _DEVICES.value\n",
      "  File \"/opt/conda/lib/python3.7/site-packages/torch_xla/utils/utils.py\", line 32, in value\n",
      "    self._value = self._gen_fn()\n",
      "  File \"/opt/conda/lib/python3.7/site-packages/torch_xla/core/xla_model.py\", line 18, in <lambda>\n",
      "    _DEVICES = xu.LazyProperty(lambda: torch_xla._XLAC._xla_get_devices())\n",
      "RuntimeError: tensorflow/compiler/xla/xla_client/computation_client.cc:273 : Missing XLA configuration\n"
     ]
    },
    {
     "data": {
      "text/html": [
       "<style type='text/css'>\n",
       ".datatable table.frame { margin-bottom: 0; }\n",
       ".datatable table.frame thead { border-bottom: none; }\n",
       ".datatable table.frame tr.coltypes td {  color: #FFFFFF;  line-height: 6px;  padding: 0 0.5em;}\n",
       ".datatable .bool    { background: #DDDD99; }\n",
       ".datatable .object  { background: #565656; }\n",
       ".datatable .int     { background: #5D9E5D; }\n",
       ".datatable .float   { background: #4040CC; }\n",
       ".datatable .str     { background: #CC4040; }\n",
       ".datatable .time    { background: #40CC40; }\n",
       ".datatable .row_index {  background: var(--jp-border-color3);  border-right: 1px solid var(--jp-border-color0);  color: var(--jp-ui-font-color3);  font-size: 9px;}\n",
       ".datatable .frame tbody td { text-align: left; }\n",
       ".datatable .frame tr.coltypes .row_index {  background: var(--jp-border-color0);}\n",
       ".datatable th:nth-child(2) { padding-left: 12px; }\n",
       ".datatable .hellipsis {  color: var(--jp-cell-editor-border-color);}\n",
       ".datatable .vellipsis {  background: var(--jp-layout-color0);  color: var(--jp-cell-editor-border-color);}\n",
       ".datatable .na {  color: var(--jp-cell-editor-border-color);  font-size: 80%;}\n",
       ".datatable .sp {  opacity: 0.25;}\n",
       ".datatable .footer { font-size: 9px; }\n",
       ".datatable .frame_dimensions {  background: var(--jp-border-color3);  border-top: 1px solid var(--jp-border-color0);  color: var(--jp-ui-font-color3);  display: inline-block;  opacity: 0.6;  padding: 1px 10px 1px 5px;}\n",
       "</style>\n"
      ],
      "text/plain": [
       "<IPython.core.display.HTML object>"
      ]
     },
     "metadata": {},
     "output_type": "display_data"
    }
   ],
   "source": [
    "%load_ext autoreload\n",
    "%autoreload 2\n",
    "%matplotlib inline\n",
    "import pandas as pd\n",
    "import numpy as np\n",
    "import matplotlib.pyplot as plt\n",
    "import datetime\n",
    "\n",
    "from darts import TimeSeries\n",
    "from darts.models import FFT, AutoARIMA, ExponentialSmoothing, Theta\n",
    "from darts.metrics import mae,rmse,mape,r2_score\n",
    "from darts.utils.missing_values import fill_missing_values\n",
    "from darts.utils.likelihood_models import GaussianLikelihood, QuantileRegression\n",
    "from darts.explainability.shap_explainer import ShapExplainer\n",
    "from darts.models import (\n",
    "    RNNModel,\n",
    "    TCNModel,\n",
    "    TransformerModel,\n",
    "    NBEATSModel,\n",
    "    BlockRNNModel,\n",
    "    RegressionModel,\n",
    "    TFTModel\n",
    ")\n",
    "\n",
    "\n",
    "import warnings\n",
    "\n",
    "warnings.filterwarnings(\"ignore\")\n",
    "import logging\n",
    "\n",
    "logging.disable(logging.CRITICAL)"
   ]
  },
  {
   "cell_type": "code",
   "execution_count": 7,
   "id": "42a7eb1f",
   "metadata": {
    "execution": {
     "iopub.execute_input": "2023-03-15T02:02:36.003563Z",
     "iopub.status.busy": "2023-03-15T02:02:36.003282Z",
     "iopub.status.idle": "2023-03-15T02:02:40.053421Z",
     "shell.execute_reply": "2023-03-15T02:02:40.052425Z"
    },
    "papermill": {
     "duration": 4.146587,
     "end_time": "2023-03-15T02:02:40.055699",
     "exception": false,
     "start_time": "2023-03-15T02:02:35.909112",
     "status": "completed"
    },
    "tags": []
   },
   "outputs": [
    {
     "data": {
      "text/html": [
       "<div>\n",
       "<style scoped>\n",
       "    .dataframe tbody tr th:only-of-type {\n",
       "        vertical-align: middle;\n",
       "    }\n",
       "\n",
       "    .dataframe tbody tr th {\n",
       "        vertical-align: top;\n",
       "    }\n",
       "\n",
       "    .dataframe thead th {\n",
       "        text-align: right;\n",
       "    }\n",
       "</style>\n",
       "<table border=\"1\" class=\"dataframe\">\n",
       "  <thead>\n",
       "    <tr style=\"text-align: right;\">\n",
       "      <th></th>\n",
       "      <th>f</th>\n",
       "      <th>Zc</th>\n",
       "      <th>pbh</th>\n",
       "      <th>pwh</th>\n",
       "      <th>q</th>\n",
       "      <th>fq</th>\n",
       "      <th>Zc.1</th>\n",
       "      <th>Pin</th>\n",
       "      <th>H</th>\n",
       "      <th>P</th>\n",
       "      <th>I</th>\n",
       "      <th>qc</th>\n",
       "      <th>5</th>\n",
       "    </tr>\n",
       "  </thead>\n",
       "  <tbody>\n",
       "    <tr>\n",
       "      <th>1970-01-01 00:00:00.000000000</th>\n",
       "      <td>0.478298</td>\n",
       "      <td>0.184154</td>\n",
       "      <td>0.617864</td>\n",
       "      <td>0.375732</td>\n",
       "      <td>0.370196</td>\n",
       "      <td>0.478298</td>\n",
       "      <td>0.184154</td>\n",
       "      <td>0.636761</td>\n",
       "      <td>0.414506</td>\n",
       "      <td>0.325965</td>\n",
       "      <td>0.326323</td>\n",
       "      <td>0.392055</td>\n",
       "      <td>0.381900</td>\n",
       "    </tr>\n",
       "    <tr>\n",
       "      <th>1970-01-01 00:00:00.000000001</th>\n",
       "      <td>0.461469</td>\n",
       "      <td>0.200895</td>\n",
       "      <td>0.630114</td>\n",
       "      <td>0.355992</td>\n",
       "      <td>0.355298</td>\n",
       "      <td>0.461469</td>\n",
       "      <td>0.200895</td>\n",
       "      <td>0.647932</td>\n",
       "      <td>0.398012</td>\n",
       "      <td>0.311275</td>\n",
       "      <td>0.307947</td>\n",
       "      <td>0.391328</td>\n",
       "      <td>0.366410</td>\n",
       "    </tr>\n",
       "    <tr>\n",
       "      <th>1970-01-01 00:00:00.000000002</th>\n",
       "      <td>0.444640</td>\n",
       "      <td>0.217637</td>\n",
       "      <td>0.642126</td>\n",
       "      <td>0.334099</td>\n",
       "      <td>0.344745</td>\n",
       "      <td>0.444640</td>\n",
       "      <td>0.217637</td>\n",
       "      <td>0.667789</td>\n",
       "      <td>0.380750</td>\n",
       "      <td>0.297317</td>\n",
       "      <td>0.293839</td>\n",
       "      <td>0.384118</td>\n",
       "      <td>0.353947</td>\n",
       "    </tr>\n",
       "    <tr>\n",
       "      <th>1970-01-01 00:00:00.000000003</th>\n",
       "      <td>0.427811</td>\n",
       "      <td>0.234378</td>\n",
       "      <td>0.653255</td>\n",
       "      <td>0.312595</td>\n",
       "      <td>0.334114</td>\n",
       "      <td>0.427811</td>\n",
       "      <td>0.234378</td>\n",
       "      <td>0.666970</td>\n",
       "      <td>0.363340</td>\n",
       "      <td>0.282844</td>\n",
       "      <td>0.280244</td>\n",
       "      <td>0.371639</td>\n",
       "      <td>0.345734</td>\n",
       "    </tr>\n",
       "    <tr>\n",
       "      <th>1970-01-01 00:00:00.000000004</th>\n",
       "      <td>0.410982</td>\n",
       "      <td>0.251119</td>\n",
       "      <td>0.664258</td>\n",
       "      <td>0.291922</td>\n",
       "      <td>0.323031</td>\n",
       "      <td>0.410982</td>\n",
       "      <td>0.251119</td>\n",
       "      <td>0.679508</td>\n",
       "      <td>0.345110</td>\n",
       "      <td>0.270429</td>\n",
       "      <td>0.264677</td>\n",
       "      <td>0.367552</td>\n",
       "      <td>0.341089</td>\n",
       "    </tr>\n",
       "    <tr>\n",
       "      <th>...</th>\n",
       "      <td>...</td>\n",
       "      <td>...</td>\n",
       "      <td>...</td>\n",
       "      <td>...</td>\n",
       "      <td>...</td>\n",
       "      <td>...</td>\n",
       "      <td>...</td>\n",
       "      <td>...</td>\n",
       "      <td>...</td>\n",
       "      <td>...</td>\n",
       "      <td>...</td>\n",
       "      <td>...</td>\n",
       "      <td>...</td>\n",
       "    </tr>\n",
       "    <tr>\n",
       "      <th>1970-01-01 00:00:00.000015995</th>\n",
       "      <td>0.583426</td>\n",
       "      <td>0.865214</td>\n",
       "      <td>0.436349</td>\n",
       "      <td>0.114131</td>\n",
       "      <td>0.563760</td>\n",
       "      <td>0.583426</td>\n",
       "      <td>0.865214</td>\n",
       "      <td>0.454569</td>\n",
       "      <td>0.492216</td>\n",
       "      <td>0.437500</td>\n",
       "      <td>0.439973</td>\n",
       "      <td>0.558000</td>\n",
       "      <td>0.561284</td>\n",
       "    </tr>\n",
       "    <tr>\n",
       "      <th>1970-01-01 00:00:00.000015996</th>\n",
       "      <td>0.583426</td>\n",
       "      <td>0.865214</td>\n",
       "      <td>0.436349</td>\n",
       "      <td>0.114131</td>\n",
       "      <td>0.563760</td>\n",
       "      <td>0.583426</td>\n",
       "      <td>0.865214</td>\n",
       "      <td>0.460063</td>\n",
       "      <td>0.489306</td>\n",
       "      <td>0.439301</td>\n",
       "      <td>0.438126</td>\n",
       "      <td>0.563280</td>\n",
       "      <td>0.552649</td>\n",
       "    </tr>\n",
       "    <tr>\n",
       "      <th>1970-01-01 00:00:00.000015997</th>\n",
       "      <td>0.583426</td>\n",
       "      <td>0.865214</td>\n",
       "      <td>0.436349</td>\n",
       "      <td>0.114131</td>\n",
       "      <td>0.563760</td>\n",
       "      <td>0.583426</td>\n",
       "      <td>0.865214</td>\n",
       "      <td>0.451113</td>\n",
       "      <td>0.488777</td>\n",
       "      <td>0.440847</td>\n",
       "      <td>0.441977</td>\n",
       "      <td>0.564708</td>\n",
       "      <td>0.556361</td>\n",
       "    </tr>\n",
       "    <tr>\n",
       "      <th>1970-01-01 00:00:00.000015998</th>\n",
       "      <td>0.583426</td>\n",
       "      <td>0.865214</td>\n",
       "      <td>0.436349</td>\n",
       "      <td>0.114131</td>\n",
       "      <td>0.563760</td>\n",
       "      <td>0.583426</td>\n",
       "      <td>0.865214</td>\n",
       "      <td>0.451801</td>\n",
       "      <td>0.487329</td>\n",
       "      <td>0.437968</td>\n",
       "      <td>0.439026</td>\n",
       "      <td>0.568589</td>\n",
       "      <td>0.562279</td>\n",
       "    </tr>\n",
       "    <tr>\n",
       "      <th>1970-01-01 00:00:00.000015999</th>\n",
       "      <td>0.583426</td>\n",
       "      <td>0.865214</td>\n",
       "      <td>0.436349</td>\n",
       "      <td>0.114131</td>\n",
       "      <td>0.563760</td>\n",
       "      <td>0.583426</td>\n",
       "      <td>0.865214</td>\n",
       "      <td>0.456914</td>\n",
       "      <td>0.488044</td>\n",
       "      <td>0.437365</td>\n",
       "      <td>0.438739</td>\n",
       "      <td>0.560798</td>\n",
       "      <td>0.558589</td>\n",
       "    </tr>\n",
       "  </tbody>\n",
       "</table>\n",
       "<p>16000 rows × 13 columns</p>\n",
       "</div>"
      ],
      "text/plain": [
       "                                      f        Zc       pbh       pwh  \\\n",
       "1970-01-01 00:00:00.000000000  0.478298  0.184154  0.617864  0.375732   \n",
       "1970-01-01 00:00:00.000000001  0.461469  0.200895  0.630114  0.355992   \n",
       "1970-01-01 00:00:00.000000002  0.444640  0.217637  0.642126  0.334099   \n",
       "1970-01-01 00:00:00.000000003  0.427811  0.234378  0.653255  0.312595   \n",
       "1970-01-01 00:00:00.000000004  0.410982  0.251119  0.664258  0.291922   \n",
       "...                                 ...       ...       ...       ...   \n",
       "1970-01-01 00:00:00.000015995  0.583426  0.865214  0.436349  0.114131   \n",
       "1970-01-01 00:00:00.000015996  0.583426  0.865214  0.436349  0.114131   \n",
       "1970-01-01 00:00:00.000015997  0.583426  0.865214  0.436349  0.114131   \n",
       "1970-01-01 00:00:00.000015998  0.583426  0.865214  0.436349  0.114131   \n",
       "1970-01-01 00:00:00.000015999  0.583426  0.865214  0.436349  0.114131   \n",
       "\n",
       "                                      q        fq      Zc.1       Pin  \\\n",
       "1970-01-01 00:00:00.000000000  0.370196  0.478298  0.184154  0.636761   \n",
       "1970-01-01 00:00:00.000000001  0.355298  0.461469  0.200895  0.647932   \n",
       "1970-01-01 00:00:00.000000002  0.344745  0.444640  0.217637  0.667789   \n",
       "1970-01-01 00:00:00.000000003  0.334114  0.427811  0.234378  0.666970   \n",
       "1970-01-01 00:00:00.000000004  0.323031  0.410982  0.251119  0.679508   \n",
       "...                                 ...       ...       ...       ...   \n",
       "1970-01-01 00:00:00.000015995  0.563760  0.583426  0.865214  0.454569   \n",
       "1970-01-01 00:00:00.000015996  0.563760  0.583426  0.865214  0.460063   \n",
       "1970-01-01 00:00:00.000015997  0.563760  0.583426  0.865214  0.451113   \n",
       "1970-01-01 00:00:00.000015998  0.563760  0.583426  0.865214  0.451801   \n",
       "1970-01-01 00:00:00.000015999  0.563760  0.583426  0.865214  0.456914   \n",
       "\n",
       "                                      H         P         I        qc  \\\n",
       "1970-01-01 00:00:00.000000000  0.414506  0.325965  0.326323  0.392055   \n",
       "1970-01-01 00:00:00.000000001  0.398012  0.311275  0.307947  0.391328   \n",
       "1970-01-01 00:00:00.000000002  0.380750  0.297317  0.293839  0.384118   \n",
       "1970-01-01 00:00:00.000000003  0.363340  0.282844  0.280244  0.371639   \n",
       "1970-01-01 00:00:00.000000004  0.345110  0.270429  0.264677  0.367552   \n",
       "...                                 ...       ...       ...       ...   \n",
       "1970-01-01 00:00:00.000015995  0.492216  0.437500  0.439973  0.558000   \n",
       "1970-01-01 00:00:00.000015996  0.489306  0.439301  0.438126  0.563280   \n",
       "1970-01-01 00:00:00.000015997  0.488777  0.440847  0.441977  0.564708   \n",
       "1970-01-01 00:00:00.000015998  0.487329  0.437968  0.439026  0.568589   \n",
       "1970-01-01 00:00:00.000015999  0.488044  0.437365  0.438739  0.560798   \n",
       "\n",
       "                                      5  \n",
       "1970-01-01 00:00:00.000000000  0.381900  \n",
       "1970-01-01 00:00:00.000000001  0.366410  \n",
       "1970-01-01 00:00:00.000000002  0.353947  \n",
       "1970-01-01 00:00:00.000000003  0.345734  \n",
       "1970-01-01 00:00:00.000000004  0.341089  \n",
       "...                                 ...  \n",
       "1970-01-01 00:00:00.000015995  0.561284  \n",
       "1970-01-01 00:00:00.000015996  0.552649  \n",
       "1970-01-01 00:00:00.000015997  0.556361  \n",
       "1970-01-01 00:00:00.000015998  0.562279  \n",
       "1970-01-01 00:00:00.000015999  0.558589  \n",
       "\n",
       "[16000 rows x 13 columns]"
      ]
     },
     "execution_count": 7,
     "metadata": {},
     "output_type": "execute_result"
    }
   ],
   "source": [
    "D = pd.read_excel('/kaggle/input/norm-data-bcs/D_N.xlsx', index_col=0)\n",
    "D.index = pd.to_datetime(D.index)\n",
    "D"
   ]
  },
  {
   "cell_type": "code",
   "execution_count": 8,
   "id": "5d54daca",
   "metadata": {
    "execution": {
     "iopub.execute_input": "2023-03-15T02:02:40.250323Z",
     "iopub.status.busy": "2023-03-15T02:02:40.249997Z",
     "iopub.status.idle": "2023-03-15T02:02:40.359789Z",
     "shell.execute_reply": "2023-03-15T02:02:40.358714Z"
    },
    "papermill": {
     "duration": 0.211475,
     "end_time": "2023-03-15T02:02:40.363167",
     "exception": false,
     "start_time": "2023-03-15T02:02:40.151692",
     "status": "completed"
    },
    "tags": []
   },
   "outputs": [
    {
     "data": {
      "text/html": [
       "<div><svg style=\"position: absolute; width: 0; height: 0; overflow: hidden\">\n",
       "<defs>\n",
       "<symbol id=\"icon-database\" viewBox=\"0 0 32 32\">\n",
       "<path d=\"M16 0c-8.837 0-16 2.239-16 5v4c0 2.761 7.163 5 16 5s16-2.239 16-5v-4c0-2.761-7.163-5-16-5z\"></path>\n",
       "<path d=\"M16 17c-8.837 0-16-2.239-16-5v6c0 2.761 7.163 5 16 5s16-2.239 16-5v-6c0 2.761-7.163 5-16 5z\"></path>\n",
       "<path d=\"M16 26c-8.837 0-16-2.239-16-5v6c0 2.761 7.163 5 16 5s16-2.239 16-5v-6c0 2.761-7.163 5-16 5z\"></path>\n",
       "</symbol>\n",
       "<symbol id=\"icon-file-text2\" viewBox=\"0 0 32 32\">\n",
       "<path d=\"M28.681 7.159c-0.694-0.947-1.662-2.053-2.724-3.116s-2.169-2.030-3.116-2.724c-1.612-1.182-2.393-1.319-2.841-1.319h-15.5c-1.378 0-2.5 1.121-2.5 2.5v27c0 1.378 1.122 2.5 2.5 2.5h23c1.378 0 2.5-1.122 2.5-2.5v-19.5c0-0.448-0.137-1.23-1.319-2.841zM24.543 5.457c0.959 0.959 1.712 1.825 2.268 2.543h-4.811v-4.811c0.718 0.556 1.584 1.309 2.543 2.268zM28 29.5c0 0.271-0.229 0.5-0.5 0.5h-23c-0.271 0-0.5-0.229-0.5-0.5v-27c0-0.271 0.229-0.5 0.5-0.5 0 0 15.499-0 15.5 0v7c0 0.552 0.448 1 1 1h7v19.5z\"></path>\n",
       "<path d=\"M23 26h-14c-0.552 0-1-0.448-1-1s0.448-1 1-1h14c0.552 0 1 0.448 1 1s-0.448 1-1 1z\"></path>\n",
       "<path d=\"M23 22h-14c-0.552 0-1-0.448-1-1s0.448-1 1-1h14c0.552 0 1 0.448 1 1s-0.448 1-1 1z\"></path>\n",
       "<path d=\"M23 18h-14c-0.552 0-1-0.448-1-1s0.448-1 1-1h14c0.552 0 1 0.448 1 1s-0.448 1-1 1z\"></path>\n",
       "</symbol>\n",
       "</defs>\n",
       "</svg>\n",
       "<style>/* CSS stylesheet for displaying xarray objects in jupyterlab.\n",
       " *\n",
       " */\n",
       "\n",
       ":root {\n",
       "  --xr-font-color0: var(--jp-content-font-color0, rgba(0, 0, 0, 1));\n",
       "  --xr-font-color2: var(--jp-content-font-color2, rgba(0, 0, 0, 0.54));\n",
       "  --xr-font-color3: var(--jp-content-font-color3, rgba(0, 0, 0, 0.38));\n",
       "  --xr-border-color: var(--jp-border-color2, #e0e0e0);\n",
       "  --xr-disabled-color: var(--jp-layout-color3, #bdbdbd);\n",
       "  --xr-background-color: var(--jp-layout-color0, white);\n",
       "  --xr-background-color-row-even: var(--jp-layout-color1, white);\n",
       "  --xr-background-color-row-odd: var(--jp-layout-color2, #eeeeee);\n",
       "}\n",
       "\n",
       "html[theme=dark],\n",
       "body.vscode-dark {\n",
       "  --xr-font-color0: rgba(255, 255, 255, 1);\n",
       "  --xr-font-color2: rgba(255, 255, 255, 0.54);\n",
       "  --xr-font-color3: rgba(255, 255, 255, 0.38);\n",
       "  --xr-border-color: #1F1F1F;\n",
       "  --xr-disabled-color: #515151;\n",
       "  --xr-background-color: #111111;\n",
       "  --xr-background-color-row-even: #111111;\n",
       "  --xr-background-color-row-odd: #313131;\n",
       "}\n",
       "\n",
       ".xr-wrap {\n",
       "  display: block !important;\n",
       "  min-width: 300px;\n",
       "  max-width: 700px;\n",
       "}\n",
       "\n",
       ".xr-text-repr-fallback {\n",
       "  /* fallback to plain text repr when CSS is not injected (untrusted notebook) */\n",
       "  display: none;\n",
       "}\n",
       "\n",
       ".xr-header {\n",
       "  padding-top: 6px;\n",
       "  padding-bottom: 6px;\n",
       "  margin-bottom: 4px;\n",
       "  border-bottom: solid 1px var(--xr-border-color);\n",
       "}\n",
       "\n",
       ".xr-header > div,\n",
       ".xr-header > ul {\n",
       "  display: inline;\n",
       "  margin-top: 0;\n",
       "  margin-bottom: 0;\n",
       "}\n",
       "\n",
       ".xr-obj-type,\n",
       ".xr-array-name {\n",
       "  margin-left: 2px;\n",
       "  margin-right: 10px;\n",
       "}\n",
       "\n",
       ".xr-obj-type {\n",
       "  color: var(--xr-font-color2);\n",
       "}\n",
       "\n",
       ".xr-sections {\n",
       "  padding-left: 0 !important;\n",
       "  display: grid;\n",
       "  grid-template-columns: 150px auto auto 1fr 20px 20px;\n",
       "}\n",
       "\n",
       ".xr-section-item {\n",
       "  display: contents;\n",
       "}\n",
       "\n",
       ".xr-section-item input {\n",
       "  display: none;\n",
       "}\n",
       "\n",
       ".xr-section-item input + label {\n",
       "  color: var(--xr-disabled-color);\n",
       "}\n",
       "\n",
       ".xr-section-item input:enabled + label {\n",
       "  cursor: pointer;\n",
       "  color: var(--xr-font-color2);\n",
       "}\n",
       "\n",
       ".xr-section-item input:enabled + label:hover {\n",
       "  color: var(--xr-font-color0);\n",
       "}\n",
       "\n",
       ".xr-section-summary {\n",
       "  grid-column: 1;\n",
       "  color: var(--xr-font-color2);\n",
       "  font-weight: 500;\n",
       "}\n",
       "\n",
       ".xr-section-summary > span {\n",
       "  display: inline-block;\n",
       "  padding-left: 0.5em;\n",
       "}\n",
       "\n",
       ".xr-section-summary-in:disabled + label {\n",
       "  color: var(--xr-font-color2);\n",
       "}\n",
       "\n",
       ".xr-section-summary-in + label:before {\n",
       "  display: inline-block;\n",
       "  content: '►';\n",
       "  font-size: 11px;\n",
       "  width: 15px;\n",
       "  text-align: center;\n",
       "}\n",
       "\n",
       ".xr-section-summary-in:disabled + label:before {\n",
       "  color: var(--xr-disabled-color);\n",
       "}\n",
       "\n",
       ".xr-section-summary-in:checked + label:before {\n",
       "  content: '▼';\n",
       "}\n",
       "\n",
       ".xr-section-summary-in:checked + label > span {\n",
       "  display: none;\n",
       "}\n",
       "\n",
       ".xr-section-summary,\n",
       ".xr-section-inline-details {\n",
       "  padding-top: 4px;\n",
       "  padding-bottom: 4px;\n",
       "}\n",
       "\n",
       ".xr-section-inline-details {\n",
       "  grid-column: 2 / -1;\n",
       "}\n",
       "\n",
       ".xr-section-details {\n",
       "  display: none;\n",
       "  grid-column: 1 / -1;\n",
       "  margin-bottom: 5px;\n",
       "}\n",
       "\n",
       ".xr-section-summary-in:checked ~ .xr-section-details {\n",
       "  display: contents;\n",
       "}\n",
       "\n",
       ".xr-array-wrap {\n",
       "  grid-column: 1 / -1;\n",
       "  display: grid;\n",
       "  grid-template-columns: 20px auto;\n",
       "}\n",
       "\n",
       ".xr-array-wrap > label {\n",
       "  grid-column: 1;\n",
       "  vertical-align: top;\n",
       "}\n",
       "\n",
       ".xr-preview {\n",
       "  color: var(--xr-font-color3);\n",
       "}\n",
       "\n",
       ".xr-array-preview,\n",
       ".xr-array-data {\n",
       "  padding: 0 5px !important;\n",
       "  grid-column: 2;\n",
       "}\n",
       "\n",
       ".xr-array-data,\n",
       ".xr-array-in:checked ~ .xr-array-preview {\n",
       "  display: none;\n",
       "}\n",
       "\n",
       ".xr-array-in:checked ~ .xr-array-data,\n",
       ".xr-array-preview {\n",
       "  display: inline-block;\n",
       "}\n",
       "\n",
       ".xr-dim-list {\n",
       "  display: inline-block !important;\n",
       "  list-style: none;\n",
       "  padding: 0 !important;\n",
       "  margin: 0;\n",
       "}\n",
       "\n",
       ".xr-dim-list li {\n",
       "  display: inline-block;\n",
       "  padding: 0;\n",
       "  margin: 0;\n",
       "}\n",
       "\n",
       ".xr-dim-list:before {\n",
       "  content: '(';\n",
       "}\n",
       "\n",
       ".xr-dim-list:after {\n",
       "  content: ')';\n",
       "}\n",
       "\n",
       ".xr-dim-list li:not(:last-child):after {\n",
       "  content: ',';\n",
       "  padding-right: 5px;\n",
       "}\n",
       "\n",
       ".xr-has-index {\n",
       "  font-weight: bold;\n",
       "}\n",
       "\n",
       ".xr-var-list,\n",
       ".xr-var-item {\n",
       "  display: contents;\n",
       "}\n",
       "\n",
       ".xr-var-item > div,\n",
       ".xr-var-item label,\n",
       ".xr-var-item > .xr-var-name span {\n",
       "  background-color: var(--xr-background-color-row-even);\n",
       "  margin-bottom: 0;\n",
       "}\n",
       "\n",
       ".xr-var-item > .xr-var-name:hover span {\n",
       "  padding-right: 5px;\n",
       "}\n",
       "\n",
       ".xr-var-list > li:nth-child(odd) > div,\n",
       ".xr-var-list > li:nth-child(odd) > label,\n",
       ".xr-var-list > li:nth-child(odd) > .xr-var-name span {\n",
       "  background-color: var(--xr-background-color-row-odd);\n",
       "}\n",
       "\n",
       ".xr-var-name {\n",
       "  grid-column: 1;\n",
       "}\n",
       "\n",
       ".xr-var-dims {\n",
       "  grid-column: 2;\n",
       "}\n",
       "\n",
       ".xr-var-dtype {\n",
       "  grid-column: 3;\n",
       "  text-align: right;\n",
       "  color: var(--xr-font-color2);\n",
       "}\n",
       "\n",
       ".xr-var-preview {\n",
       "  grid-column: 4;\n",
       "}\n",
       "\n",
       ".xr-var-name,\n",
       ".xr-var-dims,\n",
       ".xr-var-dtype,\n",
       ".xr-preview,\n",
       ".xr-attrs dt {\n",
       "  white-space: nowrap;\n",
       "  overflow: hidden;\n",
       "  text-overflow: ellipsis;\n",
       "  padding-right: 10px;\n",
       "}\n",
       "\n",
       ".xr-var-name:hover,\n",
       ".xr-var-dims:hover,\n",
       ".xr-var-dtype:hover,\n",
       ".xr-attrs dt:hover {\n",
       "  overflow: visible;\n",
       "  width: auto;\n",
       "  z-index: 1;\n",
       "}\n",
       "\n",
       ".xr-var-attrs,\n",
       ".xr-var-data {\n",
       "  display: none;\n",
       "  background-color: var(--xr-background-color) !important;\n",
       "  padding-bottom: 5px !important;\n",
       "}\n",
       "\n",
       ".xr-var-attrs-in:checked ~ .xr-var-attrs,\n",
       ".xr-var-data-in:checked ~ .xr-var-data {\n",
       "  display: block;\n",
       "}\n",
       "\n",
       ".xr-var-data > table {\n",
       "  float: right;\n",
       "}\n",
       "\n",
       ".xr-var-name span,\n",
       ".xr-var-data,\n",
       ".xr-attrs {\n",
       "  padding-left: 25px !important;\n",
       "}\n",
       "\n",
       ".xr-attrs,\n",
       ".xr-var-attrs,\n",
       ".xr-var-data {\n",
       "  grid-column: 1 / -1;\n",
       "}\n",
       "\n",
       "dl.xr-attrs {\n",
       "  padding: 0;\n",
       "  margin: 0;\n",
       "  display: grid;\n",
       "  grid-template-columns: 125px auto;\n",
       "}\n",
       "\n",
       ".xr-attrs dt,\n",
       ".xr-attrs dd {\n",
       "  padding: 0;\n",
       "  margin: 0;\n",
       "  float: left;\n",
       "  padding-right: 10px;\n",
       "  width: auto;\n",
       "}\n",
       "\n",
       ".xr-attrs dt {\n",
       "  font-weight: normal;\n",
       "  grid-column: 1;\n",
       "}\n",
       "\n",
       ".xr-attrs dt:hover span {\n",
       "  display: inline-block;\n",
       "  background: var(--xr-background-color);\n",
       "  padding-right: 10px;\n",
       "}\n",
       "\n",
       ".xr-attrs dd {\n",
       "  grid-column: 2;\n",
       "  white-space: pre-wrap;\n",
       "  word-break: break-all;\n",
       "}\n",
       "\n",
       ".xr-icon-database,\n",
       ".xr-icon-file-text2 {\n",
       "  display: inline-block;\n",
       "  vertical-align: middle;\n",
       "  width: 1em;\n",
       "  height: 1.5em !important;\n",
       "  stroke-width: 0;\n",
       "  stroke: currentColor;\n",
       "  fill: currentColor;\n",
       "}\n",
       "</style><pre class='xr-text-repr-fallback'>&lt;TimeSeries (DataArray) (time: 16000, component: 13, sample: 1)&gt;\n",
       "array([[[0.47829816],\n",
       "        [0.1841542 ],\n",
       "        [0.61786441],\n",
       "        ...,\n",
       "        [0.32632286],\n",
       "        [0.39205463],\n",
       "        [0.38190034]],\n",
       "\n",
       "       [[0.46146907],\n",
       "        [0.20089549],\n",
       "        [0.63011432],\n",
       "        ...,\n",
       "        [0.3079467 ],\n",
       "        [0.39132802],\n",
       "        [0.36640998]],\n",
       "\n",
       "       [[0.44463998],\n",
       "        [0.21763679],\n",
       "        [0.64212555],\n",
       "        ...,\n",
       "...\n",
       "        ...,\n",
       "        [0.44197709],\n",
       "        [0.56470759],\n",
       "        [0.55636102]],\n",
       "\n",
       "       [[0.58342644],\n",
       "        [0.86521418],\n",
       "        [0.43634869],\n",
       "        ...,\n",
       "        [0.43902569],\n",
       "        [0.56858949],\n",
       "        [0.56227862]],\n",
       "\n",
       "       [[0.58342644],\n",
       "        [0.86521418],\n",
       "        [0.43634869],\n",
       "        ...,\n",
       "        [0.43873891],\n",
       "        [0.56079836],\n",
       "        [0.55858936]]])\n",
       "Coordinates:\n",
       "  * time       (time) datetime64[ns] 1970-01-01 ... 1970-01-01T00:00:00.00001...\n",
       "  * component  (component) &lt;U4 &#x27;f&#x27; &#x27;Zc&#x27; &#x27;pbh&#x27; &#x27;pwh&#x27; &#x27;q&#x27; ... &#x27;H&#x27; &#x27;P&#x27; &#x27;I&#x27; &#x27;qc&#x27; &#x27;5&#x27;\n",
       "Dimensions without coordinates: sample\n",
       "Attributes:\n",
       "    static_covariates:  None\n",
       "    hierarchy:          None</pre><div class='xr-wrap' style='display:none'><div class='xr-header'><div class='xr-obj-type'>TimeSeries (DataArray)</div><div class='xr-array-name'></div><ul class='xr-dim-list'><li><span class='xr-has-index'>time</span>: 16000</li><li><span class='xr-has-index'>component</span>: 13</li><li><span>sample</span>: 1</li></ul></div><ul class='xr-sections'><li class='xr-section-item'><div class='xr-array-wrap'><input id='section-7bf2b6f4-0325-4ab8-baeb-312cff28d284' class='xr-array-in' type='checkbox' checked><label for='section-7bf2b6f4-0325-4ab8-baeb-312cff28d284' title='Show/hide data repr'><svg class='icon xr-icon-database'><use xlink:href='#icon-database'></use></svg></label><div class='xr-array-preview xr-preview'><span>0.4783 0.1842 0.6179 0.3757 0.3702 ... 0.4374 0.4387 0.5608 0.5586</span></div><div class='xr-array-data'><pre>array([[[0.47829816],\n",
       "        [0.1841542 ],\n",
       "        [0.61786441],\n",
       "        ...,\n",
       "        [0.32632286],\n",
       "        [0.39205463],\n",
       "        [0.38190034]],\n",
       "\n",
       "       [[0.46146907],\n",
       "        [0.20089549],\n",
       "        [0.63011432],\n",
       "        ...,\n",
       "        [0.3079467 ],\n",
       "        [0.39132802],\n",
       "        [0.36640998]],\n",
       "\n",
       "       [[0.44463998],\n",
       "        [0.21763679],\n",
       "        [0.64212555],\n",
       "        ...,\n",
       "...\n",
       "        ...,\n",
       "        [0.44197709],\n",
       "        [0.56470759],\n",
       "        [0.55636102]],\n",
       "\n",
       "       [[0.58342644],\n",
       "        [0.86521418],\n",
       "        [0.43634869],\n",
       "        ...,\n",
       "        [0.43902569],\n",
       "        [0.56858949],\n",
       "        [0.56227862]],\n",
       "\n",
       "       [[0.58342644],\n",
       "        [0.86521418],\n",
       "        [0.43634869],\n",
       "        ...,\n",
       "        [0.43873891],\n",
       "        [0.56079836],\n",
       "        [0.55858936]]])</pre></div></div></li><li class='xr-section-item'><input id='section-fe543348-8ab6-4980-bcb0-85a82604dc74' class='xr-section-summary-in' type='checkbox'  checked><label for='section-fe543348-8ab6-4980-bcb0-85a82604dc74' class='xr-section-summary' >Coordinates: <span>(2)</span></label><div class='xr-section-inline-details'></div><div class='xr-section-details'><ul class='xr-var-list'><li class='xr-var-item'><div class='xr-var-name'><span class='xr-has-index'>time</span></div><div class='xr-var-dims'>(time)</div><div class='xr-var-dtype'>datetime64[ns]</div><div class='xr-var-preview xr-preview'>1970-01-01 ... 1970-01-01T00:00:...</div><input id='attrs-d69348de-9100-43d1-8d6f-86a798658fcd' class='xr-var-attrs-in' type='checkbox' disabled><label for='attrs-d69348de-9100-43d1-8d6f-86a798658fcd' title='Show/Hide attributes'><svg class='icon xr-icon-file-text2'><use xlink:href='#icon-file-text2'></use></svg></label><input id='data-ab3650a3-db34-4dac-9027-056e7a570a8b' class='xr-var-data-in' type='checkbox'><label for='data-ab3650a3-db34-4dac-9027-056e7a570a8b' title='Show/Hide data repr'><svg class='icon xr-icon-database'><use xlink:href='#icon-database'></use></svg></label><div class='xr-var-attrs'><dl class='xr-attrs'></dl></div><div class='xr-var-data'><pre>array([&#x27;1970-01-01T00:00:00.000000000&#x27;, &#x27;1970-01-01T00:00:00.000000001&#x27;,\n",
       "       &#x27;1970-01-01T00:00:00.000000002&#x27;, ..., &#x27;1970-01-01T00:00:00.000015997&#x27;,\n",
       "       &#x27;1970-01-01T00:00:00.000015998&#x27;, &#x27;1970-01-01T00:00:00.000015999&#x27;],\n",
       "      dtype=&#x27;datetime64[ns]&#x27;)</pre></div></li><li class='xr-var-item'><div class='xr-var-name'><span class='xr-has-index'>component</span></div><div class='xr-var-dims'>(component)</div><div class='xr-var-dtype'>&lt;U4</div><div class='xr-var-preview xr-preview'>&#x27;f&#x27; &#x27;Zc&#x27; &#x27;pbh&#x27; ... &#x27;I&#x27; &#x27;qc&#x27; &#x27;5&#x27;</div><input id='attrs-f55a6ac2-38f0-44ac-9f5d-d7d471006782' class='xr-var-attrs-in' type='checkbox' disabled><label for='attrs-f55a6ac2-38f0-44ac-9f5d-d7d471006782' title='Show/Hide attributes'><svg class='icon xr-icon-file-text2'><use xlink:href='#icon-file-text2'></use></svg></label><input id='data-a73b1846-204b-4e1b-9429-a278b88be03f' class='xr-var-data-in' type='checkbox'><label for='data-a73b1846-204b-4e1b-9429-a278b88be03f' title='Show/Hide data repr'><svg class='icon xr-icon-database'><use xlink:href='#icon-database'></use></svg></label><div class='xr-var-attrs'><dl class='xr-attrs'></dl></div><div class='xr-var-data'><pre>array([&#x27;f&#x27;, &#x27;Zc&#x27;, &#x27;pbh&#x27;, &#x27;pwh&#x27;, &#x27;q&#x27;, &#x27;fq&#x27;, &#x27;Zc.1&#x27;, &#x27;Pin&#x27;, &#x27;H&#x27;, &#x27;P&#x27;, &#x27;I&#x27;, &#x27;qc&#x27;,\n",
       "       &#x27;5&#x27;], dtype=&#x27;&lt;U4&#x27;)</pre></div></li></ul></div></li><li class='xr-section-item'><input id='section-8f5b130f-45dc-42cf-99e9-b1e5e4b8c120' class='xr-section-summary-in' type='checkbox'  checked><label for='section-8f5b130f-45dc-42cf-99e9-b1e5e4b8c120' class='xr-section-summary' >Attributes: <span>(2)</span></label><div class='xr-section-inline-details'></div><div class='xr-section-details'><dl class='xr-attrs'><dt><span>static_covariates :</span></dt><dd>None</dd><dt><span>hierarchy :</span></dt><dd>None</dd></dl></div></li></ul></div></div>"
      ],
      "text/plain": [
       "<TimeSeries (DataArray) (time: 16000, component: 13, sample: 1)>\n",
       "array([[[0.47829816],\n",
       "        [0.1841542 ],\n",
       "        [0.61786441],\n",
       "        ...,\n",
       "        [0.32632286],\n",
       "        [0.39205463],\n",
       "        [0.38190034]],\n",
       "\n",
       "       [[0.46146907],\n",
       "        [0.20089549],\n",
       "        [0.63011432],\n",
       "        ...,\n",
       "        [0.3079467 ],\n",
       "        [0.39132802],\n",
       "        [0.36640998]],\n",
       "\n",
       "       [[0.44463998],\n",
       "        [0.21763679],\n",
       "        [0.64212555],\n",
       "        ...,\n",
       "...\n",
       "        ...,\n",
       "        [0.44197709],\n",
       "        [0.56470759],\n",
       "        [0.55636102]],\n",
       "\n",
       "       [[0.58342644],\n",
       "        [0.86521418],\n",
       "        [0.43634869],\n",
       "        ...,\n",
       "        [0.43902569],\n",
       "        [0.56858949],\n",
       "        [0.56227862]],\n",
       "\n",
       "       [[0.58342644],\n",
       "        [0.86521418],\n",
       "        [0.43634869],\n",
       "        ...,\n",
       "        [0.43873891],\n",
       "        [0.56079836],\n",
       "        [0.55858936]]])\n",
       "Coordinates:\n",
       "  * time       (time) datetime64[ns] 1970-01-01 ... 1970-01-01T00:00:00.00001...\n",
       "  * component  (component) <U4 'f' 'Zc' 'pbh' 'pwh' 'q' ... 'H' 'P' 'I' 'qc' '5'\n",
       "Dimensions without coordinates: sample\n",
       "Attributes:\n",
       "    static_covariates:  None\n",
       "    hierarchy:          None"
      ]
     },
     "execution_count": 8,
     "metadata": {},
     "output_type": "execute_result"
    }
   ],
   "source": [
    "qs = D['q'].squeeze()\n",
    "Pins = D['Pin'].squeeze()\n",
    "Hs = D['H'].squeeze()\n",
    "dts = TimeSeries.from_dataframe(D) \n",
    "dts"
   ]
  },
  {
   "cell_type": "code",
   "execution_count": 9,
   "id": "4b32a76b",
   "metadata": {
    "execution": {
     "iopub.execute_input": "2023-03-15T02:02:40.615728Z",
     "iopub.status.busy": "2023-03-15T02:02:40.615448Z",
     "iopub.status.idle": "2023-03-15T02:02:41.876787Z",
     "shell.execute_reply": "2023-03-15T02:02:41.875724Z"
    },
    "papermill": {
     "duration": 1.362478,
     "end_time": "2023-03-15T02:02:41.879365",
     "exception": false,
     "start_time": "2023-03-15T02:02:40.516887",
     "status": "completed"
    },
    "tags": []
   },
   "outputs": [
    {
     "data": {
      "text/plain": [
       "array([<AxesSubplot:xlabel='time'>, <AxesSubplot:xlabel='time'>,\n",
       "       <AxesSubplot:xlabel='time'>], dtype=object)"
      ]
     },
     "execution_count": 9,
     "metadata": {},
     "output_type": "execute_result"
    },
    {
     "data": {
      "text/plain": [
       "<Figure size 432x288 with 0 Axes>"
      ]
     },
     "metadata": {},
     "output_type": "display_data"
    },
    {
     "data": {
      "image/png": "[encoded data removed]",
      "text/plain": [
       "<Figure size 432x432 with 3 Axes>"
      ]
     },
     "metadata": {
      "needs_background": "light"
     },
     "output_type": "display_data"
    }
   ],
   "source": [
    "column_indices = {name: i for i, name in enumerate(D.columns)}\n",
    "column_indices\n",
    "n = len(D)\n",
    "num_features = D.shape[1]\n",
    "\n",
    "#train DATA\n",
    "train_df = D[0:int(n)] #100% \n",
    "train_df = train_df.transpose()\n",
    "train_df = train_df.drop(['pbh','pwh','fq','Zc.1','I','qc','P','f','Zc'])\n",
    "train_df = train_df[:-1]\n",
    "train_df = train_df.transpose()\n",
    "train_df \n",
    "plt.figure() \n",
    "train_df.plot(subplots=True, figsize=(6, 6))\n"
   ]
  },
  {
   "cell_type": "markdown",
   "id": "edace46b",
   "metadata": {
    "papermill": {
     "duration": 0.098892,
     "end_time": "2023-03-15T02:02:42.075778",
     "exception": false,
     "start_time": "2023-03-15T02:02:41.976886",
     "status": "completed"
    },
    "tags": []
   },
   "source": []
  },
  {
   "cell_type": "code",
   "execution_count": 10,
   "id": "0b17054d",
   "metadata": {
    "execution": {
     "iopub.execute_input": "2023-03-15T02:02:42.267604Z",
     "iopub.status.busy": "2023-03-15T02:02:42.267321Z",
     "iopub.status.idle": "2023-03-15T02:02:42.675141Z",
     "shell.execute_reply": "2023-03-15T02:02:42.674173Z"
    },
    "papermill": {
     "duration": 0.504897,
     "end_time": "2023-03-15T02:02:42.677385",
     "exception": false,
     "start_time": "2023-03-15T02:02:42.172488",
     "status": "completed"
    },
    "tags": []
   },
   "outputs": [
    {
     "data": {
      "image/png": "[encoded data removed]",
      "text/plain": [
       "<Figure size 432x288 with 1 Axes>"
      ]
     },
     "metadata": {
      "needs_background": "light"
     },
     "output_type": "display_data"
    }
   ],
   "source": [
    "train_TS = TimeSeries.from_dataframe(train_df) \n",
    "train_TS\n",
    "train_TS['q'].plot()"
   ]
  },
  {
   "cell_type": "code",
   "execution_count": 11,
   "id": "14f37756",
   "metadata": {
    "execution": {
     "iopub.execute_input": "2023-03-15T02:02:42.867322Z",
     "iopub.status.busy": "2023-03-15T02:02:42.866433Z",
     "iopub.status.idle": "2023-03-15T02:02:43.819142Z",
     "shell.execute_reply": "2023-03-15T02:02:43.818098Z"
    },
    "papermill": {
     "duration": 1.050798,
     "end_time": "2023-03-15T02:02:43.821427",
     "exception": false,
     "start_time": "2023-03-15T02:02:42.770629",
     "status": "completed"
    },
    "tags": []
   },
   "outputs": [
    {
     "data": {
      "image/png": "[encoded data removed]",
      "text/plain": [
       "<Figure size 432x288 with 3 Axes>"
      ]
     },
     "metadata": {
      "needs_background": "light"
     },
     "output_type": "display_data"
    }
   ],
   "source": [
    "fig = plt.figure()\n",
    "ax1 = fig.add_subplot(1, 1, 1)\n",
    "train_df['q'].plot()\n",
    "ax1.set_xlabel('Time (s)')\n",
    "ax1.set_ylabel('Vaçao')\n",
    "ax1.set_title('first data set')\n",
    "ax1.legend()\n",
    "ax2 = fig.add_subplot(2, 1, 2)\n",
    "train_df['Pin'].plot()\n",
    "ax2.set_xlabel('Time (s)')\n",
    "ax2.set_ylabel('Pressao Intake')\n",
    "ax2.set_title('second data set')\n",
    "ax2.legend()\n",
    "ax3 = fig.add_subplot(3, 1, 3)\n",
    "train_df['H'].plot()\n",
    "ax3.set_xlabel('Time (s)')\n",
    "ax3.set_ylabel('Head')\n",
    "ax3.set_title('3 data set')\n",
    "ax3.legend()\n",
    "plt.show()"
   ]
  },
  {
   "cell_type": "code",
   "execution_count": 12,
   "id": "02b1d9ac",
   "metadata": {
    "execution": {
     "iopub.execute_input": "2023-03-15T02:02:44.018128Z",
     "iopub.status.busy": "2023-03-15T02:02:44.017816Z",
     "iopub.status.idle": "2023-03-15T02:02:44.504926Z",
     "shell.execute_reply": "2023-03-15T02:02:44.503988Z"
    },
    "papermill": {
     "duration": 0.586489,
     "end_time": "2023-03-15T02:02:44.507233",
     "exception": false,
     "start_time": "2023-03-15T02:02:43.920744",
     "status": "completed"
    },
    "tags": []
   },
   "outputs": [
    {
     "data": {
      "image/png": "[encoded data removed]",
      "text/plain": [
       "<Figure size 432x288 with 1 Axes>"
      ]
     },
     "metadata": {
      "needs_background": "light"
     },
     "output_type": "display_data"
    }
   ],
   "source": [
    "f_df = D[0:int(n)] #30%\n",
    "f_df = f_df.transpose()\n",
    "f_df = f_df.drop(['pbh','pwh','fq','Zc.1','I','qc','P','Zc','H','Pin','q'])\n",
    "f_df = f_df[:-1]\n",
    "f_df = f_df.transpose()\n",
    "f_df\n",
    "f_TS = TimeSeries.from_dataframe(f_df) \n",
    "f_TS.plot()"
   ]
  },
  {
   "cell_type": "code",
   "execution_count": 13,
   "id": "03b0e112",
   "metadata": {
    "execution": {
     "iopub.execute_input": "2023-03-15T02:02:44.708912Z",
     "iopub.status.busy": "2023-03-15T02:02:44.708210Z",
     "iopub.status.idle": "2023-03-15T02:02:45.238104Z",
     "shell.execute_reply": "2023-03-15T02:02:45.237239Z"
    },
    "papermill": {
     "duration": 0.632196,
     "end_time": "2023-03-15T02:02:45.240921",
     "exception": false,
     "start_time": "2023-03-15T02:02:44.608725",
     "status": "completed"
    },
    "tags": []
   },
   "outputs": [
    {
     "data": {
      "image/png": "[encoded data removed]",
      "text/plain": [
       "<Figure size 432x288 with 1 Axes>"
      ]
     },
     "metadata": {
      "needs_background": "light"
     },
     "output_type": "display_data"
    }
   ],
   "source": [
    "Zc_df = D[0:int(n)] #30%\n",
    "Zc_df = Zc_df.transpose()\n",
    "Zc_df = Zc_df.drop(['pbh','pwh','fq','Zc.1','I','qc','P','f','H','Pin','q'])\n",
    "Zc_df = Zc_df[:-1]\n",
    "Zc_df = Zc_df.transpose()\n",
    "Zc_df\n",
    "Zc_TS = TimeSeries.from_dataframe(Zc_df) \n",
    "Zc_TS.plot()"
   ]
  },
  {
   "cell_type": "code",
   "execution_count": 14,
   "id": "812344de",
   "metadata": {
    "execution": {
     "iopub.execute_input": "2023-03-15T02:02:45.532936Z",
     "iopub.status.busy": "2023-03-15T02:02:45.532627Z",
     "iopub.status.idle": "2023-03-15T02:02:46.335948Z",
     "shell.execute_reply": "2023-03-15T02:02:46.335094Z"
    },
    "papermill": {
     "duration": 0.952206,
     "end_time": "2023-03-15T02:02:46.338299",
     "exception": false,
     "start_time": "2023-03-15T02:02:45.386093",
     "status": "completed"
    },
    "tags": []
   },
   "outputs": [
    {
     "data": {
      "image/png": "[encoded data removed]",
      "text/plain": [
       "<Figure size 432x288 with 1 Axes>"
      ]
     },
     "metadata": {
      "needs_background": "light"
     },
     "output_type": "display_data"
    }
   ],
   "source": [
    "train, val = train_TS.split_before(0.8)\n",
    "trainZc_TS, valZc_TS= Zc_TS.split_before(0.8)\n",
    "trainf_TS, valf_TS= f_TS.split_before(0.8)\n",
    "train.plot(label=\"train\")\n",
    "val.plot(label=\"val\")"
   ]
  },
  {
   "cell_type": "code",
   "execution_count": 15,
   "id": "19d203bd",
   "metadata": {
    "execution": {
     "iopub.execute_input": "2023-03-15T02:02:46.545286Z",
     "iopub.status.busy": "2023-03-15T02:02:46.543356Z",
     "iopub.status.idle": "2023-03-15T02:02:47.756465Z",
     "shell.execute_reply": "2023-03-15T02:02:47.755002Z"
    },
    "papermill": {
     "duration": 1.316986,
     "end_time": "2023-03-15T02:02:47.758559",
     "exception": true,
     "start_time": "2023-03-15T02:02:46.441573",
     "status": "failed"
    },
    "tags": []
   },
   "outputs": [
    {
     "ename": "NameError",
     "evalue": "name 'pred_val' is not defined",
     "output_type": "error",
     "traceback": [
      "\u001b[0;31m---------------------------------------------------------------------------\u001b[0m",
      "\u001b[0;31mNameError\u001b[0m                                 Traceback (most recent call last)",
      "\u001b[0;32m/tmp/ipykernel_24/3384898471.py\u001b[0m in \u001b[0;36m<module>\u001b[0;34m\u001b[0m\n\u001b[1;32m      1\u001b[0m \u001b[0mtrain\u001b[0m\u001b[0;34m.\u001b[0m\u001b[0mplot\u001b[0m\u001b[0;34m(\u001b[0m\u001b[0mlabel\u001b[0m\u001b[0;34m=\u001b[0m\u001b[0;34m\"train\"\u001b[0m\u001b[0;34m)\u001b[0m\u001b[0;34m\u001b[0m\u001b[0;34m\u001b[0m\u001b[0m\n\u001b[1;32m      2\u001b[0m \u001b[0mval\u001b[0m\u001b[0;34m.\u001b[0m\u001b[0mplot\u001b[0m\u001b[0;34m(\u001b[0m\u001b[0mlabel\u001b[0m\u001b[0;34m=\u001b[0m\u001b[0;34m\"val\"\u001b[0m\u001b[0;34m)\u001b[0m\u001b[0;34m\u001b[0m\u001b[0;34m\u001b[0m\u001b[0m\n\u001b[0;32m----> 3\u001b[0;31m \u001b[0mpred_val\u001b[0m\u001b[0;34m.\u001b[0m\u001b[0mplot\u001b[0m\u001b[0;34m(\u001b[0m\u001b[0mlabel\u001b[0m\u001b[0;34m=\u001b[0m\u001b[0;34m\"prediction\"\u001b[0m\u001b[0;34m)\u001b[0m\u001b[0;34m\u001b[0m\u001b[0;34m\u001b[0m\u001b[0m\n\u001b[0m\u001b[1;32m      4\u001b[0m \u001b[0mprint\u001b[0m\u001b[0;34m(\u001b[0m\u001b[0;34m\"MAE:\"\u001b[0m\u001b[0;34m,\u001b[0m \u001b[0mmae\u001b[0m\u001b[0;34m(\u001b[0m\u001b[0mpred_val\u001b[0m\u001b[0;34m,\u001b[0m \u001b[0mval\u001b[0m\u001b[0;34m)\u001b[0m\u001b[0;34m)\u001b[0m\u001b[0;34m\u001b[0m\u001b[0;34m\u001b[0m\u001b[0m\n",
      "\u001b[0;31mNameError\u001b[0m: name 'pred_val' is not defined"
     ]
    },
    {
     "data": {
      "image/png": "[encoded data removed]",
      "text/plain": [
       "<Figure size 432x288 with 1 Axes>"
      ]
     },
     "metadata": {
      "needs_background": "light"
     },
     "output_type": "display_data"
    }
   ],
   "source": [
    "train.plot(label=\"train\")\n",
    "val.plot(label=\"val\")\n",
    "pred_val.plot(label=\"prediction\")\n",
    "print(\"MAE:\", mae(pred_val, val))"
   ]
  },
  {
   "cell_type": "code",
   "execution_count": null,
   "id": "c44119fe",
   "metadata": {
    "execution": {
     "iopub.execute_input": "2023-03-14T17:18:54.411266Z",
     "iopub.status.busy": "2023-03-14T17:18:54.410930Z",
     "iopub.status.idle": "2023-03-14T17:18:54.494236Z",
     "shell.execute_reply": "2023-03-14T17:18:54.493111Z",
     "shell.execute_reply.started": "2023-03-14T17:18:54.411224Z"
    },
    "papermill": {
     "duration": null,
     "end_time": null,
     "exception": null,
     "start_time": null,
     "status": "pending"
    },
    "tags": []
   },
   "outputs": [],
   "source": [
    "def eval_model(model, past_covariates=None, future_covariates=None):\n",
    "    # Past and future covariates are optional because they won't always be used in our tests\n",
    "    \n",
    "    # We backtest the model on the last 20% of the flow series, with a horizon of 10 steps:\n",
    "    backtest = model.historical_forecasts(series=train_TS, \n",
    "                                          past_covariates=past_covariates,\n",
    "                                          start=0.8, \n",
    "                                          retrain=False,\n",
    "                                          verbose=False, \n",
    "                                          forecast_horizon=10)\n",
    "    \n",
    "    train_TS[-len(backtest)-100:].plot()\n",
    "    backtest.plot(label='backtest (n=10)')\n",
    "    print('Backtest RMSE = {}'.format(rmse(train_TS, backtest)))\n",
    "    return backtest"
   ]
  },
  {
   "cell_type": "code",
   "execution_count": null,
   "id": "6a21c774",
   "metadata": {
    "papermill": {
     "duration": null,
     "end_time": null,
     "exception": null,
     "start_time": null,
     "status": "pending"
    },
    "tags": []
   },
   "outputs": [],
   "source": [
    "def predict_model(model,past_covariates=None, future_covariates=None):\n",
    "    pred_series = model.predict(n=10,past_covariates=past_covariates)\n",
    "    plt.figure(figsize=(8, 5))\n",
    "    input_TS.plot(label=\"actual\")\n",
    "    pred_series.plot(label=\"forecast\")\n",
    "    plt.title(\"rmse: {:.2f}%\".format(rmse(pred_series, target_val_input)))\n",
    "    plt.legend()\n",
    "    return pred_series"
   ]
  },
  {
   "cell_type": "code",
   "execution_count": null,
   "id": "0d20a68f",
   "metadata": {
    "papermill": {
     "duration": null,
     "end_time": null,
     "exception": null,
     "start_time": null,
     "status": "pending"
    },
    "tags": []
   },
   "outputs": [],
   "source": [
    "brnn_no_cov.to_cpu()\n",
    "brnn_no_cov.save(\"my_model_brnn_T1.pt\")"
   ]
  },
  {
   "cell_type": "code",
   "execution_count": null,
   "id": "a31f9dbb",
   "metadata": {
    "papermill": {
     "duration": null,
     "end_time": null,
     "exception": null,
     "start_time": null,
     "status": "pending"
    },
    "tags": []
   },
   "outputs": [],
   "source": [
    "model_BRNN = BlockRNNModel.load(\"/kaggle/working/my_model_brnn_T1.pt\")\n"
   ]
  },
  {
   "cell_type": "code",
   "execution_count": null,
   "id": "8f6d1029",
   "metadata": {
    "papermill": {
     "duration": null,
     "end_time": null,
     "exception": null,
     "start_time": null,
     "status": "pending"
    },
    "tags": []
   },
   "outputs": [],
   "source": [
    "#eval_model(model_BRNN)\n",
    "model_BRNN.backtest(train_TS, past_covariates=None, future_covariates=None, num_samples=1, train_length=None, start=None, forecast_horizon=1, stride=1, retrain=True, overlap_end=False, last_points_only=False, metric=<function mape>, reduction=<function mean>, verbose=False)"
   ]
  },
  {
   "cell_type": "markdown",
   "id": "eb3d1026",
   "metadata": {
    "papermill": {
     "duration": null,
     "end_time": null,
     "exception": null,
     "start_time": null,
     "status": "pending"
    },
    "tags": []
   },
   "source": [
    "2 serie(f,Zc) like past covariates"
   ]
  },
  {
   "cell_type": "code",
   "execution_count": null,
   "id": "8d08951f",
   "metadata": {
    "papermill": {
     "duration": null,
     "end_time": null,
     "exception": null,
     "start_time": null,
     "status": "pending"
    },
    "tags": []
   },
   "outputs": [],
   "source": [
    "\n",
    "\n",
    "regr_model = RegressionModel(lags=[-4, -3, -2, -1],\n",
    "                             lags_past_covariates=[-4, -3, -2, -1])\n",
    "\n",
    "regr_model.fit(train_TS, past_covariates=f_TS.stack(Zc_TS))\n",
    "\n",
    "Predict_RM = eval_model(regr_model)\n"
   ]
  },
  {
   "cell_type": "code",
   "execution_count": null,
   "id": "b1e70461",
   "metadata": {
    "papermill": {
     "duration": null,
     "end_time": null,
     "exception": null,
     "start_time": null,
     "status": "pending"
    },
    "tags": []
   },
   "outputs": [],
   "source": [
    "regr_model.save(\"my_model_regression.pkl\")\n"
   ]
  },
  {
   "cell_type": "code",
   "execution_count": null,
   "id": "022c7db7",
   "metadata": {
    "papermill": {
     "duration": null,
     "end_time": null,
     "exception": null,
     "start_time": null,
     "status": "pending"
    },
    "tags": []
   },
   "outputs": [],
   "source": [
    "regr_model = RegressionModel.load(\"/kaggle/working/my_model_regression.pkl\")"
   ]
  },
  {
   "cell_type": "code",
   "execution_count": null,
   "id": "c7bcdf7f",
   "metadata": {
    "papermill": {
     "duration": null,
     "end_time": null,
     "exception": null,
     "start_time": null,
     "status": "pending"
    },
    "tags": []
   },
   "outputs": [],
   "source": [
    "#regr_model.residuals(train_TS, past_covariates=[-4, -3, -2, -1], forecast_horizon=1, retrain=True, verbose=False)\n",
    "regr_model.extreme_lags\n"
   ]
  },
  {
   "cell_type": "code",
   "execution_count": null,
   "id": "8c5be40d",
   "metadata": {
    "papermill": {
     "duration": null,
     "end_time": null,
     "exception": null,
     "start_time": null,
     "status": "pending"
    },
    "tags": []
   },
   "outputs": [],
   "source": [
    "regr_model.backtest(train_TS, past_covariates=[-4, -3, -2, -1] , num_samples=1, train_length=None, start=2, forecast_horizon=1, stride=1, retrain=True, overlap_end=False, last_points_only=False, metric= rmse, verbose=False)"
   ]
  },
  {
   "cell_type": "code",
   "execution_count": null,
   "id": "e3faad0c",
   "metadata": {
    "papermill": {
     "duration": null,
     "end_time": null,
     "exception": null,
     "start_time": null,
     "status": "pending"
    },
    "tags": []
   },
   "outputs": [],
   "source": [
    "Pred_reg = eval_model(regr_model)"
   ]
  },
  {
   "cell_type": "code",
   "execution_count": null,
   "id": "09d593ec",
   "metadata": {
    "execution": {
     "iopub.execute_input": "2023-03-14T18:23:48.005174Z",
     "iopub.status.busy": "2023-03-14T18:23:48.004869Z",
     "iopub.status.idle": "2023-03-14T18:23:48.083623Z",
     "shell.execute_reply": "2023-03-14T18:23:48.082371Z",
     "shell.execute_reply.started": "2023-03-14T18:23:48.005142Z"
    },
    "papermill": {
     "duration": null,
     "end_time": null,
     "exception": null,
     "start_time": null,
     "status": "pending"
    },
    "tags": []
   },
   "outputs": [],
   "source": [
    "model_BCS = NBEATSModel(\n",
    "    input_chunk_length=10, \n",
    "    output_chunk_length=10, \n",
    "    n_epochs=200, \n",
    "    random_state=0,\n",
    "    generic_architecture=False,\n",
    "    num_stacks=10,\n",
    "    num_blocks=6,\n",
    "    num_layers=6,\n",
    "    layer_widths=512,\n",
    "    nr_epochs_val_period=1,\n",
    "    batch_size=100,\n",
    "    model_name=\"nbeats_run\",\n",
    "    pl_trainer_kwargs={\"accelerator\": \"gpu\", \"devices\": [0] }\n",
    ")\n",
    "    \n"
   ]
  },
  {
   "cell_type": "code",
   "execution_count": null,
   "id": "67edda8a",
   "metadata": {
    "papermill": {
     "duration": null,
     "end_time": null,
     "exception": null,
     "start_time": null,
     "status": "pending"
    },
    "tags": []
   },
   "outputs": [],
   "source": [
    "import torch.multiprocessing as mp\n",
    "\n",
    "\n",
    "mp.multiprocessing.set_start_method('spawn')"
   ]
  },
  {
   "cell_type": "code",
   "execution_count": null,
   "id": "170df19f",
   "metadata": {
    "execution": {
     "iopub.execute_input": "2023-03-14T14:02:18.983337Z",
     "iopub.status.busy": "2023-03-14T14:02:18.982713Z",
     "iopub.status.idle": "2023-03-14T16:44:33.019258Z",
     "shell.execute_reply": "2023-03-14T16:44:33.018182Z",
     "shell.execute_reply.started": "2023-03-14T14:02:18.983283Z"
    },
    "papermill": {
     "duration": null,
     "end_time": null,
     "exception": null,
     "start_time": null,
     "status": "pending"
    },
    "tags": []
   },
   "outputs": [],
   "source": [
    "model_BCS.fit(train_TS,\n",
    "              past_covariates= f_TS.stack(Zc_TS), \n",
    "              verbose=False,\n",
    "              epochs = 600)"
   ]
  },
  {
   "cell_type": "code",
   "execution_count": null,
   "id": "b5bb0d83",
   "metadata": {
    "papermill": {
     "duration": null,
     "end_time": null,
     "exception": null,
     "start_time": null,
     "status": "pending"
    },
    "tags": []
   },
   "outputs": [],
   "source": [
    "Predict_NBEATS = eval_model(model_BCS)\n",
    "model_BCS.save(\"NBEATSModel_bcs.pt\")\n"
   ]
  },
  {
   "cell_type": "code",
   "execution_count": null,
   "id": "f858f8b3",
   "metadata": {
    "papermill": {
     "duration": null,
     "end_time": null,
     "exception": null,
     "start_time": null,
     "status": "pending"
    },
    "tags": []
   },
   "outputs": [],
   "source": [
    "model_BCS.save(\"NB_Model_v1.pt\")"
   ]
  },
  {
   "cell_type": "code",
   "execution_count": null,
   "id": "e3f696e2",
   "metadata": {
    "papermill": {
     "duration": null,
     "end_time": null,
     "exception": null,
     "start_time": null,
     "status": "pending"
    },
    "tags": []
   },
   "outputs": [],
   "source": [
    "pred_series = model_BCS.predict(n=10)"
   ]
  },
  {
   "cell_type": "code",
   "execution_count": null,
   "id": "56695640",
   "metadata": {
    "papermill": {
     "duration": null,
     "end_time": null,
     "exception": null,
     "start_time": null,
     "status": "pending"
    },
    "tags": []
   },
   "outputs": [],
   "source": [
    "model_BRNN = BlockRNNModel.load(\"/kaggle/working/my_model_v1.pt\")\n",
    "model_TCM = TCNModel.load(\"/kaggle/working/my_model_TCN.pt\")\n",
    "model_NB = NBEATSModel.load(\"/kaggle/working/NB_Model_v1.pt\")"
   ]
  },
  {
   "cell_type": "code",
   "execution_count": null,
   "id": "ccab1307",
   "metadata": {
    "execution": {
     "iopub.execute_input": "2023-03-14T18:23:52.919195Z",
     "iopub.status.busy": "2023-03-14T18:23:52.918543Z"
    },
    "papermill": {
     "duration": null,
     "end_time": null,
     "exception": null,
     "start_time": null,
     "status": "pending"
    },
    "tags": []
   },
   "outputs": [],
   "source": [
    "pred_series2 = eval_model(model_BCS)\n"
   ]
  },
  {
   "cell_type": "code",
   "execution_count": null,
   "id": "96dde402",
   "metadata": {
    "papermill": {
     "duration": null,
     "end_time": null,
     "exception": null,
     "start_time": null,
     "status": "pending"
    },
    "tags": []
   },
   "outputs": [],
   "source": [
    "r2_score(train_TS, pred_series2)"
   ]
  },
  {
   "cell_type": "code",
   "execution_count": null,
   "id": "084ca880",
   "metadata": {
    "papermill": {
     "duration": null,
     "end_time": null,
     "exception": null,
     "start_time": null,
     "status": "pending"
    },
    "tags": []
   },
   "outputs": [],
   "source": [
    "mae(train_TS, pred_series2)"
   ]
  },
  {
   "cell_type": "code",
   "execution_count": null,
   "id": "8e2dc606",
   "metadata": {
    "papermill": {
     "duration": null,
     "end_time": null,
     "exception": null,
     "start_time": null,
     "status": "pending"
    },
    "tags": []
   },
   "outputs": [],
   "source": [
    "df_Model_NB = pred_series2.pd_dataframe()\n",
    "#df_Model_NB.to_excel(\"pred_series2_Nbeats.xlsx\")\n",
    "df_Target = val.pd_dataframe()\n",
    "df_Target \n",
    "\n",
    "#df_1.plot(subplots=True, figsize=(6, 6),x_compat=True)\n",
    "df_M_3 = pd.merge(df_Model_NB, df_Target, on ='time')\n",
    "df_M_3.plot(subplots=True, figsize=(6, 6),x_compat=True)\n",
    "df_M_3.rename(columns = {'q_x': 'q_Pred', 'Pin_x': 'Pin_Pred', 'H_x': 'H_Pred', 'q_y': 'q_Val', 'Pin_y': 'Pin_Val', 'H_y': 'H_Val'}, inplace = True)\n",
    "df_M_3['q_err'] = df_M_3['q_Pred'] - df_M_3['q_Val']\n",
    "df_M_3['Pin_err'] = df_M_3['Pin_Pred'] - df_M_3['Pin_Val']\n",
    "df_M_3['H_err'] = df_M_3['H_Pred'] - df_M_3['H_Val']\n",
    "df_M_3 =  df_M_3.reset_index(drop=True)\n",
    "df_M_3\n"
   ]
  },
  {
   "cell_type": "code",
   "execution_count": null,
   "id": "069d4c61",
   "metadata": {
    "papermill": {
     "duration": null,
     "end_time": null,
     "exception": null,
     "start_time": null,
     "status": "pending"
    },
    "tags": []
   },
   "outputs": [],
   "source": [
    "#plot each series\n",
    "plt.plot(df_M_3['q_Pred'], label='q_Pred', color='green')\n",
    "plt.plot(df_M_3['q_Val'], label='q_Val', color='blue', linestyle=':')\n",
    "# adding title to the plot\n",
    "plt.title('Vazão Norm',fontsize=14)\n",
    "# adding Label to the x-axis\n",
    "plt.xlabel('Time (sample)',fontsize=14)\n",
    "plt.ylabel('q (m^3/h)',fontsize=14)\n",
    "# adding legend to the curve\n",
    "plt.legend(title='Legend',bbox_to_anchor=(1,1))\n",
    "plt.grid(color='r', linewidth=.5)\n",
    "# setting x-axis values\n",
    "plt.xticks(np.arange(0, 3192, 400))\n",
    "plt.axhline(0) #x-axis line\n",
    "plt.axvline(0) #y-axis line\n",
    "plt.show()"
   ]
  },
  {
   "cell_type": "raw",
   "id": "e393fefa",
   "metadata": {
    "papermill": {
     "duration": null,
     "end_time": null,
     "exception": null,
     "start_time": null,
     "status": "pending"
    },
    "tags": []
   },
   "source": [
    "Erro Vazao"
   ]
  },
  {
   "cell_type": "code",
   "execution_count": null,
   "id": "ebedd692",
   "metadata": {
    "papermill": {
     "duration": null,
     "end_time": null,
     "exception": null,
     "start_time": null,
     "status": "pending"
    },
    "tags": []
   },
   "outputs": [],
   "source": [
    "plt.plot(df_M_3['q_err'], label='Erro Vazao', color='blue')\n",
    "# adding title to the plot\n",
    "plt.title('Erro Vazao',fontsize=14)\n",
    "# adding Label to the x-axis\n",
    "plt.xlabel('Time (sample)',fontsize=14)\n",
    "plt.ylabel('Erro Vazao',fontsize=14)\n",
    "# adding legend to the curve\n",
    "plt.legend(title='Legend', bbox_to_anchor=(1,1))\n",
    "#display plot\n",
    "plt.grid(color='r', linestyle='-', linewidth=.5)\n",
    "# setting x-axis values\n",
    "plt.xticks(np.arange(0, len(df_M_3), 400))\n",
    "plt.tight_layout()\n",
    "plt.axhline(0) #x-axis line\n",
    "plt.axvline(0) #y-axis line\n",
    "plt.show()"
   ]
  },
  {
   "cell_type": "code",
   "execution_count": null,
   "id": "ea264289",
   "metadata": {
    "papermill": {
     "duration": null,
     "end_time": null,
     "exception": null,
     "start_time": null,
     "status": "pending"
    },
    "tags": []
   },
   "outputs": [],
   "source": [
    "plt.hist(df_M_3['q_err'], label='Error_Pred', color='green')\n",
    "# the histogram of the data\n",
    "plt.title('Histogram of Error Vaçao')\n",
    "plt.grid(True)\n",
    "plt.axhline(0) #x-axis line\n",
    "plt.axvline(-.20) #y-axis line\n",
    "plt.show() "
   ]
  },
  {
   "cell_type": "code",
   "execution_count": null,
   "id": "5071fb5d",
   "metadata": {
    "papermill": {
     "duration": null,
     "end_time": null,
     "exception": null,
     "start_time": null,
     "status": "pending"
    },
    "tags": []
   },
   "outputs": [],
   "source": [
    "#plot each series\n",
    "plt.plot(df_M_3['H_Pred'], label='H_Pred', color='green')\n",
    "plt.plot(df_M_3['H_Val'], label='H_Val', color='blue', linestyle=':')\n",
    "# adding title to the plot\n",
    "plt.title('Head Norm',fontsize=14)\n",
    "# adding Label to the x-axis\n",
    "plt.xlabel('Time (sample)',fontsize=14)\n",
    "plt.ylabel('H (m)',fontsize=14)\n",
    "# adding legend to the curve\n",
    "plt.legend(title='Legend',bbox_to_anchor=(1,1))\n",
    "plt.grid(color='r', linewidth=.5)\n",
    "# setting x-axis values\n",
    "plt.xticks(np.arange(0, 3192, 400))\n",
    "plt.axhline(0) #x-axis line\n",
    "plt.axvline(0) #y-axis line\n",
    "plt.show()"
   ]
  },
  {
   "cell_type": "code",
   "execution_count": null,
   "id": "37dec11a",
   "metadata": {
    "papermill": {
     "duration": null,
     "end_time": null,
     "exception": null,
     "start_time": null,
     "status": "pending"
    },
    "tags": []
   },
   "outputs": [],
   "source": [
    "plt.plot(df_M_3['H_err'], label='Erro Head', color='blue')\n",
    "# adding title to the plot\n",
    "plt.title('Erro Head',fontsize=14)\n",
    "# adding Label to the x-axis\n",
    "plt.xlabel('Time (sample)',fontsize=14)\n",
    "plt.ylabel('H',fontsize=14)\n",
    "# adding legend to the curve\n",
    "plt.legend(title='Legend', bbox_to_anchor=(1,1))\n",
    "#display plot\n",
    "plt.grid(color='r', linestyle='-', linewidth=.5)\n",
    "# setting x-axis values\n",
    "plt.xticks(np.arange(0, len(df_M_3), 400))\n",
    "plt.tight_layout()\n",
    "plt.axhline(0) #x-axis line\n",
    "plt.axvline(0) #y-axis line\n",
    "plt.show()"
   ]
  },
  {
   "cell_type": "code",
   "execution_count": null,
   "id": "00ff2042",
   "metadata": {
    "papermill": {
     "duration": null,
     "end_time": null,
     "exception": null,
     "start_time": null,
     "status": "pending"
    },
    "tags": []
   },
   "outputs": [],
   "source": [
    "plt.hist(df_M_3['H_err'], label='Error_Pred', color='green')\n",
    "# the histogram of the data\n",
    "plt.title('Histogram of Error Head')\n",
    "plt.grid(True)\n",
    "plt.axhline(0) #x-axis line\n",
    "plt.axvline(-0.20) #y-axis line\n",
    "plt.show() "
   ]
  },
  {
   "cell_type": "markdown",
   "id": "2eb3a712",
   "metadata": {
    "papermill": {
     "duration": null,
     "end_time": null,
     "exception": null,
     "start_time": null,
     "status": "pending"
    },
    "tags": []
   },
   "source": []
  },
  {
   "cell_type": "code",
   "execution_count": null,
   "id": "e7974991",
   "metadata": {
    "papermill": {
     "duration": null,
     "end_time": null,
     "exception": null,
     "start_time": null,
     "status": "pending"
    },
    "tags": []
   },
   "outputs": [],
   "source": [
    "#plot each series\n",
    "plt.plot(df_M_3['Pin_Pred'], label='Pin_Pred', color='green')\n",
    "plt.plot(df_M_3['Pin_Val'], label='Pin_Val', color='blue', linestyle=':')\n",
    "# adding title to the plot\n",
    "plt.title('Pressao Intake Norm',fontsize=14)\n",
    "# adding Label to the x-axis\n",
    "plt.xlabel('Time (sample)',fontsize=14)\n",
    "plt.ylabel('Pin (Pa)',fontsize=14)\n",
    "# adding legend to the curve\n",
    "plt.legend(title='Legend',bbox_to_anchor=(1,1))\n",
    "plt.grid(color='r', linewidth=.5)\n",
    "# setting x-axis values\n",
    "plt.xticks(np.arange(0, 3192, 400))\n",
    "plt.axhline(0) #x-axis line\n",
    "plt.axvline(0) #y-axis line\n",
    "plt.show()"
   ]
  },
  {
   "cell_type": "code",
   "execution_count": null,
   "id": "f25c1885",
   "metadata": {
    "papermill": {
     "duration": null,
     "end_time": null,
     "exception": null,
     "start_time": null,
     "status": "pending"
    },
    "tags": []
   },
   "outputs": [],
   "source": [
    "plt.plot(df_M_3['Pin_err'], label='Erro Pin', color='blue')\n",
    "# adding title to the plot\n",
    "plt.title('Erro Pressao Intake',fontsize=14)\n",
    "# adding Label to the x-axis\n",
    "plt.xlabel('Time (s)',fontsize=14)\n",
    "plt.ylabel('Pin',fontsize=14)\n",
    "# adding legend to the curve\n",
    "plt.legend(title='Legend', bbox_to_anchor=(1,1))\n",
    "#display plot\n",
    "plt.grid(color='r', linestyle='-', linewidth=.5)\n",
    "# setting x-axis values\n",
    "plt.xticks(np.arange(0, len(df_M_3), 400))\n",
    "plt.tight_layout()\n",
    "plt.axhline(0) #x-axis line\n",
    "plt.axvline(0) #y-axis line\n",
    "plt.show()"
   ]
  },
  {
   "cell_type": "code",
   "execution_count": null,
   "id": "0dde6132",
   "metadata": {
    "papermill": {
     "duration": null,
     "end_time": null,
     "exception": null,
     "start_time": null,
     "status": "pending"
    },
    "tags": []
   },
   "outputs": [],
   "source": [
    "plt.hist(df_M_3['Pin_err'], label='Error_Pred', color='green')\n",
    "# the histogram of the data\n",
    "plt.title('Histogram of Error Pressao Intake')\n",
    "plt.grid(True)\n",
    "plt.axhline(0) #x-axis line\n",
    "plt.axvline(-.2) #y-axis line\n",
    "plt.show() "
   ]
  },
  {
   "cell_type": "markdown",
   "id": "218a77f5",
   "metadata": {
    "papermill": {
     "duration": null,
     "end_time": null,
     "exception": null,
     "start_time": null,
     "status": "pending"
    },
    "tags": []
   },
   "source": []
  },
  {
   "cell_type": "code",
   "execution_count": null,
   "id": "5b20fed2",
   "metadata": {
    "papermill": {
     "duration": null,
     "end_time": null,
     "exception": null,
     "start_time": null,
     "status": "pending"
    },
    "tags": []
   },
   "outputs": [],
   "source": [
    "#shap_explain = ShapExplainer(NBS_model)\n",
    "#shap_explain.summary_plot()"
   ]
  },
  {
   "cell_type": "code",
   "execution_count": null,
   "id": "5475d67d",
   "metadata": {
    "papermill": {
     "duration": null,
     "end_time": null,
     "exception": null,
     "start_time": null,
     "status": "pending"
    },
    "tags": []
   },
   "outputs": [],
   "source": [
    "my_model = BlockRNNModel(\n",
    "    model=\"GRU\",\n",
    "    hidden_dim=20,\n",
    "    dropout=0.2,\n",
    "    batch_size=16,\n",
    "    n_epochs=300,\n",
    "    pl_trainer_kwargs={\"accelerator\": \"gpu\", \"devices\": [0]},\n",
    "    model_name=\"BCS_PinH_RNN\",\n",
    "    input_chunk_length=10,\n",
    "    output_chunk_length=10, \n",
    "    force_reset=True,\n",
    ")"
   ]
  },
  {
   "cell_type": "code",
   "execution_count": null,
   "id": "2f2ef407",
   "metadata": {
    "papermill": {
     "duration": null,
     "end_time": null,
     "exception": null,
     "start_time": null,
     "status": "pending"
    },
    "tags": []
   },
   "outputs": [],
   "source": [
    "my_model.fit(train_TS,\n",
    "            past_covariates= f_TS.stack(Zc_TS), \n",
    "            verbose=False,\n",
    "            epochs = 600)"
   ]
  },
  {
   "cell_type": "code",
   "execution_count": null,
   "id": "24929f5c",
   "metadata": {
    "papermill": {
     "duration": null,
     "end_time": null,
     "exception": null,
     "start_time": null,
     "status": "pending"
    },
    "tags": []
   },
   "outputs": [],
   "source": [
    "Predict_RM = eval_model(my_model)"
   ]
  },
  {
   "cell_type": "code",
   "execution_count": null,
   "id": "156ec0ae",
   "metadata": {
    "papermill": {
     "duration": null,
     "end_time": null,
     "exception": null,
     "start_time": null,
     "status": "pending"
    },
    "tags": []
   },
   "outputs": [],
   "source": [
    "Predict_RM"
   ]
  },
  {
   "cell_type": "code",
   "execution_count": null,
   "id": "053de3d0",
   "metadata": {
    "papermill": {
     "duration": null,
     "end_time": null,
     "exception": null,
     "start_time": null,
     "status": "pending"
    },
    "tags": []
   },
   "outputs": [],
   "source": [
    "r2_score(train_TS, Predict_RM)"
   ]
  },
  {
   "cell_type": "code",
   "execution_count": null,
   "id": "71f65607",
   "metadata": {
    "papermill": {
     "duration": null,
     "end_time": null,
     "exception": null,
     "start_time": null,
     "status": "pending"
    },
    "tags": []
   },
   "outputs": [],
   "source": [
    "mae(train_TS, Predict_RM)"
   ]
  },
  {
   "cell_type": "code",
   "execution_count": null,
   "id": "ad6e0240",
   "metadata": {
    "papermill": {
     "duration": null,
     "end_time": null,
     "exception": null,
     "start_time": null,
     "status": "pending"
    },
    "tags": []
   },
   "outputs": [],
   "source": [
    "my_model.save(\"my_model_v1_GRU.pt\")"
   ]
  },
  {
   "cell_type": "code",
   "execution_count": null,
   "id": "7f505de8",
   "metadata": {
    "papermill": {
     "duration": null,
     "end_time": null,
     "exception": null,
     "start_time": null,
     "status": "pending"
    },
    "tags": []
   },
   "outputs": [],
   "source": [
    "df_Model_RM = Predict_RM.pd_dataframe()\n",
    "df_Model_RM.to_excel(\"pred_series2_RNN80N.xlsx\")\n",
    "df_Target = val.pd_dataframe()\n",
    "df_Target \n",
    "\n",
    "#df_1.plot(subplots=True, figsize=(6, 6),x_compat=True)\n",
    "df_M_4 = pd.merge(df_Model_RM, df_Target, on ='time')\n",
    "df_M_4.plot(subplots=True, figsize=(6, 6),x_compat=True)\n",
    "df_M_4.rename(columns = {'q_x': 'q_Pred', 'Pin_x': 'Pin_Pred', 'H_x': 'H_Pred', 'q_y': 'q_Val', 'Pin_y': 'Pin_Val', 'H_y': 'H_Val'}, inplace = True)\n",
    "df_M_4['q_err'] = df_M_4['q_Pred'] - df_M_4['q_Val']\n",
    "df_M_4['Pin_err'] = df_M_4['Pin_Pred'] - df_M_4['Pin_Val']\n",
    "df_M_4['H_err'] = df_M_4['H_Pred'] - df_M_4['H_Val']\n",
    "df_M_4 =  df_M_4.reset_index(drop=True)\n",
    "df_M_4"
   ]
  },
  {
   "cell_type": "code",
   "execution_count": null,
   "id": "3235108f",
   "metadata": {
    "papermill": {
     "duration": null,
     "end_time": null,
     "exception": null,
     "start_time": null,
     "status": "pending"
    },
    "tags": []
   },
   "outputs": [],
   "source": [
    "#plot each series\n",
    "plt.plot(df_M_4['q_Pred'], label='q_Pred', color='green')\n",
    "plt.plot(df_M_4['q_Val'], label='q_Val', color='blue', linestyle=':')\n",
    "# adding title to the plot\n",
    "plt.title('Vazao Norm',fontsize=14)\n",
    "# adding Label to the x-axis\n",
    "plt.xlabel('Time (sample)',fontsize=14)\n",
    "plt.ylabel('Vazao (m^3/h)',fontsize=14)\n",
    "# adding legend to the curve\n",
    "plt.legend(title='Legend',bbox_to_anchor=(1,1))\n",
    "plt.grid(color='r', linewidth=.05)\n",
    "# setting x-axis values\n",
    "plt.xticks(np.arange(0, 3192, 400))\n",
    "plt.axhline(0) #x-axis line\n",
    "plt.axvline(0) #y-axis line\n",
    "plt.show()"
   ]
  },
  {
   "cell_type": "code",
   "execution_count": null,
   "id": "61090881",
   "metadata": {
    "papermill": {
     "duration": null,
     "end_time": null,
     "exception": null,
     "start_time": null,
     "status": "pending"
    },
    "tags": []
   },
   "outputs": [],
   "source": [
    "plt.plot(df_M_4['q_err'], label='Erro Vazao', color='blue')\n",
    "# adding title to the plot\n",
    "plt.title('Erro Vazao',fontsize=14)\n",
    "# adding Label to the x-axis\n",
    "plt.xlabel('Time (s)',fontsize=14)\n",
    "plt.ylabel('q',fontsize=14)\n",
    "# adding legend to the curve\n",
    "plt.legend(title='Legend', bbox_to_anchor=(1,1))\n",
    "#display plot\n",
    "plt.grid(color='r', linewidth=.5)\n",
    "# setting x-axis values\n",
    "plt.xticks(np.arange(0, len(df_M_4), 400))\n",
    "plt.tight_layout()\n",
    "plt.axhline(0) #x-axis line\n",
    "plt.axvline(0) #y-axis line\n",
    "plt.show()"
   ]
  },
  {
   "cell_type": "code",
   "execution_count": null,
   "id": "971371a0",
   "metadata": {
    "papermill": {
     "duration": null,
     "end_time": null,
     "exception": null,
     "start_time": null,
     "status": "pending"
    },
    "tags": []
   },
   "outputs": [],
   "source": [
    "plt.hist(df_M_4['q_err'], label='Error_Pred', color='green')\n",
    "# the histogram of the data\n",
    "plt.title('Histogram of Error Vazao')\n",
    "plt.grid(True)\n",
    "plt.axhline(0) #x-axis line\n",
    "plt.axvline(-.20) #y-axis line\n",
    "plt.show() "
   ]
  },
  {
   "cell_type": "code",
   "execution_count": null,
   "id": "1cf5083a",
   "metadata": {
    "papermill": {
     "duration": null,
     "end_time": null,
     "exception": null,
     "start_time": null,
     "status": "pending"
    },
    "tags": []
   },
   "outputs": [],
   "source": [
    "#plot each series\n",
    "plt.plot(df_M_4['H_Pred'], label='H_Pred', color='green')\n",
    "plt.plot(df_M_4['H_Val'], label='H_Val', color='blue')\n",
    "# adding title to the plot\n",
    "plt.title('Head Norm',fontsize=14)\n",
    "# adding Label to the x-axis\n",
    "plt.xlabel('Time (sample)',fontsize=14)\n",
    "plt.ylabel('H (m)',fontsize=14)\n",
    "# adding legend to the curve\n",
    "plt.legend(title='Legend',bbox_to_anchor=(1,1))\n",
    "plt.grid(color='r', linestyle='-', linewidth=.05)\n",
    "# setting x-axis values\n",
    "plt.xticks(np.arange(0, 3192, 400))\n",
    "plt.axhline(0) #x-axis line\n",
    "plt.axvline(0) #y-axis line\n",
    "plt.show()"
   ]
  },
  {
   "cell_type": "code",
   "execution_count": null,
   "id": "872df7db",
   "metadata": {
    "papermill": {
     "duration": null,
     "end_time": null,
     "exception": null,
     "start_time": null,
     "status": "pending"
    },
    "tags": []
   },
   "outputs": [],
   "source": [
    "plt.plot(df_M_4['H_err'], label='Erro Head', color='blue')\n",
    "# adding title to the plot\n",
    "plt.title('Erro Head',fontsize=14)\n",
    "# adding Label to the x-axis\n",
    "plt.xlabel('Time (sample)',fontsize=14)\n",
    "plt.ylabel('H',fontsize=14)\n",
    "# adding legend to the curve\n",
    "plt.legend(title='Legend', bbox_to_anchor=(1,1))\n",
    "#display plot\n",
    "plt.grid(color='r', linestyle='-', linewidth=.5)\n",
    "# setting x-axis values\n",
    "plt.xticks(np.arange(0, len(df_M_4), 400))\n",
    "plt.tight_layout()\n",
    "plt.axhline(0) #x-axis line\n",
    "plt.axvline(0) #y-axis line\n",
    "plt.show()"
   ]
  },
  {
   "cell_type": "code",
   "execution_count": null,
   "id": "0e6d6cb9",
   "metadata": {
    "papermill": {
     "duration": null,
     "end_time": null,
     "exception": null,
     "start_time": null,
     "status": "pending"
    },
    "tags": []
   },
   "outputs": [],
   "source": [
    "plt.hist(df_M_4['H_err'], label='Error_Pred', color='green')\n",
    "# the histogram of the data\n",
    "plt.title('Histogram of Error Head')\n",
    "plt.grid(True)\n",
    "plt.axhline(0) #x-axis line\n",
    "plt.axvline(-.20) #y-axis line\n",
    "plt.show() "
   ]
  },
  {
   "cell_type": "code",
   "execution_count": null,
   "id": "53c6c621",
   "metadata": {
    "papermill": {
     "duration": null,
     "end_time": null,
     "exception": null,
     "start_time": null,
     "status": "pending"
    },
    "tags": []
   },
   "outputs": [],
   "source": [
    "#plot each series\n",
    "plt.plot(df_M_4['Pin_Pred'], label='Pin_Pred', color='green')\n",
    "plt.plot(df_M_4['Pin_Val'], label='Pin_Val', color='blue')\n",
    "# adding title to the plot\n",
    "plt.title('Pressao Intake Norm',fontsize=14)\n",
    "# adding Label to the x-axis\n",
    "plt.xlabel('Time (sample)',fontsize=14)\n",
    "plt.ylabel('Pressao (Pa)',fontsize=14)\n",
    "# adding legend to the curve\n",
    "plt.legend(title='Legend',bbox_to_anchor=(1,1))\n",
    "plt.grid(color='r', linewidth=.5)\n",
    "# setting x-axis values\n",
    "plt.xticks(np.arange(0, 3192, 400))\n",
    "plt.axhline(0) #x-axis line\n",
    "plt.axvline(0) #y-axis line\n",
    "plt.show()"
   ]
  },
  {
   "cell_type": "code",
   "execution_count": null,
   "id": "64a782b2",
   "metadata": {
    "papermill": {
     "duration": null,
     "end_time": null,
     "exception": null,
     "start_time": null,
     "status": "pending"
    },
    "tags": []
   },
   "outputs": [],
   "source": [
    "plt.plot(df_M_4['Pin_err'], label='Erro Pin', color='blue')\n",
    "# adding title to the plot\n",
    "plt.title('Erro Pressao Intake',fontsize=14)\n",
    "# adding Label to the x-axis\n",
    "plt.xlabel('Time (s)',fontsize=14)\n",
    "plt.ylabel('Pin',fontsize=14)\n",
    "# adding legend to the curve\n",
    "plt.legend(title='Legend', bbox_to_anchor=(1,1))\n",
    "#display plot\n",
    "plt.grid(color='r', linestyle='-', linewidth=.5)\n",
    "# setting x-axis values\n",
    "plt.xticks(np.arange(0, len(df_M_4), 400))\n",
    "plt.tight_layout()\n",
    "plt.axhline(0) #x-axis line\n",
    "plt.axvline(0) #y-axis line\n",
    "plt.show()"
   ]
  },
  {
   "cell_type": "code",
   "execution_count": null,
   "id": "c5e0600e",
   "metadata": {
    "papermill": {
     "duration": null,
     "end_time": null,
     "exception": null,
     "start_time": null,
     "status": "pending"
    },
    "tags": []
   },
   "outputs": [],
   "source": [
    "plt.hist(df_M_4['Pin_err'], label='Error_Pred', color='green')\n",
    "# the histogram of the data\n",
    "plt.title('Histogram of Error Pressao Intake')\n",
    "plt.grid(True)\n",
    "plt.axhline(0) #x-axis line\n",
    "plt.axvline(-0.2) #y-axis line\n",
    "plt.show() "
   ]
  },
  {
   "cell_type": "code",
   "execution_count": null,
   "id": "2d3e825c",
   "metadata": {
    "papermill": {
     "duration": null,
     "end_time": null,
     "exception": null,
     "start_time": null,
     "status": "pending"
    },
    "tags": []
   },
   "outputs": [],
   "source": [
    "train_TS.width"
   ]
  },
  {
   "cell_type": "code",
   "execution_count": null,
   "id": "7c1295bb",
   "metadata": {
    "papermill": {
     "duration": null,
     "end_time": null,
     "exception": null,
     "start_time": null,
     "status": "pending"
    },
    "tags": []
   },
   "outputs": [],
   "source": [
    "deeptcn.save(\"my_model_TCN.pt\")"
   ]
  },
  {
   "cell_type": "code",
   "execution_count": null,
   "id": "6c1f0720",
   "metadata": {
    "papermill": {
     "duration": null,
     "end_time": null,
     "exception": null,
     "start_time": null,
     "status": "pending"
    },
    "tags": []
   },
   "outputs": [],
   "source": [
    "deeptcn = TCNModel(\n",
    "    input_chunk_length=15,\n",
    "    output_chunk_length=10,\n",
    "    kernel_size=2,\n",
    "    num_filters=4,\n",
    "    dilation_base=2,\n",
    "    dropout=0.2,\n",
    "    random_state=0,\n",
    "    likelihood=GaussianLikelihood(),\n",
    "    pl_trainer_kwargs={\"accelerator\": \"gpu\", \"devices\": [0]},\n",
    ")\n",
    "\n",
    "deeptcn.fit(train_TS, past_covariates=f_TS.stack(Zc_TS), verbose=False)\n"
   ]
  },
  {
   "cell_type": "markdown",
   "id": "3e883620",
   "metadata": {
    "papermill": {
     "duration": null,
     "end_time": null,
     "exception": null,
     "start_time": null,
     "status": "pending"
    },
    "tags": []
   },
   "source": []
  },
  {
   "cell_type": "code",
   "execution_count": null,
   "id": "2701f0b9",
   "metadata": {
    "papermill": {
     "duration": null,
     "end_time": null,
     "exception": null,
     "start_time": null,
     "status": "pending"
    },
    "tags": []
   },
   "outputs": [],
   "source": [
    "Predict_TCM = eval_model(model_TCM)"
   ]
  },
  {
   "cell_type": "code",
   "execution_count": null,
   "id": "866ad7c2",
   "metadata": {
    "papermill": {
     "duration": null,
     "end_time": null,
     "exception": null,
     "start_time": null,
     "status": "pending"
    },
    "tags": []
   },
   "outputs": [],
   "source": [
    "r2_score(train_TS, Predict_TCM)"
   ]
  },
  {
   "cell_type": "code",
   "execution_count": null,
   "id": "902e7d56",
   "metadata": {
    "papermill": {
     "duration": null,
     "end_time": null,
     "exception": null,
     "start_time": null,
     "status": "pending"
    },
    "tags": []
   },
   "outputs": [],
   "source": [
    "mae(train_TS, Predict_TCM)"
   ]
  },
  {
   "cell_type": "code",
   "execution_count": null,
   "id": "dd5a4237",
   "metadata": {
    "papermill": {
     "duration": null,
     "end_time": null,
     "exception": null,
     "start_time": null,
     "status": "pending"
    },
    "tags": []
   },
   "outputs": [],
   "source": [
    "df_Model_TCM = Predict_TCM.pd_dataframe()\n",
    "#df_Model_TCM.to_excel(\"pred_series3_TCM.xlsx\")\n",
    "df_Target = val.pd_dataframe()\n",
    "df_Target \n",
    "\n",
    "#df_1.plot(subplots=True, figsize=(6, 6),x_compat=True)\n",
    "df_M_5 = pd.merge(df_Model_TCM, df_Target, on ='time')\n",
    "df_M_5.plot(subplots=True, figsize=(6, 6),x_compat=True)\n",
    "df_M_5.rename(columns = {'q_x': 'q_Pred', 'Pin_x': 'Pin_Pred', 'H_x': 'H_Pred', 'q_y': 'q_Val', 'Pin_y': 'Pin_Val', 'H_y': 'H_Val'}, inplace = True)\n",
    "df_M_5['q_err'] = df_M_5['q_Pred'] - df_M_5['q_Val']\n",
    "df_M_5['Pin_err'] = df_M_5['Pin_Pred'] - df_M_5['Pin_Val']\n",
    "df_M_5['H_err'] = df_M_5['H_Pred'] - df_M_5['H_Val']\n",
    "df_M_5 =  df_M_5.reset_index(drop=True)\n",
    "df_M_5"
   ]
  },
  {
   "cell_type": "code",
   "execution_count": null,
   "id": "e9d84738",
   "metadata": {
    "papermill": {
     "duration": null,
     "end_time": null,
     "exception": null,
     "start_time": null,
     "status": "pending"
    },
    "tags": []
   },
   "outputs": [],
   "source": [
    "#plot each series\n",
    "plt.plot(df_M_5['q_Pred'], label='q_Pred', color='green')\n",
    "plt.plot(df_M_5['q_Val'], label='q_Val', color='blue', linestyle=':')\n",
    "# adding title to the plot\n",
    "plt.title('Vazao Norm',fontsize=14)\n",
    "# adding Label to the x-axis\n",
    "plt.xlabel('Time (sample)',fontsize=14)\n",
    "plt.ylabel('Vazao (m^3/h)',fontsize=14)\n",
    "# adding legend to the curve\n",
    "plt.legend(title='Legend',bbox_to_anchor=(1,1))\n",
    "plt.grid(color='r', linewidth=.05)\n",
    "# setting x-axis values\n",
    "plt.xticks(np.arange(0, 3192, 400))\n",
    "plt.axhline(0) #x-axis line\n",
    "plt.axvline(0) #y-axis line\n",
    "plt.show()"
   ]
  },
  {
   "cell_type": "code",
   "execution_count": null,
   "id": "dde17b59",
   "metadata": {
    "papermill": {
     "duration": null,
     "end_time": null,
     "exception": null,
     "start_time": null,
     "status": "pending"
    },
    "tags": []
   },
   "outputs": [],
   "source": [
    "plt.plot(df_M_5['q_err'], label='Erro Vazao', color='blue')\n",
    "# adding title to the plot\n",
    "plt.title('Erro Vazao',fontsize=14)\n",
    "# adding Label to the x-axis\n",
    "plt.xlabel('Time (s)',fontsize=14)\n",
    "plt.ylabel('q',fontsize=14)\n",
    "# adding legend to the curve\n",
    "plt.legend(title='Legend', bbox_to_anchor=(1,1))\n",
    "#display plot\n",
    "plt.grid(color='r', linewidth=.5)\n",
    "# setting x-axis values\n",
    "plt.xticks(np.arange(0, len(df_M_5), 400))\n",
    "plt.tight_layout()\n",
    "plt.axhline(0) #x-axis line\n",
    "plt.axvline(0) #y-axis line\n",
    "plt.show()"
   ]
  },
  {
   "cell_type": "code",
   "execution_count": null,
   "id": "b1fee0fc",
   "metadata": {
    "papermill": {
     "duration": null,
     "end_time": null,
     "exception": null,
     "start_time": null,
     "status": "pending"
    },
    "tags": []
   },
   "outputs": [],
   "source": [
    "plt.hist(df_M_5['q_err'], label='Error_Pred', color='green')\n",
    "# the histogram of the data\n",
    "plt.title('Histogram of Error Vaçao')\n",
    "plt.grid(True)\n",
    "plt.axhline(0) #x-axis line\n",
    "plt.axvline(0) #y-axis line\n",
    "plt.show() "
   ]
  },
  {
   "cell_type": "code",
   "execution_count": null,
   "id": "9b8ac145",
   "metadata": {
    "papermill": {
     "duration": null,
     "end_time": null,
     "exception": null,
     "start_time": null,
     "status": "pending"
    },
    "tags": []
   },
   "outputs": [],
   "source": [
    "#plot each series\n",
    "plt.plot(df_M_5['H_Pred'], label='H_Pred', color='green')\n",
    "plt.plot(df_M_5['H_Val'], label='H_Val', color='blue', linestyle=':')\n",
    "# adding title to the plot\n",
    "plt.title('Head Norm',fontsize=14)\n",
    "# adding Label to the x-axis\n",
    "plt.xlabel('Time (sample)',fontsize=14)\n",
    "plt.ylabel('H (m)',fontsize=14)\n",
    "# adding legend to the curve\n",
    "plt.legend(title='Legend',bbox_to_anchor=(1,1))\n",
    "plt.grid(color='r', linewidth=.5)\n",
    "# setting x-axis values\n",
    "plt.xticks(np.arange(0, 3192, 400))\n",
    "plt.axhline(0) #x-axis line\n",
    "plt.axvline(0) #y-axis line\n",
    "plt.show()"
   ]
  },
  {
   "cell_type": "markdown",
   "id": "faefd16c",
   "metadata": {
    "papermill": {
     "duration": null,
     "end_time": null,
     "exception": null,
     "start_time": null,
     "status": "pending"
    },
    "tags": []
   },
   "source": []
  },
  {
   "cell_type": "code",
   "execution_count": null,
   "id": "fc4313b8",
   "metadata": {
    "papermill": {
     "duration": null,
     "end_time": null,
     "exception": null,
     "start_time": null,
     "status": "pending"
    },
    "tags": []
   },
   "outputs": [],
   "source": [
    "plt.plot(df_M_5['H_err'], label='Erro Head', color='blue')\n",
    "# adding title to the plot\n",
    "plt.title('Erro Head',fontsize=14)\n",
    "# adding Label to the x-axis\n",
    "plt.xlabel('Time (sample)',fontsize=14)\n",
    "plt.ylabel('H',fontsize=14)\n",
    "# adding legend to the curve\n",
    "plt.legend(title='Legend', bbox_to_anchor=(1,1))\n",
    "#display plot\n",
    "plt.grid(color='r', linestyle='-', linewidth=.5)\n",
    "# setting x-axis values\n",
    "plt.xticks(np.arange(0, len(df_M_5), 400))\n",
    "plt.tight_layout()\n",
    "plt.axhline(0) #x-axis line\n",
    "plt.axvline(0) #y-axis line\n",
    "plt.show()"
   ]
  },
  {
   "cell_type": "code",
   "execution_count": null,
   "id": "e7affe2a",
   "metadata": {
    "papermill": {
     "duration": null,
     "end_time": null,
     "exception": null,
     "start_time": null,
     "status": "pending"
    },
    "tags": []
   },
   "outputs": [],
   "source": [
    "plt.hist(df_M_5['H_err'], label='Error_Pred', color='green')\n",
    "# the histogram of the data\n",
    "plt.title('Histogram of Error Head')\n",
    "plt.grid(True)\n",
    "plt.axhline(0) #x-axis line\n",
    "plt.axvline(-.3) #y-axis line\n",
    "plt.show() "
   ]
  },
  {
   "cell_type": "code",
   "execution_count": null,
   "id": "f31d9511",
   "metadata": {
    "papermill": {
     "duration": null,
     "end_time": null,
     "exception": null,
     "start_time": null,
     "status": "pending"
    },
    "tags": []
   },
   "outputs": [],
   "source": [
    "#plot each series\n",
    "plt.plot(df_M_5['Pin_Pred'], label='Pin_Pred', color='green')\n",
    "plt.plot(df_M_5['Pin_Val'], label='Pin_Val', color='blue')\n",
    "# adding title to the plot\n",
    "plt.title('Pressao Intake Norm',fontsize=14)\n",
    "# adding Label to the x-axis\n",
    "plt.xlabel('Time (sample)',fontsize=14)\n",
    "plt.ylabel('Pin (Pa)',fontsize=14)\n",
    "# adding legend to the curve\n",
    "plt.legend(title='Legend', bbox_to_anchor=(1,1))\n",
    "plt.grid(color='r', linestyle='-', linewidth=1)\n",
    "# setting x-axis values\n",
    "plt.xticks(np.arange(0, 3192, 400))\n",
    "plt.axhline(0) #x-axis line\n",
    "plt.axvline(0) #y-axis line\n",
    "plt.show()"
   ]
  },
  {
   "cell_type": "code",
   "execution_count": null,
   "id": "906d40cd",
   "metadata": {
    "papermill": {
     "duration": null,
     "end_time": null,
     "exception": null,
     "start_time": null,
     "status": "pending"
    },
    "tags": []
   },
   "outputs": [],
   "source": [
    "plt.hist(df_M_5['Pin_err'], label='Error_Pred', color='green')\n",
    "# the histogram of the data\n",
    "plt.title('Histogram of Error Pressao Intake')\n",
    "plt.grid(True)\n",
    "plt.axhline(0) #x-axis line\n",
    "plt.axvline(-0.3) #y-axis line\n",
    "plt.show() "
   ]
  },
  {
   "cell_type": "code",
   "execution_count": null,
   "id": "1ccac896",
   "metadata": {
    "papermill": {
     "duration": null,
     "end_time": null,
     "exception": null,
     "start_time": null,
     "status": "pending"
    },
    "tags": []
   },
   "outputs": [],
   "source": [
    "plt.plot(df_M_5['Pin_err'], label='Erro Pin', color='blue')\n",
    "# adding title to the plot\n",
    "plt.title('Erro Pressao Intake',fontsize=14)\n",
    "# adding Label to the x-axis\n",
    "plt.xlabel('Time (sample)',fontsize=14)\n",
    "plt.ylabel('Pin',fontsize=14)\n",
    "# adding legend to the curve\n",
    "plt.legend(title='Legend', bbox_to_anchor=(1,1))\n",
    "#display plot\n",
    "plt.grid(color='r', linestyle='-', linewidth=.5)\n",
    "# setting x-axis values\n",
    "plt.xticks(np.arange(0, len(df_M_5), 400))\n",
    "plt.tight_layout()\n",
    "plt.axhline(0) #x-axis line\n",
    "plt.axvline(0) #y-axis line\n",
    "plt.show()"
   ]
  },
  {
   "cell_type": "code",
   "execution_count": null,
   "id": "1c26c551",
   "metadata": {
    "papermill": {
     "duration": null,
     "end_time": null,
     "exception": null,
     "start_time": null,
     "status": "pending"
    },
    "tags": []
   },
   "outputs": [],
   "source": []
  },
  {
   "cell_type": "markdown",
   "id": "31c2e48d",
   "metadata": {
    "papermill": {
     "duration": null,
     "end_time": null,
     "exception": null,
     "start_time": null,
     "status": "pending"
    },
    "tags": []
   },
   "source": [
    "TFF like ESN\n",
    "https://unit8co.github.io/darts/examples/13-TFT-examples.html"
   ]
  },
  {
   "cell_type": "code",
   "execution_count": null,
   "id": "c1db4ba8",
   "metadata": {
    "papermill": {
     "duration": null,
     "end_time": null,
     "exception": null,
     "start_time": null,
     "status": "pending"
    },
    "tags": []
   },
   "outputs": [],
   "source": [
    "# default quantiles for QuantileRegression\n",
    "quantiles = [\n",
    "    0.01,\n",
    "    0.05,\n",
    "    0.1,\n",
    "    0.15,\n",
    "    0.2,\n",
    "    0.25,\n",
    "    0.3,\n",
    "    0.4,\n",
    "    0.5,\n",
    "    0.6,\n",
    "    0.7,\n",
    "    0.75,\n",
    "    0.8,\n",
    "    0.85,\n",
    "    0.9,\n",
    "    0.95,\n",
    "    0.99,\n",
    "]\n",
    "input_chunk_length = 10\n",
    "forecast_horizon = 10\n",
    "\n",
    "my_model = TFTModel(\n",
    "    input_chunk_length=input_chunk_length,\n",
    "    output_chunk_length=forecast_horizon,\n",
    "    hidden_size=64,\n",
    "    lstm_layers=1,\n",
    "    num_attention_heads=4,\n",
    "    dropout=0.1,\n",
    "    batch_size=16,\n",
    "    n_epochs=300,\n",
    "    add_relative_index=False,\n",
    "    add_encoders=None,\n",
    "    likelihood=QuantileRegression(\n",
    "        quantiles=quantiles\n",
    "    ),  # QuantileRegression is set per default\n",
    "    # loss_fn=MSELoss(),\n",
    "    random_state=42,\n",
    ")"
   ]
  },
  {
   "cell_type": "code",
   "execution_count": null,
   "id": "83975657",
   "metadata": {
    "papermill": {
     "duration": null,
     "end_time": null,
     "exception": null,
     "start_time": null,
     "status": "pending"
    },
    "tags": []
   },
   "outputs": [],
   "source": [
    "my_model.fit(train_TS, past_covariates = f_TS.stack(Zc_TS), future_covariates = f_TS.stack(Zc_TS), verbose=False)"
   ]
  },
  {
   "cell_type": "code",
   "execution_count": null,
   "id": "5df0af73",
   "metadata": {
    "papermill": {
     "duration": null,
     "end_time": null,
     "exception": null,
     "start_time": null,
     "status": "pending"
    },
    "tags": []
   },
   "outputs": [],
   "source": [
    "def eval_model(model, n, actual_series, val_series):\n",
    "    num_samples = 10\n",
    "    pred_series = model.predict(n=n, num_samples=num_samples)\n",
    "\n",
    "    # plot actual series\n",
    "    plt.figure(figsize=figsize)\n",
    "    actual_series[: pred_series.end_time()].plot(label=\"actual\")\n",
    "\n",
    "    # plot prediction with quantile ranges\n",
    "    pred_series.plot(\n",
    "        low_quantile=lowest_q, high_quantile=highest_q, label=label_q_outer\n",
    "    )\n",
    "    pred_series.plot(low_quantile=low_q, high_quantile=high_q, label=label_q_inner)\n",
    "\n",
    "    plt.title(\"MAPE: {:.2f}%\".format(mape(val_series, pred_series)))\n",
    "    plt.legend()\n",
    "    return pred_series\n",
    "\n"
   ]
  },
  {
   "cell_type": "code",
   "execution_count": null,
   "id": "11ee592a",
   "metadata": {
    "papermill": {
     "duration": null,
     "end_time": null,
     "exception": null,
     "start_time": null,
     "status": "pending"
    },
    "tags": []
   },
   "outputs": [],
   "source": [
    "pred_seriesTFN = eval_model(my_model, 10, train, val)"
   ]
  },
  {
   "cell_type": "code",
   "execution_count": null,
   "id": "c8ed2d29",
   "metadata": {
    "papermill": {
     "duration": null,
     "end_time": null,
     "exception": null,
     "start_time": null,
     "status": "pending"
    },
    "tags": []
   },
   "outputs": [],
   "source": []
  }
 ],
 "metadata": {
  "kernelspec": {
   "display_name": "Python 3",
   "language": "python",
   "name": "python3"
  },
  "language_info": {
   "codemirror_mode": {
    "name": "ipython",
    "version": 3
   },
   "file_extension": ".py",
   "mimetype": "text/x-python",
   "name": "python",
   "nbconvert_exporter": "python",
   "pygments_lexer": "ipython3",
   "version": "3.7.12"
  },
  "papermill": {
   "default_parameters": {},
   "duration": 278.550803,
   "end_time": "2023-03-15T02:02:50.233636",
   "environment_variables": {},
   "exception": true,
   "input_path": "__notebook__.ipynb",
   "output_path": "__notebook__.ipynb",
   "parameters": {},
   "start_time": "2023-03-15T01:58:11.682833",
   "version": "2.3.4"
  }
 },
 "nbformat": 4,
 "nbformat_minor": 5
}
