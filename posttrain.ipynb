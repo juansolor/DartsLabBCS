{
 "cells": [
  {
   "cell_type": "markdown",
   "id": "c1ae9aa2",
   "metadata": {
    "papermill": {
     "duration": 0.008933,
     "end_time": "2023-02-08T21:26:32.732193",
     "exception": false,
     "start_time": "2023-02-08T21:26:32.723260",
     "status": "completed"
    },
    "tags": []
   },
   "source": [
    "Post Train RNN"
   ]
  },
  {
   "cell_type": "code",
   "execution_count": 1,
   "id": "f15c0e69",
   "metadata": {
    "execution": {
     "iopub.execute_input": "2023-02-08T21:26:32.750070Z",
     "iopub.status.busy": "2023-02-08T21:26:32.749469Z",
     "iopub.status.idle": "2023-02-08T21:26:32.756623Z",
     "shell.execute_reply": "2023-02-08T21:26:32.755551Z"
    },
    "papermill": {
     "duration": 0.020076,
     "end_time": "2023-02-08T21:26:32.759832",
     "exception": false,
     "start_time": "2023-02-08T21:26:32.739756",
     "status": "completed"
    },
    "tags": []
   },
   "outputs": [],
   "source": [
    "#pip install darts"
   ]
  },
  {
   "cell_type": "code",
   "execution_count": 2,
   "id": "3fe6be85",
   "metadata": {
    "execution": {
     "iopub.execute_input": "2023-02-08T21:26:32.777313Z",
     "iopub.status.busy": "2023-02-08T21:26:32.776112Z",
     "iopub.status.idle": "2023-02-08T21:26:32.781306Z",
     "shell.execute_reply": "2023-02-08T21:26:32.780274Z"
    },
    "papermill": {
     "duration": 0.016129,
     "end_time": "2023-02-08T21:26:32.783616",
     "exception": false,
     "start_time": "2023-02-08T21:26:32.767487",
     "status": "completed"
    },
    "tags": []
   },
   "outputs": [],
   "source": [
    "#pip install plotting"
   ]
  },
  {
   "cell_type": "code",
   "execution_count": 3,
   "id": "d179ce49",
   "metadata": {
    "execution": {
     "iopub.execute_input": "2023-02-08T21:26:32.800847Z",
     "iopub.status.busy": "2023-02-08T21:26:32.799876Z",
     "iopub.status.idle": "2023-02-08T21:26:32.906733Z",
     "shell.execute_reply": "2023-02-08T21:26:32.905274Z"
    },
    "papermill": {
     "duration": 0.117976,
     "end_time": "2023-02-08T21:26:32.908916",
     "exception": true,
     "start_time": "2023-02-08T21:26:32.790940",
     "status": "failed"
    },
    "tags": []
   },
   "outputs": [
    {
     "ename": "ModuleNotFoundError",
     "evalue": "No module named 'darts'",
     "output_type": "error",
     "traceback": [
      "\u001b[0;31m---------------------------------------------------------------------------\u001b[0m",
      "\u001b[0;31mModuleNotFoundError\u001b[0m                       Traceback (most recent call last)",
      "\u001b[0;32m/tmp/ipykernel_23/1542853735.py\u001b[0m in \u001b[0;36m<module>\u001b[0;34m\u001b[0m\n\u001b[1;32m     10\u001b[0m \u001b[0;32mimport\u001b[0m \u001b[0mdatetime\u001b[0m\u001b[0;34m\u001b[0m\u001b[0;34m\u001b[0m\u001b[0m\n\u001b[1;32m     11\u001b[0m \u001b[0;34m\u001b[0m\u001b[0m\n\u001b[0;32m---> 12\u001b[0;31m \u001b[0;32mfrom\u001b[0m \u001b[0mdarts\u001b[0m \u001b[0;32mimport\u001b[0m \u001b[0mTimeSeries\u001b[0m\u001b[0;34m\u001b[0m\u001b[0;34m\u001b[0m\u001b[0m\n\u001b[0m\u001b[1;32m     13\u001b[0m \u001b[0;32mfrom\u001b[0m \u001b[0mdarts\u001b[0m\u001b[0;34m.\u001b[0m\u001b[0mmodels\u001b[0m \u001b[0;32mimport\u001b[0m \u001b[0mFFT\u001b[0m\u001b[0;34m,\u001b[0m \u001b[0mAutoARIMA\u001b[0m\u001b[0;34m,\u001b[0m \u001b[0mExponentialSmoothing\u001b[0m\u001b[0;34m,\u001b[0m \u001b[0mTheta\u001b[0m\u001b[0;34m\u001b[0m\u001b[0;34m\u001b[0m\u001b[0m\n\u001b[1;32m     14\u001b[0m \u001b[0;32mfrom\u001b[0m \u001b[0mdarts\u001b[0m\u001b[0;34m.\u001b[0m\u001b[0mmetrics\u001b[0m \u001b[0;32mimport\u001b[0m \u001b[0mmae\u001b[0m\u001b[0;34m,\u001b[0m \u001b[0mrmse\u001b[0m\u001b[0;34m\u001b[0m\u001b[0;34m\u001b[0m\u001b[0m\n",
      "\u001b[0;31mModuleNotFoundError\u001b[0m: No module named 'darts'"
     ]
    }
   ],
   "source": [
    "%load_ext autoreload\n",
    "%autoreload 2\n",
    "%matplotlib inline\n",
    "import sys\n",
    "import os\n",
    "sys.path.append(\"../\") # go to parent dir\n",
    "import pandas as pd\n",
    "import numpy as np\n",
    "import matplotlib.pyplot as plt\n",
    "import datetime\n",
    "\n",
    "from darts import TimeSeries\n",
    "from darts.models import FFT, AutoARIMA, ExponentialSmoothing, Theta\n",
    "from darts.metrics import mae, rmse\n",
    "from darts.utils.missing_values import fill_missing_values\n",
    "from darts.utils.statistics import plot_hist\n",
    "\n",
    "from darts.models import (\n",
    "    RNNModel,\n",
    "    TCNModel,\n",
    "    TransformerModel,\n",
    "    NBEATSModel,\n",
    "    BlockRNNModel,\n",
    "    RegressionModel\n",
    ")\n",
    "\n",
    "import warnings\n",
    "\n",
    "warnings.filterwarnings(\"ignore\")\n",
    "import logging\n",
    "\n",
    "logging.disable(logging.CRITICAL)"
   ]
  },
  {
   "cell_type": "markdown",
   "id": "cdff02b1",
   "metadata": {
    "papermill": {
     "duration": null,
     "end_time": null,
     "exception": null,
     "start_time": null,
     "status": "pending"
    },
    "tags": []
   },
   "source": [
    "Load data teste and models"
   ]
  },
  {
   "cell_type": "code",
   "execution_count": null,
   "id": "aa40ae43",
   "metadata": {
    "execution": {
     "iopub.execute_input": "2023-02-08T19:44:25.759215Z",
     "iopub.status.busy": "2023-02-08T19:44:25.758482Z",
     "iopub.status.idle": "2023-02-08T19:44:26.077342Z",
     "shell.execute_reply": "2023-02-08T19:44:26.076312Z",
     "shell.execute_reply.started": "2023-02-08T19:44:25.759176Z"
    },
    "papermill": {
     "duration": null,
     "end_time": null,
     "exception": null,
     "start_time": null,
     "status": "pending"
    },
    "tags": []
   },
   "outputs": [],
   "source": [
    "DT = pd.read_excel('/kaggle/input/dnbcsteste/DNteste.xlsx', index_col=0)\n",
    "DT.index = pd.to_datetime(DT.index)\n",
    "DT"
   ]
  },
  {
   "cell_type": "code",
   "execution_count": null,
   "id": "45cf1841",
   "metadata": {
    "execution": {
     "iopub.execute_input": "2023-02-08T19:44:26.080826Z",
     "iopub.status.busy": "2023-02-08T19:44:26.079828Z",
     "iopub.status.idle": "2023-02-08T19:44:26.193314Z",
     "shell.execute_reply": "2023-02-08T19:44:26.192410Z",
     "shell.execute_reply.started": "2023-02-08T19:44:26.080778Z"
    },
    "papermill": {
     "duration": null,
     "end_time": null,
     "exception": null,
     "start_time": null,
     "status": "pending"
    },
    "tags": []
   },
   "outputs": [],
   "source": [
    "#train DATA\n",
    "split = 0.5\n",
    "n = len(DT)\n",
    "input_df = DT[0:int(n)] #100% \n",
    "input_df = input_df.transpose()\n",
    "input_df = input_df.drop(['pbh','pwh','fq','Zc.1','I','qc','P','f','Zc'])\n",
    "input_df = input_df[:-1]\n",
    "input_df = input_df.transpose()\n",
    "input_df \n",
    "input_TS = TimeSeries.from_dataframe(input_df) \n",
    "#input_TS['Pin'].plot()\n",
    "target_train_input, target_val_input = input_TS.split_after(split)\n"
   ]
  },
  {
   "cell_type": "code",
   "execution_count": null,
   "id": "1121cc58",
   "metadata": {
    "execution": {
     "iopub.execute_input": "2023-02-08T19:44:26.197665Z",
     "iopub.status.busy": "2023-02-08T19:44:26.197444Z",
     "iopub.status.idle": "2023-02-08T19:44:26.532040Z",
     "shell.execute_reply": "2023-02-08T19:44:26.531141Z",
     "shell.execute_reply.started": "2023-02-08T19:44:26.197638Z"
    },
    "papermill": {
     "duration": null,
     "end_time": null,
     "exception": null,
     "start_time": null,
     "status": "pending"
    },
    "tags": []
   },
   "outputs": [],
   "source": [
    "input_TS['q'].plot()"
   ]
  },
  {
   "cell_type": "markdown",
   "id": "43212357",
   "metadata": {
    "papermill": {
     "duration": null,
     "end_time": null,
     "exception": null,
     "start_time": null,
     "status": "pending"
    },
    "tags": []
   },
   "source": [
    "Separate F and Zc"
   ]
  },
  {
   "cell_type": "code",
   "execution_count": null,
   "id": "5345164a",
   "metadata": {
    "execution": {
     "iopub.execute_input": "2023-02-08T19:44:26.533767Z",
     "iopub.status.busy": "2023-02-08T19:44:26.533497Z",
     "iopub.status.idle": "2023-02-08T19:44:26.855350Z",
     "shell.execute_reply": "2023-02-08T19:44:26.854460Z",
     "shell.execute_reply.started": "2023-02-08T19:44:26.533735Z"
    },
    "papermill": {
     "duration": null,
     "end_time": null,
     "exception": null,
     "start_time": null,
     "status": "pending"
    },
    "tags": []
   },
   "outputs": [],
   "source": [
    "f_df = DT[0:int(n)] #100%\n",
    "f_df = f_df.transpose()\n",
    "f_df = f_df.drop(['pbh','pwh','fq','Zc.1','I','qc','P','Zc','H','Pin','q'])\n",
    "f_df = f_df[:-1]\n",
    "f_df = f_df.transpose()\n",
    "f_df\n",
    "f_TS = TimeSeries.from_dataframe(f_df) \n",
    "f_TS.plot()\n",
    "covf_train_input, covf_val_input = f_TS.split_after(split)"
   ]
  },
  {
   "cell_type": "code",
   "execution_count": null,
   "id": "c97179f9",
   "metadata": {
    "execution": {
     "iopub.execute_input": "2023-02-08T19:44:26.857193Z",
     "iopub.status.busy": "2023-02-08T19:44:26.856902Z",
     "iopub.status.idle": "2023-02-08T19:44:27.173039Z",
     "shell.execute_reply": "2023-02-08T19:44:27.171860Z",
     "shell.execute_reply.started": "2023-02-08T19:44:26.857157Z"
    },
    "papermill": {
     "duration": null,
     "end_time": null,
     "exception": null,
     "start_time": null,
     "status": "pending"
    },
    "tags": []
   },
   "outputs": [],
   "source": [
    "Zc_df = DT[0:int(n)] #100%\n",
    "Zc_df = Zc_df.transpose()\n",
    "Zc_df = Zc_df.drop(['pbh','pwh','fq','Zc.1','I','qc','P','f','H','Pin','q'])\n",
    "Zc_df = Zc_df[:-1]\n",
    "Zc_df = Zc_df.transpose()\n",
    "Zc_df\n",
    "Zc_TS = TimeSeries.from_dataframe(Zc_df) \n",
    "Zc_TS.plot()\n",
    "covZc_train_input, covZc_val_input = Zc_TS.split_after(split)"
   ]
  },
  {
   "cell_type": "markdown",
   "id": "27e76514",
   "metadata": {
    "papermill": {
     "duration": null,
     "end_time": null,
     "exception": null,
     "start_time": null,
     "status": "pending"
    },
    "tags": []
   },
   "source": [
    "Load RN trainig models"
   ]
  },
  {
   "cell_type": "code",
   "execution_count": null,
   "id": "e3165c01",
   "metadata": {
    "execution": {
     "iopub.execute_input": "2023-02-08T19:44:27.177389Z",
     "iopub.status.busy": "2023-02-08T19:44:27.177178Z",
     "iopub.status.idle": "2023-02-08T19:44:27.590930Z",
     "shell.execute_reply": "2023-02-08T19:44:27.589883Z",
     "shell.execute_reply.started": "2023-02-08T19:44:27.177361Z"
    },
    "papermill": {
     "duration": null,
     "end_time": null,
     "exception": null,
     "start_time": null,
     "status": "pending"
    },
    "tags": []
   },
   "outputs": [],
   "source": [
    "model_BRNN = BlockRNNModel.load(\"/kaggle/input/trainrnn/my_model_brnn_T1.pt\")\n",
    "model_RM = RegressionModel.load(\"/kaggle/input/trainrnn/my_model_regression.pkl\")\n",
    "model_NB = NBEATSModel.load(\"/kaggle/input/trainrnn/NBEATSModel_bcs.pt\")"
   ]
  },
  {
   "cell_type": "code",
   "execution_count": null,
   "id": "0d47574a",
   "metadata": {
    "execution": {
     "iopub.execute_input": "2023-02-08T19:44:27.593400Z",
     "iopub.status.busy": "2023-02-08T19:44:27.593152Z",
     "iopub.status.idle": "2023-02-08T19:45:22.378857Z",
     "shell.execute_reply": "2023-02-08T19:45:22.377902Z",
     "shell.execute_reply.started": "2023-02-08T19:44:27.593371Z"
    },
    "papermill": {
     "duration": null,
     "end_time": null,
     "exception": null,
     "start_time": null,
     "status": "pending"
    },
    "tags": []
   },
   "outputs": [],
   "source": [
    "model_NB.fit(\n",
    "    target_train_input,\n",
    "    past_covariates = covf_train_input.stack(covZc_train_input),\n",
    "    verbose = False,\n",
    "    epochs = 100\n",
    ")\n",
    "model_NB.extreme_lags"
   ]
  },
  {
   "cell_type": "code",
   "execution_count": null,
   "id": "9621f7db",
   "metadata": {
    "execution": {
     "iopub.execute_input": "2023-02-08T19:45:48.363868Z",
     "iopub.status.busy": "2023-02-08T19:45:48.362916Z",
     "iopub.status.idle": "2023-02-08T19:45:48.437917Z",
     "shell.execute_reply": "2023-02-08T19:45:48.436963Z",
     "shell.execute_reply.started": "2023-02-08T19:45:48.363829Z"
    },
    "papermill": {
     "duration": null,
     "end_time": null,
     "exception": null,
     "start_time": null,
     "status": "pending"
    },
    "tags": []
   },
   "outputs": [],
   "source": [
    "def eval_model(model):\n",
    "    pred_series = model.predict(n=10)\n",
    "    plt.figure(figsize=(8, 5))\n",
    "    input_TS.plot(label=\"actual\")\n",
    "    pred_series.plot(label=\"forecast\")\n",
    "    plt.title(\"rmse: {:.2f}%\".format(rmse(pred_series, target_val_input)))\n",
    "    plt.legend()\n",
    "    return pred_series"
   ]
  },
  {
   "cell_type": "code",
   "execution_count": null,
   "id": "ef016c91",
   "metadata": {
    "execution": {
     "iopub.execute_input": "2023-02-08T19:45:51.347654Z",
     "iopub.status.busy": "2023-02-08T19:45:51.347362Z",
     "iopub.status.idle": "2023-02-08T19:45:52.096820Z",
     "shell.execute_reply": "2023-02-08T19:45:52.095847Z",
     "shell.execute_reply.started": "2023-02-08T19:45:51.347624Z"
    },
    "papermill": {
     "duration": null,
     "end_time": null,
     "exception": null,
     "start_time": null,
     "status": "pending"
    },
    "tags": []
   },
   "outputs": [],
   "source": [
    "pred_series_NB = eval_model(model_NB)\n"
   ]
  },
  {
   "cell_type": "code",
   "execution_count": null,
   "id": "a3df4fed",
   "metadata": {
    "execution": {
     "iopub.execute_input": "2023-02-08T19:46:05.430804Z",
     "iopub.status.busy": "2023-02-08T19:46:05.430529Z",
     "iopub.status.idle": "2023-02-08T19:46:05.554788Z",
     "shell.execute_reply": "2023-02-08T19:46:05.553497Z",
     "shell.execute_reply.started": "2023-02-08T19:46:05.430774Z"
    },
    "papermill": {
     "duration": null,
     "end_time": null,
     "exception": null,
     "start_time": null,
     "status": "pending"
    },
    "tags": []
   },
   "outputs": [],
   "source": [
    "pred_series_NB\n",
    "e1 = rmse(pred_series_NB, target_val_input)\n",
    "e1"
   ]
  },
  {
   "cell_type": "code",
   "execution_count": null,
   "id": "ca9e0b18",
   "metadata": {
    "execution": {
     "iopub.execute_input": "2023-02-08T20:01:23.160810Z",
     "iopub.status.busy": "2023-02-08T20:01:23.160524Z",
     "iopub.status.idle": "2023-02-08T20:01:24.556536Z",
     "shell.execute_reply": "2023-02-08T20:01:24.555504Z",
     "shell.execute_reply.started": "2023-02-08T20:01:23.160777Z"
    },
    "papermill": {
     "duration": null,
     "end_time": null,
     "exception": null,
     "start_time": null,
     "status": "pending"
    },
    "tags": []
   },
   "outputs": [],
   "source": [
    "df_Model_NB = pred_series_NB.pd_dataframe()\n",
    "\n",
    "df_Target = target_val_input.pd_dataframe()\n",
    "df_Target \n",
    "df_1 = df_Target.iloc[:10,:]\n",
    "df_2 = df_Target.iloc[10:,:]\n",
    "#df_1.plot(subplots=True, figsize=(6, 6),x_compat=True)\n",
    "df_M_1 = pd.merge(df_Model_NB, df_1, on ='time')\n",
    "df_M_1.plot(subplots=True, figsize=(6, 6),x_compat=True)\n",
    "df_M_1.rename(columns = {'q_x': 'q_Pred', 'Pin_x': 'Pin_Pred', 'H_x': 'H_Pred', 'q_y': 'q_Val', 'Pin_y': 'Pin_Val', 'H_y': 'H_Val'}, inplace = True)"
   ]
  },
  {
   "cell_type": "code",
   "execution_count": null,
   "id": "0991c839",
   "metadata": {
    "execution": {
     "iopub.execute_input": "2023-02-08T20:04:24.008779Z",
     "iopub.status.busy": "2023-02-08T20:04:24.008481Z",
     "iopub.status.idle": "2023-02-08T20:04:24.303813Z",
     "shell.execute_reply": "2023-02-08T20:04:24.302047Z",
     "shell.execute_reply.started": "2023-02-08T20:04:24.008746Z"
    },
    "papermill": {
     "duration": null,
     "end_time": null,
     "exception": null,
     "start_time": null,
     "status": "pending"
    },
    "tags": []
   },
   "outputs": [],
   "source": [
    "#plot each series\n",
    "plt.plot(df_M_1['q_Pred'], label='q_Pred', color='green')\n",
    "plt.plot(df_M_1['q_Val'], label='q_Val', color='blue')\n",
    "# adding title to the plot\n",
    "plt.title('Vaçao Norm',fontsize=14)\n",
    "# adding Label to the x-axis\n",
    "plt.xlabel('Time',fontsize=14)\n",
    "# adding legend to the curve\n",
    "plt.legend(title='Legend')\n",
    "#display plot\n",
    "plt.show()"
   ]
  },
  {
   "cell_type": "code",
   "execution_count": null,
   "id": "ab865092",
   "metadata": {
    "execution": {
     "iopub.execute_input": "2023-02-08T20:09:08.083617Z",
     "iopub.status.busy": "2023-02-08T20:09:08.083331Z",
     "iopub.status.idle": "2023-02-08T20:09:08.389845Z",
     "shell.execute_reply": "2023-02-08T20:09:08.388941Z",
     "shell.execute_reply.started": "2023-02-08T20:09:08.083582Z"
    },
    "papermill": {
     "duration": null,
     "end_time": null,
     "exception": null,
     "start_time": null,
     "status": "pending"
    },
    "tags": []
   },
   "outputs": [],
   "source": [
    "#plot each series\n",
    "plt.plot(df_M_1['Pin_Pred'], label='Pin_Pred', color='green')\n",
    "plt.plot(df_M_1['Pin_Val'], label='Pin_Val', color='blue')\n",
    "# adding title to the plot\n",
    "plt.title('Pressao Intake Norm',fontsize=14)\n",
    "# adding Label to the x-axis\n",
    "plt.xlabel('Time',fontsize=14)\n",
    "# adding legend to the curve\n",
    "plt.legend(title='Legend')\n",
    "#display plot\n",
    "plt.show()"
   ]
  },
  {
   "cell_type": "code",
   "execution_count": null,
   "id": "04ab01d9",
   "metadata": {
    "execution": {
     "iopub.execute_input": "2023-02-08T20:11:49.451683Z",
     "iopub.status.busy": "2023-02-08T20:11:49.451411Z",
     "iopub.status.idle": "2023-02-08T20:11:49.740837Z",
     "shell.execute_reply": "2023-02-08T20:11:49.739841Z",
     "shell.execute_reply.started": "2023-02-08T20:11:49.451654Z"
    },
    "papermill": {
     "duration": null,
     "end_time": null,
     "exception": null,
     "start_time": null,
     "status": "pending"
    },
    "tags": []
   },
   "outputs": [],
   "source": [
    "#plot each series\n",
    "plt.plot(df_M_1['H_Pred'], label='H_Pred', color='green')\n",
    "plt.plot(df_M_1['H_Val'], label='H_Val', color='blue')\n",
    "# adding title to the plot\n",
    "plt.title('Head Norm',fontsize=14)\n",
    "# adding Label to the x-axis\n",
    "plt.xlabel('Time',fontsize=14)\n",
    "# adding legend to the curve\n",
    "plt.legend(title='Legend')\n",
    "#display plot\n",
    "plt.show()"
   ]
  },
  {
   "cell_type": "code",
   "execution_count": null,
   "id": "15e0fc9e",
   "metadata": {
    "execution": {
     "iopub.execute_input": "2023-02-08T20:15:12.808393Z",
     "iopub.status.busy": "2023-02-08T20:15:12.808116Z",
     "iopub.status.idle": "2023-02-08T20:15:34.370590Z",
     "shell.execute_reply": "2023-02-08T20:15:34.369768Z",
     "shell.execute_reply.started": "2023-02-08T20:15:12.808362Z"
    },
    "papermill": {
     "duration": null,
     "end_time": null,
     "exception": null,
     "start_time": null,
     "status": "pending"
    },
    "tags": []
   },
   "outputs": [],
   "source": [
    "model_BRNN.fit(\n",
    "    target_train_input,\n",
    "    val_series = target_val_input,\n",
    "    verbose = False,\n",
    "    epochs = 100\n",
    ")\n",
    "\n",
    "def eval_model2(model):\n",
    "    pred_series = model.predict(n=10)\n",
    "    plt.figure(figsize=(8, 5))\n",
    "    input_TS.plot(label=\"actual\")\n",
    "    pred_series.plot(label=\"forecast\")\n",
    "    plt.title(\"rmse: {:.2f}%\".format(rmse(pred_series, target_val_input)))\n",
    "    plt.legend()\n",
    "    return pred_series"
   ]
  },
  {
   "cell_type": "code",
   "execution_count": null,
   "id": "ad0d63e5",
   "metadata": {
    "execution": {
     "iopub.execute_input": "2023-02-08T20:15:34.372657Z",
     "iopub.status.busy": "2023-02-08T20:15:34.372295Z",
     "iopub.status.idle": "2023-02-08T20:15:34.955219Z",
     "shell.execute_reply": "2023-02-08T20:15:34.954372Z",
     "shell.execute_reply.started": "2023-02-08T20:15:34.372617Z"
    },
    "papermill": {
     "duration": null,
     "end_time": null,
     "exception": null,
     "start_time": null,
     "status": "pending"
    },
    "tags": []
   },
   "outputs": [],
   "source": [
    "pred_series_BRNN = eval_model2(model_BRNN)\n",
    "model_BRNN.extreme_lags\n",
    "e2 = rmse(pred_series_BRNN, target_val_input)\n",
    "e2"
   ]
  },
  {
   "cell_type": "code",
   "execution_count": null,
   "id": "5d8b74d8",
   "metadata": {
    "execution": {
     "iopub.execute_input": "2023-02-08T20:26:07.099841Z",
     "iopub.status.busy": "2023-02-08T20:26:07.098757Z",
     "iopub.status.idle": "2023-02-08T20:26:08.220496Z",
     "shell.execute_reply": "2023-02-08T20:26:08.219449Z",
     "shell.execute_reply.started": "2023-02-08T20:26:07.099794Z"
    },
    "papermill": {
     "duration": null,
     "end_time": null,
     "exception": null,
     "start_time": null,
     "status": "pending"
    },
    "tags": []
   },
   "outputs": [],
   "source": [
    "df_Model_NB = pred_series_BRNN.pd_dataframe()\n",
    "\n",
    "df_Target = target_val_input.pd_dataframe()\n",
    "df_Target \n",
    "df_1 = df_Target.iloc[:10,:]\n",
    "df_2 = df_Target.iloc[10:,:]\n",
    "#df_1.plot(subplots=True, figsize=(6, 6),x_compat=True)\n",
    "df_M_2 = pd.merge(df_Model_NB, df_1, on ='time')\n",
    "df_M_2.plot(subplots=True, figsize=(6, 6),x_compat=True)\n",
    "df_M_2.rename(columns = {'q_x': 'q_Pred', 'Pin_x': 'Pin_Pred', 'H_x': 'H_Pred', 'q_y': 'q_Val', 'Pin_y': 'Pin_Val', 'H_y': 'H_Val'}, inplace = True)"
   ]
  },
  {
   "cell_type": "code",
   "execution_count": null,
   "id": "e8932375",
   "metadata": {
    "execution": {
     "iopub.execute_input": "2023-02-08T20:26:53.055742Z",
     "iopub.status.busy": "2023-02-08T20:26:53.055475Z",
     "iopub.status.idle": "2023-02-08T20:26:53.355537Z",
     "shell.execute_reply": "2023-02-08T20:26:53.354694Z",
     "shell.execute_reply.started": "2023-02-08T20:26:53.055712Z"
    },
    "papermill": {
     "duration": null,
     "end_time": null,
     "exception": null,
     "start_time": null,
     "status": "pending"
    },
    "tags": []
   },
   "outputs": [],
   "source": [
    "#plot each series\n",
    "plt.plot(df_M_2['q_Pred'], label='q_Pred', color='green')\n",
    "plt.plot(df_M_2['q_Val'], label='q_Val', color='blue')\n",
    "# adding title to the plot\n",
    "plt.title('Vaçao Norm',fontsize=14)\n",
    "# adding Label to the x-axis\n",
    "plt.xlabel('Time',fontsize=14)\n",
    "# adding legend to the curve\n",
    "plt.legend(title='Legend')\n",
    "#display plot\n",
    "plt.show()\n"
   ]
  },
  {
   "cell_type": "code",
   "execution_count": null,
   "id": "a7bdd2e5",
   "metadata": {
    "execution": {
     "iopub.execute_input": "2023-02-08T20:27:46.243737Z",
     "iopub.status.busy": "2023-02-08T20:27:46.242826Z",
     "iopub.status.idle": "2023-02-08T20:27:46.553806Z",
     "shell.execute_reply": "2023-02-08T20:27:46.552847Z",
     "shell.execute_reply.started": "2023-02-08T20:27:46.243697Z"
    },
    "papermill": {
     "duration": null,
     "end_time": null,
     "exception": null,
     "start_time": null,
     "status": "pending"
    },
    "tags": []
   },
   "outputs": [],
   "source": [
    "#plot each series\n",
    "plt.plot(df_M_2['Pin_Pred'], label='Pin_Pred', color='green')\n",
    "plt.plot(df_M_2['Pin_Val'], label='Pin_Val', color='blue')\n",
    "# adding title to the plot\n",
    "plt.title('Pressao Intake Norm',fontsize=14)\n",
    "# adding Label to the x-axis\n",
    "plt.xlabel('Time',fontsize=14)\n",
    "# adding legend to the curve\n",
    "plt.legend(title='Legend')\n",
    "#display plot\n",
    "plt.show()"
   ]
  },
  {
   "cell_type": "code",
   "execution_count": null,
   "id": "5932cf54",
   "metadata": {
    "execution": {
     "iopub.execute_input": "2023-02-08T20:27:56.828747Z",
     "iopub.status.busy": "2023-02-08T20:27:56.828473Z",
     "iopub.status.idle": "2023-02-08T20:27:57.117825Z",
     "shell.execute_reply": "2023-02-08T20:27:57.116884Z",
     "shell.execute_reply.started": "2023-02-08T20:27:56.828714Z"
    },
    "papermill": {
     "duration": null,
     "end_time": null,
     "exception": null,
     "start_time": null,
     "status": "pending"
    },
    "tags": []
   },
   "outputs": [],
   "source": [
    "#plot each series\n",
    "plt.plot(df_M_2['H_Pred'], label='H_Pred', color='green')\n",
    "plt.plot(df_M_2['H_Val'], label='H_Val', color='blue')\n",
    "# adding title to the plot\n",
    "plt.title('Head Norm',fontsize=14)\n",
    "# adding Label to the x-axis\n",
    "plt.xlabel('Time',fontsize=14)\n",
    "# adding legend to the curve\n",
    "plt.legend(title='Legend')\n",
    "#display plot\n",
    "plt.show()"
   ]
  },
  {
   "cell_type": "markdown",
   "id": "10b534dd",
   "metadata": {
    "papermill": {
     "duration": null,
     "end_time": null,
     "exception": null,
     "start_time": null,
     "status": "pending"
    },
    "tags": []
   },
   "source": [
    "Fit models"
   ]
  },
  {
   "cell_type": "code",
   "execution_count": null,
   "id": "5cfcfa0d",
   "metadata": {
    "papermill": {
     "duration": null,
     "end_time": null,
     "exception": null,
     "start_time": null,
     "status": "pending"
    },
    "tags": []
   },
   "outputs": [],
   "source": [
    "eval_model(model_loaded2)"
   ]
  },
  {
   "cell_type": "code",
   "execution_count": null,
   "id": "af7a7dc6",
   "metadata": {
    "papermill": {
     "duration": null,
     "end_time": null,
     "exception": null,
     "start_time": null,
     "status": "pending"
    },
    "tags": []
   },
   "outputs": [],
   "source": [
    "model_loaded1.fit(\n",
    "    target_train_input,\n",
    "    past_covariates = covf_train_input.stack(covZc_train_input),\n",
    ")\n",
    "model_loaded1.extreme_lags"
   ]
  },
  {
   "cell_type": "markdown",
   "id": "97edcaca",
   "metadata": {
    "papermill": {
     "duration": null,
     "end_time": null,
     "exception": null,
     "start_time": null,
     "status": "pending"
    },
    "tags": []
   },
   "source": []
  },
  {
   "cell_type": "code",
   "execution_count": null,
   "id": "893042d9",
   "metadata": {
    "papermill": {
     "duration": null,
     "end_time": null,
     "exception": null,
     "start_time": null,
     "status": "pending"
    },
    "tags": []
   },
   "outputs": [],
   "source": [
    "def eval_model4(model):\n",
    "    pred_series = model.predict(n=1)\n",
    "    plt.figure(figsize=(8, 5))\n",
    "    input_TS.plot(label=\"actual\")\n",
    "    pred_series.plot(label=\"forecast\")\n",
    "    plt.title(\"rmse: {:.2f}%\".format(rmse(pred_series, target_val_input)))\n",
    "    plt.legend()\n",
    "    plt.savefig('Reg_Model.png')\n",
    "    return pred_series\n",
    "    \n"
   ]
  },
  {
   "cell_type": "code",
   "execution_count": null,
   "id": "61a5818b",
   "metadata": {
    "papermill": {
     "duration": null,
     "end_time": null,
     "exception": null,
     "start_time": null,
     "status": "pending"
    },
    "tags": []
   },
   "outputs": [],
   "source": [
    "df_Model_RM = eval_model4(model_RM)\n",
    "model_RM.extreme_lags"
   ]
  },
  {
   "cell_type": "code",
   "execution_count": null,
   "id": "f3889ee3",
   "metadata": {
    "execution": {
     "iopub.execute_input": "2023-02-08T20:48:24.715453Z",
     "iopub.status.busy": "2023-02-08T20:48:24.715185Z",
     "iopub.status.idle": "2023-02-08T20:48:26.515857Z",
     "shell.execute_reply": "2023-02-08T20:48:26.514849Z",
     "shell.execute_reply.started": "2023-02-08T20:48:24.715424Z"
    },
    "papermill": {
     "duration": null,
     "end_time": null,
     "exception": null,
     "start_time": null,
     "status": "pending"
    },
    "tags": []
   },
   "outputs": [],
   "source": [
    "df_Model_RM = pred_series_NB.pd_dataframe()\n",
    "\n",
    "df_Target = target_val_input.pd_dataframe()\n",
    "df_Target \n",
    "df_1 = df_Target.iloc[:1,:]\n",
    "df_2 = df_Target.iloc[1:,:]\n",
    "#df_1.plot(subplots=True, figsize=(6, 6),x_compat=True)\n",
    "df_M_3 = pd.merge(df_Model_RM, df_1, on ='time')\n",
    "df_M_3.plot(subplots=True, figsize=(6, 6),x_compat=True)\n",
    "df_M_3.rename(columns = {'q_x': 'q_Pred', 'Pin_x': 'Pin_Pred', 'H_x': 'H_Pred', 'q_y': 'q_Val', 'Pin_y': 'Pin_Val', 'H_y': 'H_Val'}, inplace = True)"
   ]
  },
  {
   "cell_type": "code",
   "execution_count": null,
   "id": "8bcc0e33",
   "metadata": {
    "papermill": {
     "duration": null,
     "end_time": null,
     "exception": null,
     "start_time": null,
     "status": "pending"
    },
    "tags": []
   },
   "outputs": [],
   "source": [
    "def HF_model(model, past_covariates=None, future_covariates=None):\n",
    "    # Past and future covariates are optional because they won't always be used in our tests\n",
    "    \n",
    "    # We backtest the model on the last 20% of the flow series, with a horizon of 10 steps:\n",
    "    backtest = model.historical_forecasts(series=flow, \n",
    "                                          past_covariates=past_covariates,\n",
    "                                          future_covariates=future_covariates,\n",
    "                                          start=0.8, \n",
    "                                          retrain=False,\n",
    "                                          verbose=True, \n",
    "                                          forecast_horizon=10)\n",
    "    \n",
    "    flow[-len(backtest)-100:].plot()\n",
    "    backtest.plot(label='backtest (n=10)')\n",
    "    print('Backtest RMSE = {}'.format(rmse(flow, backtest)))"
   ]
  },
  {
   "cell_type": "code",
   "execution_count": null,
   "id": "25c2d21d",
   "metadata": {
    "papermill": {
     "duration": null,
     "end_time": null,
     "exception": null,
     "start_time": null,
     "status": "pending"
    },
    "tags": []
   },
   "outputs": [],
   "source": []
  }
 ],
 "metadata": {
  "kernelspec": {
   "display_name": "Python 3",
   "language": "python",
   "name": "python3"
  },
  "language_info": {
   "codemirror_mode": {
    "name": "ipython",
    "version": 3
   },
   "file_extension": ".py",
   "mimetype": "text/x-python",
   "name": "python",
   "nbconvert_exporter": "python",
   "pygments_lexer": "ipython3",
   "version": "3.7.12"
  },
  "papermill": {
   "default_parameters": {},
   "duration": 10.125145,
   "end_time": "2023-02-08T21:26:33.435944",
   "environment_variables": {},
   "exception": true,
   "input_path": "__notebook__.ipynb",
   "output_path": "__notebook__.ipynb",
   "parameters": {},
   "start_time": "2023-02-08T21:26:23.310799",
   "version": "2.3.4"
  }
 },
 "nbformat": 4,
 "nbformat_minor": 5
}
